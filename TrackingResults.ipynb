{
 "cells": [
  {
   "cell_type": "code",
   "execution_count": 2,
   "metadata": {},
   "outputs": [],
   "source": [
    "import pandas as pd\n",
    "import numpy as np\n",
    "import matplotlib.pyplot as plt\n",
    "import math"
   ]
  },
  {
   "attachments": {},
   "cell_type": "markdown",
   "metadata": {},
   "source": [
    "The image size for all the frames was 704x1248 during inferencing"
   ]
  },
  {
   "attachments": {},
   "cell_type": "markdown",
   "metadata": {},
   "source": [
    "Yolov8 DeepOCSORT Tracking"
   ]
  },
  {
   "cell_type": "code",
   "execution_count": 14,
   "metadata": {},
   "outputs": [
    {
     "data": {
      "text/html": [
       "<div>\n",
       "<style scoped>\n",
       "    .dataframe tbody tr th:only-of-type {\n",
       "        vertical-align: middle;\n",
       "    }\n",
       "\n",
       "    .dataframe tbody tr th {\n",
       "        vertical-align: top;\n",
       "    }\n",
       "\n",
       "    .dataframe thead th {\n",
       "        text-align: right;\n",
       "    }\n",
       "</style>\n",
       "<table border=\"1\" class=\"dataframe\">\n",
       "  <thead>\n",
       "    <tr style=\"text-align: right;\">\n",
       "      <th></th>\n",
       "      <th>num</th>\n",
       "      <th>x</th>\n",
       "      <th>y</th>\n",
       "      <th>h</th>\n",
       "      <th>w</th>\n",
       "    </tr>\n",
       "  </thead>\n",
       "  <tbody>\n",
       "    <tr>\n",
       "      <th>0</th>\n",
       "      <td>0</td>\n",
       "      <td>718</td>\n",
       "      <td>426</td>\n",
       "      <td>13</td>\n",
       "      <td>11</td>\n",
       "    </tr>\n",
       "    <tr>\n",
       "      <th>1</th>\n",
       "      <td>1</td>\n",
       "      <td>719</td>\n",
       "      <td>429</td>\n",
       "      <td>14</td>\n",
       "      <td>14</td>\n",
       "    </tr>\n",
       "    <tr>\n",
       "      <th>2</th>\n",
       "      <td>2</td>\n",
       "      <td>720</td>\n",
       "      <td>432</td>\n",
       "      <td>15</td>\n",
       "      <td>14</td>\n",
       "    </tr>\n",
       "    <tr>\n",
       "      <th>3</th>\n",
       "      <td>3</td>\n",
       "      <td>722</td>\n",
       "      <td>438</td>\n",
       "      <td>14</td>\n",
       "      <td>13</td>\n",
       "    </tr>\n",
       "    <tr>\n",
       "      <th>4</th>\n",
       "      <td>4</td>\n",
       "      <td>723</td>\n",
       "      <td>442</td>\n",
       "      <td>16</td>\n",
       "      <td>15</td>\n",
       "    </tr>\n",
       "    <tr>\n",
       "      <th>...</th>\n",
       "      <td>...</td>\n",
       "      <td>...</td>\n",
       "      <td>...</td>\n",
       "      <td>...</td>\n",
       "      <td>...</td>\n",
       "    </tr>\n",
       "    <tr>\n",
       "      <th>90</th>\n",
       "      <td>90</td>\n",
       "      <td>1015</td>\n",
       "      <td>425</td>\n",
       "      <td>16</td>\n",
       "      <td>16</td>\n",
       "    </tr>\n",
       "    <tr>\n",
       "      <th>91</th>\n",
       "      <td>91</td>\n",
       "      <td>1024</td>\n",
       "      <td>430</td>\n",
       "      <td>14</td>\n",
       "      <td>15</td>\n",
       "    </tr>\n",
       "    <tr>\n",
       "      <th>92</th>\n",
       "      <td>92</td>\n",
       "      <td>1031</td>\n",
       "      <td>435</td>\n",
       "      <td>16</td>\n",
       "      <td>16</td>\n",
       "    </tr>\n",
       "    <tr>\n",
       "      <th>93</th>\n",
       "      <td>93</td>\n",
       "      <td>1040</td>\n",
       "      <td>440</td>\n",
       "      <td>16</td>\n",
       "      <td>16</td>\n",
       "    </tr>\n",
       "    <tr>\n",
       "      <th>94</th>\n",
       "      <td>94</td>\n",
       "      <td>1049</td>\n",
       "      <td>446</td>\n",
       "      <td>15</td>\n",
       "      <td>16</td>\n",
       "    </tr>\n",
       "  </tbody>\n",
       "</table>\n",
       "<p>95 rows × 5 columns</p>\n",
       "</div>"
      ],
      "text/plain": [
       "    num     x    y   h   w\n",
       "0     0   718  426  13  11\n",
       "1     1   719  429  14  14\n",
       "2     2   720  432  15  14\n",
       "3     3   722  438  14  13\n",
       "4     4   723  442  16  15\n",
       "..  ...   ...  ...  ..  ..\n",
       "90   90  1015  425  16  16\n",
       "91   91  1024  430  14  15\n",
       "92   92  1031  435  16  16\n",
       "93   93  1040  440  16  16\n",
       "94   94  1049  446  15  16\n",
       "\n",
       "[95 rows x 5 columns]"
      ]
     },
     "execution_count": 14,
     "metadata": {},
     "output_type": "execute_result"
    }
   ],
   "source": [
    "df = pd.read_csv(\"TestVid2_deepocsort.csv\")\n",
    "df"
   ]
  },
  {
   "cell_type": "code",
   "execution_count": 8,
   "metadata": {},
   "outputs": [
    {
     "data": {
      "text/html": [
       "<div>\n",
       "<style scoped>\n",
       "    .dataframe tbody tr th:only-of-type {\n",
       "        vertical-align: middle;\n",
       "    }\n",
       "\n",
       "    .dataframe tbody tr th {\n",
       "        vertical-align: top;\n",
       "    }\n",
       "\n",
       "    .dataframe thead th {\n",
       "        text-align: right;\n",
       "    }\n",
       "</style>\n",
       "<table border=\"1\" class=\"dataframe\">\n",
       "  <thead>\n",
       "    <tr style=\"text-align: right;\">\n",
       "      <th></th>\n",
       "      <th>label_name</th>\n",
       "      <th>bbox_x</th>\n",
       "      <th>bbox_y</th>\n",
       "      <th>bbox_width</th>\n",
       "      <th>bbox_height</th>\n",
       "      <th>image_name</th>\n",
       "      <th>image_width</th>\n",
       "      <th>image_height</th>\n",
       "    </tr>\n",
       "  </thead>\n",
       "  <tbody>\n",
       "    <tr>\n",
       "      <th>0</th>\n",
       "      <td>ball</td>\n",
       "      <td>710</td>\n",
       "      <td>418</td>\n",
       "      <td>15</td>\n",
       "      <td>14</td>\n",
       "      <td>left002001.png</td>\n",
       "      <td>1280</td>\n",
       "      <td>720</td>\n",
       "    </tr>\n",
       "    <tr>\n",
       "      <th>1</th>\n",
       "      <td>ball</td>\n",
       "      <td>715</td>\n",
       "      <td>419</td>\n",
       "      <td>16</td>\n",
       "      <td>15</td>\n",
       "      <td>left002002.png</td>\n",
       "      <td>1280</td>\n",
       "      <td>720</td>\n",
       "    </tr>\n",
       "    <tr>\n",
       "      <th>2</th>\n",
       "      <td>ball</td>\n",
       "      <td>716</td>\n",
       "      <td>422</td>\n",
       "      <td>15</td>\n",
       "      <td>14</td>\n",
       "      <td>left002003.png</td>\n",
       "      <td>1280</td>\n",
       "      <td>720</td>\n",
       "    </tr>\n",
       "    <tr>\n",
       "      <th>3</th>\n",
       "      <td>ball</td>\n",
       "      <td>717</td>\n",
       "      <td>423</td>\n",
       "      <td>15</td>\n",
       "      <td>15</td>\n",
       "      <td>left002004.png</td>\n",
       "      <td>1280</td>\n",
       "      <td>720</td>\n",
       "    </tr>\n",
       "    <tr>\n",
       "      <th>4</th>\n",
       "      <td>ball</td>\n",
       "      <td>720</td>\n",
       "      <td>428</td>\n",
       "      <td>15</td>\n",
       "      <td>14</td>\n",
       "      <td>left002005.png</td>\n",
       "      <td>1280</td>\n",
       "      <td>720</td>\n",
       "    </tr>\n",
       "    <tr>\n",
       "      <th>...</th>\n",
       "      <td>...</td>\n",
       "      <td>...</td>\n",
       "      <td>...</td>\n",
       "      <td>...</td>\n",
       "      <td>...</td>\n",
       "      <td>...</td>\n",
       "      <td>...</td>\n",
       "      <td>...</td>\n",
       "    </tr>\n",
       "    <tr>\n",
       "      <th>95</th>\n",
       "      <td>ball</td>\n",
       "      <td>1015</td>\n",
       "      <td>428</td>\n",
       "      <td>16</td>\n",
       "      <td>13</td>\n",
       "      <td>left002096.png</td>\n",
       "      <td>1280</td>\n",
       "      <td>720</td>\n",
       "    </tr>\n",
       "    <tr>\n",
       "      <th>96</th>\n",
       "      <td>ball</td>\n",
       "      <td>1026</td>\n",
       "      <td>430</td>\n",
       "      <td>16</td>\n",
       "      <td>15</td>\n",
       "      <td>left002097.png</td>\n",
       "      <td>1280</td>\n",
       "      <td>720</td>\n",
       "    </tr>\n",
       "    <tr>\n",
       "      <th>97</th>\n",
       "      <td>ball</td>\n",
       "      <td>1033</td>\n",
       "      <td>435</td>\n",
       "      <td>17</td>\n",
       "      <td>17</td>\n",
       "      <td>left002098.png</td>\n",
       "      <td>1280</td>\n",
       "      <td>720</td>\n",
       "    </tr>\n",
       "    <tr>\n",
       "      <th>98</th>\n",
       "      <td>ball</td>\n",
       "      <td>1043</td>\n",
       "      <td>441</td>\n",
       "      <td>16</td>\n",
       "      <td>14</td>\n",
       "      <td>left002099.png</td>\n",
       "      <td>1280</td>\n",
       "      <td>720</td>\n",
       "    </tr>\n",
       "    <tr>\n",
       "      <th>99</th>\n",
       "      <td>ball</td>\n",
       "      <td>1050</td>\n",
       "      <td>449</td>\n",
       "      <td>17</td>\n",
       "      <td>15</td>\n",
       "      <td>left002100.png</td>\n",
       "      <td>1280</td>\n",
       "      <td>720</td>\n",
       "    </tr>\n",
       "  </tbody>\n",
       "</table>\n",
       "<p>100 rows × 8 columns</p>\n",
       "</div>"
      ],
      "text/plain": [
       "   label_name  bbox_x  bbox_y  bbox_width  bbox_height      image_name  \\\n",
       "0        ball     710     418          15           14  left002001.png   \n",
       "1        ball     715     419          16           15  left002002.png   \n",
       "2        ball     716     422          15           14  left002003.png   \n",
       "3        ball     717     423          15           15  left002004.png   \n",
       "4        ball     720     428          15           14  left002005.png   \n",
       "..        ...     ...     ...         ...          ...             ...   \n",
       "95       ball    1015     428          16           13  left002096.png   \n",
       "96       ball    1026     430          16           15  left002097.png   \n",
       "97       ball    1033     435          17           17  left002098.png   \n",
       "98       ball    1043     441          16           14  left002099.png   \n",
       "99       ball    1050     449          17           15  left002100.png   \n",
       "\n",
       "    image_width  image_height  \n",
       "0          1280           720  \n",
       "1          1280           720  \n",
       "2          1280           720  \n",
       "3          1280           720  \n",
       "4          1280           720  \n",
       "..          ...           ...  \n",
       "95         1280           720  \n",
       "96         1280           720  \n",
       "97         1280           720  \n",
       "98         1280           720  \n",
       "99         1280           720  \n",
       "\n",
       "[100 rows x 8 columns]"
      ]
     },
     "execution_count": 8,
     "metadata": {},
     "output_type": "execute_result"
    }
   ],
   "source": [
    "df2 = pd.read_csv('GroundTruth.csv', sep=',', delimiter=None)\n",
    "df2"
   ]
  },
  {
   "cell_type": "code",
   "execution_count": 16,
   "metadata": {},
   "outputs": [],
   "source": [
    "width= df2['bbox_width']\n",
    "height= df2['bbox_height']"
   ]
  },
  {
   "cell_type": "code",
   "execution_count": 15,
   "metadata": {},
   "outputs": [
    {
     "data": {
      "image/png": "[encoded data removed]",
      "text/plain": [
       "<Figure size 640x480 with 1 Axes>"
      ]
     },
     "metadata": {},
     "output_type": "display_data"
    }
   ],
   "source": [
    "x1 = df2['bbox_x']\n",
    "y1 = df2['bbox_y']\n",
    "x2 = df['x']\n",
    "y2 = df['y']\n",
    "\n",
    "from matplotlib import markers\n",
    "plt.plot(x1, y1, marker='o', color='red', label='Ground Truth')\n",
    "plt.plot(x2, y2, marker='s', color='green', label='Pred Value')\n",
    "plt.xlabel('Width of the room in Pixels')\n",
    "plt.ylabel('Height of the room in Pixels')\n",
    "plt.legend()\n",
    "plt.show()"
   ]
  },
  {
   "cell_type": "code",
   "execution_count": 21,
   "metadata": {},
   "outputs": [],
   "source": [
    "count = 0\n",
    "for i in range(len(x1)):\n",
    "    predicted_coordinates = list(zip(x2,y2))\n",
    "    ground_coordinates = list(zip(x1,y1))\n",
    "    count += 1"
   ]
  },
  {
   "cell_type": "code",
   "execution_count": 22,
   "metadata": {},
   "outputs": [
    {
     "name": "stdout",
     "output_type": "stream",
     "text": [
      "23.736676605772765\n"
     ]
    }
   ],
   "source": [
    "def avg_displacement_error(predicted, ground_truth):\n",
    "  error = 0\n",
    "  for i in range(len(predicted)):\n",
    "    error += ((predicted[i][0] - ground_truth[i][0]) ** 2 + (predicted[i][1] - ground_truth[i][1]) ** 2) ** 0.5\n",
    "  return error / len(predicted)\n",
    "\n",
    "# predicted_coordinates = [[1, 2], [3, 4], [5, 6], [7, 8]]\n",
    "# ground_truth_coordinates = [[2, 3], [4, 5], [6, 7], [8, 9]]\n",
    "\n",
    "error = avg_displacement_error(predicted_coordinates, ground_coordinates)\n",
    "print(error)\n"
   ]
  },
  {
   "cell_type": "code",
   "execution_count": 20,
   "metadata": {},
   "outputs": [],
   "source": [
    "#Average Mahalanobis Distance (AMD)\n",
    "from scipy.spatial.distance import mahalanobis\n",
    "def avg_mahalanobis_distance(predicted, ground_truth):\n",
    "    \n",
    "    predicted = np.array(predicted)\n",
    "    ground_truth = np.array(ground_truth)\n",
    "    mean_predicted = np.mean(predicted, axis=0)\n",
    "    mean_ground_truth = np.mean(ground_truth, axis=0)\n",
    "    cov_predicted = np.cov(predicted.T)\n",
    "    cov_ground_truth = np.cov(ground_truth.T)\n",
    "    inv_cov_predicted = np.linalg.inv(cov_predicted)\n",
    "    inv_cov_ground_truth = np.linalg.inv(cov_ground_truth)\n",
    "    error = 0\n",
    "    for i in range(len(predicted)):\n",
    "        error += mahalanobis(predicted[i], ground_truth[i], inv_cov_predicted + inv_cov_ground_truth)\n",
    "    return error / len(predicted)\n"
   ]
  },
  {
   "cell_type": "code",
   "execution_count": 8,
   "metadata": {},
   "outputs": [
    {
     "name": "stdout",
     "output_type": "stream",
     "text": [
      "0.7075611410542334\n"
     ]
    }
   ],
   "source": [
    "error = avg_mahalanobis_distance(predicted_coordinates, ground_coordinates)\n",
    "print(error)\n"
   ]
  },
  {
   "attachments": {},
   "cell_type": "markdown",
   "metadata": {},
   "source": [
    "Yolov8 Stronsort"
   ]
  },
  {
   "cell_type": "code",
   "execution_count": 9,
   "metadata": {},
   "outputs": [
    {
     "data": {
      "text/html": [
       "<div>\n",
       "<style scoped>\n",
       "    .dataframe tbody tr th:only-of-type {\n",
       "        vertical-align: middle;\n",
       "    }\n",
       "\n",
       "    .dataframe tbody tr th {\n",
       "        vertical-align: top;\n",
       "    }\n",
       "\n",
       "    .dataframe thead th {\n",
       "        text-align: right;\n",
       "    }\n",
       "</style>\n",
       "<table border=\"1\" class=\"dataframe\">\n",
       "  <thead>\n",
       "    <tr style=\"text-align: right;\">\n",
       "      <th></th>\n",
       "      <th>x</th>\n",
       "      <th>y</th>\n",
       "      <th>h</th>\n",
       "      <th>w</th>\n",
       "    </tr>\n",
       "  </thead>\n",
       "  <tbody>\n",
       "    <tr>\n",
       "      <th>0</th>\n",
       "      <td>744</td>\n",
       "      <td>377</td>\n",
       "      <td>13</td>\n",
       "      <td>13</td>\n",
       "    </tr>\n",
       "    <tr>\n",
       "      <th>1</th>\n",
       "      <td>744</td>\n",
       "      <td>374</td>\n",
       "      <td>14</td>\n",
       "      <td>14</td>\n",
       "    </tr>\n",
       "    <tr>\n",
       "      <th>2</th>\n",
       "      <td>745</td>\n",
       "      <td>372</td>\n",
       "      <td>14</td>\n",
       "      <td>14</td>\n",
       "    </tr>\n",
       "    <tr>\n",
       "      <th>3</th>\n",
       "      <td>747</td>\n",
       "      <td>371</td>\n",
       "      <td>13</td>\n",
       "      <td>14</td>\n",
       "    </tr>\n",
       "    <tr>\n",
       "      <th>4</th>\n",
       "      <td>748</td>\n",
       "      <td>371</td>\n",
       "      <td>14</td>\n",
       "      <td>13</td>\n",
       "    </tr>\n",
       "    <tr>\n",
       "      <th>...</th>\n",
       "      <td>...</td>\n",
       "      <td>...</td>\n",
       "      <td>...</td>\n",
       "      <td>...</td>\n",
       "    </tr>\n",
       "    <tr>\n",
       "      <th>59</th>\n",
       "      <td>1015</td>\n",
       "      <td>425</td>\n",
       "      <td>15</td>\n",
       "      <td>15</td>\n",
       "    </tr>\n",
       "    <tr>\n",
       "      <th>60</th>\n",
       "      <td>1023</td>\n",
       "      <td>429</td>\n",
       "      <td>15</td>\n",
       "      <td>16</td>\n",
       "    </tr>\n",
       "    <tr>\n",
       "      <th>61</th>\n",
       "      <td>1031</td>\n",
       "      <td>435</td>\n",
       "      <td>15</td>\n",
       "      <td>15</td>\n",
       "    </tr>\n",
       "    <tr>\n",
       "      <th>62</th>\n",
       "      <td>1039</td>\n",
       "      <td>439</td>\n",
       "      <td>17</td>\n",
       "      <td>17</td>\n",
       "    </tr>\n",
       "    <tr>\n",
       "      <th>63</th>\n",
       "      <td>1048</td>\n",
       "      <td>445</td>\n",
       "      <td>16</td>\n",
       "      <td>17</td>\n",
       "    </tr>\n",
       "  </tbody>\n",
       "</table>\n",
       "<p>64 rows × 4 columns</p>\n",
       "</div>"
      ],
      "text/plain": [
       "       x    y   h   w\n",
       "0    744  377  13  13\n",
       "1    744  374  14  14\n",
       "2    745  372  14  14\n",
       "3    747  371  13  14\n",
       "4    748  371  14  13\n",
       "..   ...  ...  ..  ..\n",
       "59  1015  425  15  15\n",
       "60  1023  429  15  16\n",
       "61  1031  435  15  15\n",
       "62  1039  439  17  17\n",
       "63  1048  445  16  17\n",
       "\n",
       "[64 rows x 4 columns]"
      ]
     },
     "execution_count": 9,
     "metadata": {},
     "output_type": "execute_result"
    }
   ],
   "source": [
    "df3 = pd.read_csv(\"TestVid2_strongsort.csv\")\n",
    "df3"
   ]
  },
  {
   "cell_type": "code",
   "execution_count": 10,
   "metadata": {},
   "outputs": [
    {
     "data": {
      "image/png": "[encoded data removed]",
      "text/plain": [
       "<Figure size 640x480 with 1 Axes>"
      ]
     },
     "metadata": {},
     "output_type": "display_data"
    }
   ],
   "source": [
    "x3=df3['x']\n",
    "y3 = df3['y']\n",
    "from matplotlib import markers\n",
    "plt.plot(x1, y1, marker='o', color='red', label='Ground Truth')\n",
    "plt.plot(x3, y3, marker='s', color='green', label='Pred Value')\n",
    "plt.xlabel('Width of the room in Pixels')\n",
    "plt.ylabel('Height of the room in Pixels')\n",
    "plt.legend()\n",
    "plt.show()"
   ]
  },
  {
   "cell_type": "code",
   "execution_count": 11,
   "metadata": {},
   "outputs": [],
   "source": [
    "count = 0\n",
    "for i in range(len(x1)):\n",
    "    predicted_coordinates2 = list(zip(x3,y3))\n",
    "    ground_coordinates = list(zip(x1,y1))\n",
    "    count += 1"
   ]
  },
  {
   "cell_type": "code",
   "execution_count": 12,
   "metadata": {},
   "outputs": [
    {
     "name": "stdout",
     "output_type": "stream",
     "text": [
      "100.59208982498524\n"
     ]
    }
   ],
   "source": [
    "def avg_displacement_error(predicted, ground_truth):\n",
    "  error = 0\n",
    "  for i in range(len(predicted)):\n",
    "    error += ((predicted[i][0] - ground_truth[i][0]) ** 2 + (predicted[i][1] - ground_truth[i][1]) ** 2) ** 0.5\n",
    "  return error / len(predicted)\n",
    "\n",
    "# predicted_coordinates = [[1, 2], [3, 4], [5, 6], [7, 8]]\n",
    "# ground_truth_coordinates = [[2, 3], [4, 5], [6, 7], [8, 9]]\n",
    "\n",
    "error = avg_displacement_error(predicted_coordinates2, ground_coordinates)\n",
    "print(error)\n"
   ]
  },
  {
   "cell_type": "code",
   "execution_count": 13,
   "metadata": {},
   "outputs": [
    {
     "name": "stdout",
     "output_type": "stream",
     "text": [
      "2.8563307693159654\n"
     ]
    }
   ],
   "source": [
    "error = avg_mahalanobis_distance(predicted_coordinates2, ground_coordinates)\n",
    "print(error)\n"
   ]
  },
  {
   "attachments": {},
   "cell_type": "markdown",
   "metadata": {},
   "source": [
    "yolov8 ocsort Tracking"
   ]
  },
  {
   "cell_type": "code",
   "execution_count": 14,
   "metadata": {},
   "outputs": [
    {
     "data": {
      "text/html": [
       "<div>\n",
       "<style scoped>\n",
       "    .dataframe tbody tr th:only-of-type {\n",
       "        vertical-align: middle;\n",
       "    }\n",
       "\n",
       "    .dataframe tbody tr th {\n",
       "        vertical-align: top;\n",
       "    }\n",
       "\n",
       "    .dataframe thead th {\n",
       "        text-align: right;\n",
       "    }\n",
       "</style>\n",
       "<table border=\"1\" class=\"dataframe\">\n",
       "  <thead>\n",
       "    <tr style=\"text-align: right;\">\n",
       "      <th></th>\n",
       "      <th>xmin</th>\n",
       "      <th>ymin</th>\n",
       "      <th>width</th>\n",
       "      <th>height</th>\n",
       "    </tr>\n",
       "  </thead>\n",
       "  <tbody>\n",
       "    <tr>\n",
       "      <th>0</th>\n",
       "      <td>718</td>\n",
       "      <td>426</td>\n",
       "      <td>13</td>\n",
       "      <td>11</td>\n",
       "    </tr>\n",
       "    <tr>\n",
       "      <th>1</th>\n",
       "      <td>719</td>\n",
       "      <td>429</td>\n",
       "      <td>14</td>\n",
       "      <td>14</td>\n",
       "    </tr>\n",
       "    <tr>\n",
       "      <th>2</th>\n",
       "      <td>720</td>\n",
       "      <td>432</td>\n",
       "      <td>15</td>\n",
       "      <td>14</td>\n",
       "    </tr>\n",
       "    <tr>\n",
       "      <th>3</th>\n",
       "      <td>722</td>\n",
       "      <td>438</td>\n",
       "      <td>14</td>\n",
       "      <td>13</td>\n",
       "    </tr>\n",
       "    <tr>\n",
       "      <th>4</th>\n",
       "      <td>723</td>\n",
       "      <td>442</td>\n",
       "      <td>16</td>\n",
       "      <td>15</td>\n",
       "    </tr>\n",
       "    <tr>\n",
       "      <th>...</th>\n",
       "      <td>...</td>\n",
       "      <td>...</td>\n",
       "      <td>...</td>\n",
       "      <td>...</td>\n",
       "    </tr>\n",
       "    <tr>\n",
       "      <th>70</th>\n",
       "      <td>1015</td>\n",
       "      <td>425</td>\n",
       "      <td>16</td>\n",
       "      <td>16</td>\n",
       "    </tr>\n",
       "    <tr>\n",
       "      <th>71</th>\n",
       "      <td>1024</td>\n",
       "      <td>430</td>\n",
       "      <td>14</td>\n",
       "      <td>15</td>\n",
       "    </tr>\n",
       "    <tr>\n",
       "      <th>72</th>\n",
       "      <td>1031</td>\n",
       "      <td>435</td>\n",
       "      <td>16</td>\n",
       "      <td>16</td>\n",
       "    </tr>\n",
       "    <tr>\n",
       "      <th>73</th>\n",
       "      <td>1040</td>\n",
       "      <td>440</td>\n",
       "      <td>16</td>\n",
       "      <td>16</td>\n",
       "    </tr>\n",
       "    <tr>\n",
       "      <th>74</th>\n",
       "      <td>1049</td>\n",
       "      <td>446</td>\n",
       "      <td>15</td>\n",
       "      <td>16</td>\n",
       "    </tr>\n",
       "  </tbody>\n",
       "</table>\n",
       "<p>75 rows × 4 columns</p>\n",
       "</div>"
      ],
      "text/plain": [
       "    xmin  ymin  width  height\n",
       "0    718   426     13      11\n",
       "1    719   429     14      14\n",
       "2    720   432     15      14\n",
       "3    722   438     14      13\n",
       "4    723   442     16      15\n",
       "..   ...   ...    ...     ...\n",
       "70  1015   425     16      16\n",
       "71  1024   430     14      15\n",
       "72  1031   435     16      16\n",
       "73  1040   440     16      16\n",
       "74  1049   446     15      16\n",
       "\n",
       "[75 rows x 4 columns]"
      ]
     },
     "execution_count": 14,
     "metadata": {},
     "output_type": "execute_result"
    }
   ],
   "source": [
    "df4 = pd.read_csv(\"img1248\\TestVid2_ocsort.csv\")\n",
    "df4"
   ]
  },
  {
   "cell_type": "code",
   "execution_count": 15,
   "metadata": {},
   "outputs": [],
   "source": [
    "x4 = df4['xmin']\n",
    "y4 = df4['ymin']\n",
    "count = 0\n",
    "for i in range(len(x1)):\n",
    "    predicted_coordinates3 = list(zip(x4,y4))\n",
    "    ground_coordinates = list(zip(x1,y1))\n",
    "    count += 1"
   ]
  },
  {
   "cell_type": "code",
   "execution_count": 16,
   "metadata": {},
   "outputs": [
    {
     "data": {
      "image/png": "[encoded data removed]",
      "text/plain": [
       "<Figure size 640x480 with 1 Axes>"
      ]
     },
     "metadata": {},
     "output_type": "display_data"
    }
   ],
   "source": [
    "#plot the df4 coordinates along with the ground truth coordinates\n",
    "from matplotlib import markers\n",
    "plt.plot(x1, y1, marker='o', color='red', label='Ground Truth')\n",
    "plt.plot(x4, y4, marker='s', color='green', label='Pred Value')\n",
    "plt.xlabel('Width of the room in Pixels')\n",
    "plt.ylabel('Height of the room in Pixels')\n",
    "plt.legend()\n",
    "plt.show()"
   ]
  },
  {
   "cell_type": "code",
   "execution_count": 17,
   "metadata": {},
   "outputs": [
    {
     "name": "stdout",
     "output_type": "stream",
     "text": [
      "ADE for ocsort is: 60.970147036527486 and AMD for ocsort is: 1.813511614596996\n"
     ]
    }
   ],
   "source": [
    "error4 = avg_displacement_error(predicted_coordinates3, ground_coordinates)\n",
    "error5 = avg_mahalanobis_distance(predicted_coordinates3, ground_coordinates)\n",
    "print('ADE for ocsort is:', error4, 'and AMD for ocsort is:', error5)"
   ]
  },
  {
   "attachments": {},
   "cell_type": "markdown",
   "metadata": {},
   "source": [
    "yolov8 ByteTrack "
   ]
  },
  {
   "cell_type": "code",
   "execution_count": 18,
   "metadata": {},
   "outputs": [
    {
     "data": {
      "text/html": [
       "<div>\n",
       "<style scoped>\n",
       "    .dataframe tbody tr th:only-of-type {\n",
       "        vertical-align: middle;\n",
       "    }\n",
       "\n",
       "    .dataframe tbody tr th {\n",
       "        vertical-align: top;\n",
       "    }\n",
       "\n",
       "    .dataframe thead th {\n",
       "        text-align: right;\n",
       "    }\n",
       "</style>\n",
       "<table border=\"1\" class=\"dataframe\">\n",
       "  <thead>\n",
       "    <tr style=\"text-align: right;\">\n",
       "      <th></th>\n",
       "      <th>xmin</th>\n",
       "      <th>ymin</th>\n",
       "      <th>width</th>\n",
       "      <th>height</th>\n",
       "    </tr>\n",
       "  </thead>\n",
       "  <tbody>\n",
       "    <tr>\n",
       "      <th>0</th>\n",
       "      <td>718.000</td>\n",
       "      <td>426.000</td>\n",
       "      <td>13.00000</td>\n",
       "      <td>11.00000</td>\n",
       "    </tr>\n",
       "    <tr>\n",
       "      <th>1</th>\n",
       "      <td>716.707</td>\n",
       "      <td>428.603</td>\n",
       "      <td>16.02810</td>\n",
       "      <td>13.60330</td>\n",
       "    </tr>\n",
       "    <tr>\n",
       "      <th>2</th>\n",
       "      <td>717.932</td>\n",
       "      <td>431.191</td>\n",
       "      <td>16.52890</td>\n",
       "      <td>14.06500</td>\n",
       "    </tr>\n",
       "    <tr>\n",
       "      <th>3</th>\n",
       "      <td>720.057</td>\n",
       "      <td>436.473</td>\n",
       "      <td>15.76110</td>\n",
       "      <td>13.45360</td>\n",
       "    </tr>\n",
       "    <tr>\n",
       "      <th>4</th>\n",
       "      <td>743.600</td>\n",
       "      <td>380.600</td>\n",
       "      <td>13.00000</td>\n",
       "      <td>13.00000</td>\n",
       "    </tr>\n",
       "    <tr>\n",
       "      <th>5</th>\n",
       "      <td>743.908</td>\n",
       "      <td>377.825</td>\n",
       "      <td>13.77080</td>\n",
       "      <td>13.77080</td>\n",
       "    </tr>\n",
       "    <tr>\n",
       "      <th>6</th>\n",
       "      <td>744.767</td>\n",
       "      <td>375.377</td>\n",
       "      <td>13.27730</td>\n",
       "      <td>13.27730</td>\n",
       "    </tr>\n",
       "    <tr>\n",
       "      <th>7</th>\n",
       "      <td>745.801</td>\n",
       "      <td>373.158</td>\n",
       "      <td>13.07610</td>\n",
       "      <td>13.07610</td>\n",
       "    </tr>\n",
       "    <tr>\n",
       "      <th>8</th>\n",
       "      <td>746.883</td>\n",
       "      <td>371.806</td>\n",
       "      <td>12.96570</td>\n",
       "      <td>13.01080</td>\n",
       "    </tr>\n",
       "    <tr>\n",
       "      <th>9</th>\n",
       "      <td>749.274</td>\n",
       "      <td>371.436</td>\n",
       "      <td>12.29420</td>\n",
       "      <td>12.28110</td>\n",
       "    </tr>\n",
       "    <tr>\n",
       "      <th>10</th>\n",
       "      <td>750.747</td>\n",
       "      <td>370.708</td>\n",
       "      <td>12.09740</td>\n",
       "      <td>12.02670</td>\n",
       "    </tr>\n",
       "    <tr>\n",
       "      <th>11</th>\n",
       "      <td>751.228</td>\n",
       "      <td>369.818</td>\n",
       "      <td>12.01370</td>\n",
       "      <td>11.94790</td>\n",
       "    </tr>\n",
       "    <tr>\n",
       "      <th>12</th>\n",
       "      <td>752.043</td>\n",
       "      <td>369.559</td>\n",
       "      <td>11.98960</td>\n",
       "      <td>11.92840</td>\n",
       "    </tr>\n",
       "    <tr>\n",
       "      <th>13</th>\n",
       "      <td>752.904</td>\n",
       "      <td>369.518</td>\n",
       "      <td>12.05830</td>\n",
       "      <td>11.92880</td>\n",
       "    </tr>\n",
       "    <tr>\n",
       "      <th>14</th>\n",
       "      <td>753.812</td>\n",
       "      <td>369.547</td>\n",
       "      <td>12.13130</td>\n",
       "      <td>11.93530</td>\n",
       "    </tr>\n",
       "    <tr>\n",
       "      <th>15</th>\n",
       "      <td>754.145</td>\n",
       "      <td>370.269</td>\n",
       "      <td>12.12340</td>\n",
       "      <td>11.94290</td>\n",
       "    </tr>\n",
       "    <tr>\n",
       "      <th>16</th>\n",
       "      <td>754.908</td>\n",
       "      <td>371.238</td>\n",
       "      <td>12.11580</td>\n",
       "      <td>11.95010</td>\n",
       "    </tr>\n",
       "    <tr>\n",
       "      <th>17</th>\n",
       "      <td>755.249</td>\n",
       "      <td>372.288</td>\n",
       "      <td>12.02380</td>\n",
       "      <td>11.95640</td>\n",
       "    </tr>\n",
       "    <tr>\n",
       "      <th>18</th>\n",
       "      <td>756.064</td>\n",
       "      <td>372.694</td>\n",
       "      <td>11.93730</td>\n",
       "      <td>11.96200</td>\n",
       "    </tr>\n",
       "    <tr>\n",
       "      <th>19</th>\n",
       "      <td>757.054</td>\n",
       "      <td>374.184</td>\n",
       "      <td>11.85650</td>\n",
       "      <td>11.96670</td>\n",
       "    </tr>\n",
       "    <tr>\n",
       "      <th>20</th>\n",
       "      <td>758.675</td>\n",
       "      <td>376.075</td>\n",
       "      <td>11.21130</td>\n",
       "      <td>11.30620</td>\n",
       "    </tr>\n",
       "    <tr>\n",
       "      <th>21</th>\n",
       "      <td>760.499</td>\n",
       "      <td>378.830</td>\n",
       "      <td>10.39310</td>\n",
       "      <td>10.37850</td>\n",
       "    </tr>\n",
       "    <tr>\n",
       "      <th>22</th>\n",
       "      <td>761.153</td>\n",
       "      <td>380.511</td>\n",
       "      <td>10.06070</td>\n",
       "      <td>10.04800</td>\n",
       "    </tr>\n",
       "    <tr>\n",
       "      <th>23</th>\n",
       "      <td>761.347</td>\n",
       "      <td>382.446</td>\n",
       "      <td>9.95248</td>\n",
       "      <td>9.94101</td>\n",
       "    </tr>\n",
       "    <tr>\n",
       "      <th>24</th>\n",
       "      <td>762.062</td>\n",
       "      <td>385.148</td>\n",
       "      <td>9.92173</td>\n",
       "      <td>9.91135</td>\n",
       "    </tr>\n",
       "    <tr>\n",
       "      <th>25</th>\n",
       "      <td>762.965</td>\n",
       "      <td>387.443</td>\n",
       "      <td>10.59530</td>\n",
       "      <td>10.58530</td>\n",
       "    </tr>\n",
       "  </tbody>\n",
       "</table>\n",
       "</div>"
      ],
      "text/plain": [
       "       xmin     ymin     width    height\n",
       "0   718.000  426.000  13.00000  11.00000\n",
       "1   716.707  428.603  16.02810  13.60330\n",
       "2   717.932  431.191  16.52890  14.06500\n",
       "3   720.057  436.473  15.76110  13.45360\n",
       "4   743.600  380.600  13.00000  13.00000\n",
       "5   743.908  377.825  13.77080  13.77080\n",
       "6   744.767  375.377  13.27730  13.27730\n",
       "7   745.801  373.158  13.07610  13.07610\n",
       "8   746.883  371.806  12.96570  13.01080\n",
       "9   749.274  371.436  12.29420  12.28110\n",
       "10  750.747  370.708  12.09740  12.02670\n",
       "11  751.228  369.818  12.01370  11.94790\n",
       "12  752.043  369.559  11.98960  11.92840\n",
       "13  752.904  369.518  12.05830  11.92880\n",
       "14  753.812  369.547  12.13130  11.93530\n",
       "15  754.145  370.269  12.12340  11.94290\n",
       "16  754.908  371.238  12.11580  11.95010\n",
       "17  755.249  372.288  12.02380  11.95640\n",
       "18  756.064  372.694  11.93730  11.96200\n",
       "19  757.054  374.184  11.85650  11.96670\n",
       "20  758.675  376.075  11.21130  11.30620\n",
       "21  760.499  378.830  10.39310  10.37850\n",
       "22  761.153  380.511  10.06070  10.04800\n",
       "23  761.347  382.446   9.95248   9.94101\n",
       "24  762.062  385.148   9.92173   9.91135\n",
       "25  762.965  387.443  10.59530  10.58530"
      ]
     },
     "execution_count": 18,
     "metadata": {},
     "output_type": "execute_result"
    }
   ],
   "source": [
    "df5 = pd.read_csv(\"img1248\\TestVid2_bytetrack.csv\")\n",
    "df5"
   ]
  },
  {
   "cell_type": "code",
   "execution_count": 19,
   "metadata": {},
   "outputs": [],
   "source": [
    "x5 = df5['xmin']\n",
    "y5 = df5['ymin']\n",
    "count = 0\n",
    "for i in range(len(x1)):\n",
    "    predicted_coordinates4 = list(zip(x5,y5))\n",
    "    ground_coordinates = list(zip(x1,y1))\n",
    "    count += 1"
   ]
  },
  {
   "cell_type": "code",
   "execution_count": 20,
   "metadata": {},
   "outputs": [
    {
     "data": {
      "image/png": "[encoded data removed]",
      "text/plain": [
       "<Figure size 640x480 with 1 Axes>"
      ]
     },
     "metadata": {},
     "output_type": "display_data"
    }
   ],
   "source": [
    "#plot the df5 coordinates along with the ground truth coordinates\n",
    "from matplotlib import markers \n",
    "plt.plot(x1, y1, marker='o', color='red', label='Ground Truth')\n",
    "plt.plot(x5, y5, marker='s', color='green', label='Pred Value')\n",
    "plt.xlabel('Width of the room in Pixels')\n",
    "plt.ylabel('Height of the room in Pixels')\n",
    "plt.legend()\n",
    "plt.show()"
   ]
  },
  {
   "cell_type": "code",
   "execution_count": 21,
   "metadata": {},
   "outputs": [
    {
     "name": "stdout",
     "output_type": "stream",
     "text": [
      "ADE for bytetrack is: 37.50397857527765 and AMD for bytetrack is: 2.6553415548645094\n"
     ]
    }
   ],
   "source": [
    "error6 = avg_displacement_error(predicted_coordinates4, ground_coordinates)\n",
    "error7 = avg_mahalanobis_distance(predicted_coordinates4, ground_coordinates)\n",
    "print('ADE for bytetrack is:', error6, 'and AMD for bytetrack is:', error7)"
   ]
  },
  {
   "attachments": {},
   "cell_type": "markdown",
   "metadata": {},
   "source": [
    "yolov8 BotSORT"
   ]
  },
  {
   "cell_type": "code",
   "execution_count": 22,
   "metadata": {},
   "outputs": [],
   "source": [
    "df6 = pd.read_csv(\"img1248\\TestVid2_botsort.csv\")\n",
    "x6 = df6['xmin']\n",
    "y6 = df6['ymin']\n",
    "count = 0\n",
    "for i in range(len(x1)):\n",
    "    predicted_coordinates5 = list(zip(x6,y6))\n",
    "    ground_coordinates = list(zip(x1,y1))\n",
    "    count += 1"
   ]
  },
  {
   "cell_type": "code",
   "execution_count": 23,
   "metadata": {},
   "outputs": [
    {
     "data": {
      "image/png": "[encoded data removed]",
      "text/plain": [
       "<Figure size 640x480 with 1 Axes>"
      ]
     },
     "metadata": {},
     "output_type": "display_data"
    }
   ],
   "source": [
    "#plot the df6 coordinates along with the ground truth coordinates\n",
    "from matplotlib import markers\n",
    "plt.plot(x1, y1, marker='o', color='red', label='Ground Truth')\n",
    "plt.plot(x6, y6, marker='s', color='green', label='Pred Value')\n",
    "plt.xlabel('Width of the room in Pixels')\n",
    "plt.ylabel('Height of the room in Pixels')\n",
    "plt.legend()\n",
    "plt.show()"
   ]
  },
  {
   "cell_type": "code",
   "execution_count": 24,
   "metadata": {},
   "outputs": [
    {
     "name": "stdout",
     "output_type": "stream",
     "text": [
      "ADE for botsort is: 48.28700430541669 and AMD for botsort is: 1.7842545464548163\n"
     ]
    }
   ],
   "source": [
    "error8 = avg_displacement_error(predicted_coordinates5, ground_coordinates)\n",
    "error9 = avg_mahalanobis_distance(predicted_coordinates5, ground_coordinates)\n",
    "print('ADE for botsort is:', error8, 'and AMD for botsort is:', error9)"
   ]
  },
  {
   "attachments": {},
   "cell_type": "markdown",
   "metadata": {},
   "source": [
    "Moving Average ADE, AMD"
   ]
  },
  {
   "cell_type": "code",
   "execution_count": 25,
   "metadata": {},
   "outputs": [
    {
     "data": {
      "text/html": [
       "<div>\n",
       "<style scoped>\n",
       "    .dataframe tbody tr th:only-of-type {\n",
       "        vertical-align: middle;\n",
       "    }\n",
       "\n",
       "    .dataframe tbody tr th {\n",
       "        vertical-align: top;\n",
       "    }\n",
       "\n",
       "    .dataframe thead th {\n",
       "        text-align: right;\n",
       "    }\n",
       "</style>\n",
       "<table border=\"1\" class=\"dataframe\">\n",
       "  <thead>\n",
       "    <tr style=\"text-align: right;\">\n",
       "      <th></th>\n",
       "      <th>0</th>\n",
       "      <th>1</th>\n",
       "    </tr>\n",
       "  </thead>\n",
       "  <tbody>\n",
       "    <tr>\n",
       "      <th>0</th>\n",
       "      <td>718.000000</td>\n",
       "      <td>426.000000</td>\n",
       "    </tr>\n",
       "    <tr>\n",
       "      <th>1</th>\n",
       "      <td>719.000000</td>\n",
       "      <td>429.000000</td>\n",
       "    </tr>\n",
       "    <tr>\n",
       "      <th>2</th>\n",
       "      <td>720.333333</td>\n",
       "      <td>433.000000</td>\n",
       "    </tr>\n",
       "    <tr>\n",
       "      <th>3</th>\n",
       "      <td>721.666667</td>\n",
       "      <td>437.333333</td>\n",
       "    </tr>\n",
       "    <tr>\n",
       "      <th>4</th>\n",
       "      <td>723.333333</td>\n",
       "      <td>443.000000</td>\n",
       "    </tr>\n",
       "    <tr>\n",
       "      <th>...</th>\n",
       "      <td>...</td>\n",
       "      <td>...</td>\n",
       "    </tr>\n",
       "    <tr>\n",
       "      <th>90</th>\n",
       "      <td>1015.666667</td>\n",
       "      <td>425.666667</td>\n",
       "    </tr>\n",
       "    <tr>\n",
       "      <th>91</th>\n",
       "      <td>1023.333333</td>\n",
       "      <td>430.000000</td>\n",
       "    </tr>\n",
       "    <tr>\n",
       "      <th>92</th>\n",
       "      <td>1031.666667</td>\n",
       "      <td>435.000000</td>\n",
       "    </tr>\n",
       "    <tr>\n",
       "      <th>93</th>\n",
       "      <td>1040.000000</td>\n",
       "      <td>440.333333</td>\n",
       "    </tr>\n",
       "    <tr>\n",
       "      <th>94</th>\n",
       "      <td>1049.000000</td>\n",
       "      <td>446.000000</td>\n",
       "    </tr>\n",
       "  </tbody>\n",
       "</table>\n",
       "<p>95 rows × 2 columns</p>\n",
       "</div>"
      ],
      "text/plain": [
       "              0           1\n",
       "0    718.000000  426.000000\n",
       "1    719.000000  429.000000\n",
       "2    720.333333  433.000000\n",
       "3    721.666667  437.333333\n",
       "4    723.333333  443.000000\n",
       "..          ...         ...\n",
       "90  1015.666667  425.666667\n",
       "91  1023.333333  430.000000\n",
       "92  1031.666667  435.000000\n",
       "93  1040.000000  440.333333\n",
       "94  1049.000000  446.000000\n",
       "\n",
       "[95 rows x 2 columns]"
      ]
     },
     "execution_count": 25,
     "metadata": {},
     "output_type": "execute_result"
    }
   ],
   "source": [
    "df7 = pd.read_csv(\"TestVid2_deepocsort_smoothedv3.csv\", header=None)\n",
    "df7"
   ]
  },
  {
   "cell_type": "code",
   "execution_count": 26,
   "metadata": {},
   "outputs": [],
   "source": [
    "x7 = df7[0]\n",
    "y7 = df7[1]\n",
    "count = 0\n",
    "for i in range(len(x1)):\n",
    "    predicted_coordinates7 = list(zip(x7,y7))\n",
    "    ground_coordinates = list(zip(x1,y1))\n",
    "    count += 1"
   ]
  },
  {
   "cell_type": "code",
   "execution_count": 27,
   "metadata": {},
   "outputs": [
    {
     "name": "stdout",
     "output_type": "stream",
     "text": [
      "ADE for deepocsort is: 22.024284416195677 and AMD for deepocsort is: 0.6777362738449211\n"
     ]
    }
   ],
   "source": [
    "error10 = avg_displacement_error(predicted_coordinates7, ground_coordinates)\n",
    "error11 = avg_mahalanobis_distance(predicted_coordinates7, ground_coordinates)\n",
    "print('ADE for deepocsort is:', error10, 'and AMD for deepocsort is:', error11)"
   ]
  },
  {
   "cell_type": "code",
   "execution_count": 28,
   "metadata": {},
   "outputs": [
    {
     "data": {
      "text/html": [
       "<div>\n",
       "<style scoped>\n",
       "    .dataframe tbody tr th:only-of-type {\n",
       "        vertical-align: middle;\n",
       "    }\n",
       "\n",
       "    .dataframe tbody tr th {\n",
       "        vertical-align: top;\n",
       "    }\n",
       "\n",
       "    .dataframe thead th {\n",
       "        text-align: right;\n",
       "    }\n",
       "</style>\n",
       "<table border=\"1\" class=\"dataframe\">\n",
       "  <thead>\n",
       "    <tr style=\"text-align: right;\">\n",
       "      <th></th>\n",
       "      <th>0</th>\n",
       "      <th>1</th>\n",
       "    </tr>\n",
       "  </thead>\n",
       "  <tbody>\n",
       "    <tr>\n",
       "      <th>0</th>\n",
       "      <td>718.000000</td>\n",
       "      <td>426.000000</td>\n",
       "    </tr>\n",
       "    <tr>\n",
       "      <th>1</th>\n",
       "      <td>719.000000</td>\n",
       "      <td>429.000000</td>\n",
       "    </tr>\n",
       "    <tr>\n",
       "      <th>2</th>\n",
       "      <td>720.333333</td>\n",
       "      <td>433.000000</td>\n",
       "    </tr>\n",
       "    <tr>\n",
       "      <th>3</th>\n",
       "      <td>721.666667</td>\n",
       "      <td>437.333333</td>\n",
       "    </tr>\n",
       "    <tr>\n",
       "      <th>4</th>\n",
       "      <td>723.333333</td>\n",
       "      <td>443.000000</td>\n",
       "    </tr>\n",
       "    <tr>\n",
       "      <th>...</th>\n",
       "      <td>...</td>\n",
       "      <td>...</td>\n",
       "    </tr>\n",
       "    <tr>\n",
       "      <th>90</th>\n",
       "      <td>1015.666667</td>\n",
       "      <td>425.666667</td>\n",
       "    </tr>\n",
       "    <tr>\n",
       "      <th>91</th>\n",
       "      <td>1023.333333</td>\n",
       "      <td>430.000000</td>\n",
       "    </tr>\n",
       "    <tr>\n",
       "      <th>92</th>\n",
       "      <td>1031.666667</td>\n",
       "      <td>435.000000</td>\n",
       "    </tr>\n",
       "    <tr>\n",
       "      <th>93</th>\n",
       "      <td>1040.000000</td>\n",
       "      <td>440.333333</td>\n",
       "    </tr>\n",
       "    <tr>\n",
       "      <th>94</th>\n",
       "      <td>1049.000000</td>\n",
       "      <td>446.000000</td>\n",
       "    </tr>\n",
       "  </tbody>\n",
       "</table>\n",
       "<p>95 rows × 2 columns</p>\n",
       "</div>"
      ],
      "text/plain": [
       "              0           1\n",
       "0    718.000000  426.000000\n",
       "1    719.000000  429.000000\n",
       "2    720.333333  433.000000\n",
       "3    721.666667  437.333333\n",
       "4    723.333333  443.000000\n",
       "..          ...         ...\n",
       "90  1015.666667  425.666667\n",
       "91  1023.333333  430.000000\n",
       "92  1031.666667  435.000000\n",
       "93  1040.000000  440.333333\n",
       "94  1049.000000  446.000000\n",
       "\n",
       "[95 rows x 2 columns]"
      ]
     },
     "execution_count": 28,
     "metadata": {},
     "output_type": "execute_result"
    }
   ],
   "source": [
    "df8 = pd.read_csv(\"TestVid2_deepocsort_smoothedv2.csv\", header=None)\n",
    "df8"
   ]
  },
  {
   "cell_type": "code",
   "execution_count": 29,
   "metadata": {},
   "outputs": [],
   "source": [
    "x8 = df8[0]\n",
    "y8 = df8[1]\n",
    "count = 0\n",
    "for i in range(len(x1)):\n",
    "    predicted_coordinates8 = list(zip(x8,y8))\n",
    "    ground_coordinates = list(zip(x1,y1))\n",
    "    count += 1"
   ]
  },
  {
   "cell_type": "code",
   "execution_count": 30,
   "metadata": {},
   "outputs": [
    {
     "name": "stdout",
     "output_type": "stream",
     "text": [
      "ADE for deepocsort is: 22.464454393262322 and AMD for deepocsort is: 0.6862064897689801\n"
     ]
    }
   ],
   "source": [
    "error12 = avg_displacement_error(predicted_coordinates8, ground_coordinates)\n",
    "error13 = avg_mahalanobis_distance(predicted_coordinates8, ground_coordinates)\n",
    "print('ADE for deepocsort is:', error12, 'and AMD for deepocsort is:', error13)"
   ]
  },
  {
   "cell_type": "code",
   "execution_count": 31,
   "metadata": {},
   "outputs": [
    {
     "data": {
      "text/html": [
       "<div>\n",
       "<style scoped>\n",
       "    .dataframe tbody tr th:only-of-type {\n",
       "        vertical-align: middle;\n",
       "    }\n",
       "\n",
       "    .dataframe tbody tr th {\n",
       "        vertical-align: top;\n",
       "    }\n",
       "\n",
       "    .dataframe thead th {\n",
       "        text-align: right;\n",
       "    }\n",
       "</style>\n",
       "<table border=\"1\" class=\"dataframe\">\n",
       "  <thead>\n",
       "    <tr style=\"text-align: right;\">\n",
       "      <th></th>\n",
       "      <th>x</th>\n",
       "      <th>y</th>\n",
       "    </tr>\n",
       "  </thead>\n",
       "  <tbody>\n",
       "    <tr>\n",
       "      <th>0</th>\n",
       "      <td>718.0</td>\n",
       "      <td>426.0</td>\n",
       "    </tr>\n",
       "    <tr>\n",
       "      <th>1</th>\n",
       "      <td>719.0</td>\n",
       "      <td>429.0</td>\n",
       "    </tr>\n",
       "    <tr>\n",
       "      <th>2</th>\n",
       "      <td>720.0</td>\n",
       "      <td>432.0</td>\n",
       "    </tr>\n",
       "    <tr>\n",
       "      <th>3</th>\n",
       "      <td>722.0</td>\n",
       "      <td>438.0</td>\n",
       "    </tr>\n",
       "    <tr>\n",
       "      <th>4</th>\n",
       "      <td>723.0</td>\n",
       "      <td>442.0</td>\n",
       "    </tr>\n",
       "    <tr>\n",
       "      <th>...</th>\n",
       "      <td>...</td>\n",
       "      <td>...</td>\n",
       "    </tr>\n",
       "    <tr>\n",
       "      <th>90</th>\n",
       "      <td>1015.0</td>\n",
       "      <td>425.0</td>\n",
       "    </tr>\n",
       "    <tr>\n",
       "      <th>91</th>\n",
       "      <td>1024.0</td>\n",
       "      <td>430.0</td>\n",
       "    </tr>\n",
       "    <tr>\n",
       "      <th>92</th>\n",
       "      <td>1031.0</td>\n",
       "      <td>435.0</td>\n",
       "    </tr>\n",
       "    <tr>\n",
       "      <th>93</th>\n",
       "      <td>1040.0</td>\n",
       "      <td>440.0</td>\n",
       "    </tr>\n",
       "    <tr>\n",
       "      <th>94</th>\n",
       "      <td>1049.0</td>\n",
       "      <td>446.0</td>\n",
       "    </tr>\n",
       "  </tbody>\n",
       "</table>\n",
       "<p>95 rows × 2 columns</p>\n",
       "</div>"
      ],
      "text/plain": [
       "         x      y\n",
       "0    718.0  426.0\n",
       "1    719.0  429.0\n",
       "2    720.0  432.0\n",
       "3    722.0  438.0\n",
       "4    723.0  442.0\n",
       "..     ...    ...\n",
       "90  1015.0  425.0\n",
       "91  1024.0  430.0\n",
       "92  1031.0  435.0\n",
       "93  1040.0  440.0\n",
       "94  1049.0  446.0\n",
       "\n",
       "[95 rows x 2 columns]"
      ]
     },
     "execution_count": 31,
     "metadata": {},
     "output_type": "execute_result"
    }
   ],
   "source": [
    "df9 = pd.read_csv(\"TestVid2_deepocsort_smoothed2.csv\")\n",
    "df9"
   ]
  },
  {
   "cell_type": "code",
   "execution_count": 32,
   "metadata": {},
   "outputs": [],
   "source": [
    "x9 = df9['x']\n",
    "y9 = df9['y']\n",
    "count = 0\n",
    "for i in range(len(x1)):\n",
    "    predicted_coordinates9 = list(zip(x9,y9))\n",
    "    ground_coordinates = list(zip(x1,y1))\n",
    "    count += 1"
   ]
  },
  {
   "cell_type": "code",
   "execution_count": 33,
   "metadata": {},
   "outputs": [
    {
     "name": "stdout",
     "output_type": "stream",
     "text": [
      "ADE for deepocsort is: 21.61078741968961 and AMD for deepocsort is: 0.6614412644442998\n"
     ]
    }
   ],
   "source": [
    "error14 = avg_displacement_error(predicted_coordinates9, ground_coordinates)\n",
    "error15 = avg_mahalanobis_distance(predicted_coordinates9, ground_coordinates)\n",
    "print('ADE for deepocsort is:', error14, 'and AMD for deepocsort is:', error15)"
   ]
  },
  {
   "cell_type": "code",
   "execution_count": 34,
   "metadata": {},
   "outputs": [
    {
     "data": {
      "text/html": [
       "<div>\n",
       "<style scoped>\n",
       "    .dataframe tbody tr th:only-of-type {\n",
       "        vertical-align: middle;\n",
       "    }\n",
       "\n",
       "    .dataframe tbody tr th {\n",
       "        vertical-align: top;\n",
       "    }\n",
       "\n",
       "    .dataframe thead th {\n",
       "        text-align: right;\n",
       "    }\n",
       "</style>\n",
       "<table border=\"1\" class=\"dataframe\">\n",
       "  <thead>\n",
       "    <tr style=\"text-align: right;\">\n",
       "      <th></th>\n",
       "      <th>0</th>\n",
       "      <th>1</th>\n",
       "    </tr>\n",
       "  </thead>\n",
       "  <tbody>\n",
       "    <tr>\n",
       "      <th>0</th>\n",
       "      <td>718.000000</td>\n",
       "      <td>426.000000</td>\n",
       "    </tr>\n",
       "    <tr>\n",
       "      <th>1</th>\n",
       "      <td>719.000000</td>\n",
       "      <td>429.000000</td>\n",
       "    </tr>\n",
       "    <tr>\n",
       "      <th>2</th>\n",
       "      <td>720.333333</td>\n",
       "      <td>433.000000</td>\n",
       "    </tr>\n",
       "    <tr>\n",
       "      <th>3</th>\n",
       "      <td>721.666667</td>\n",
       "      <td>437.333333</td>\n",
       "    </tr>\n",
       "    <tr>\n",
       "      <th>4</th>\n",
       "      <td>723.333333</td>\n",
       "      <td>443.000000</td>\n",
       "    </tr>\n",
       "    <tr>\n",
       "      <th>...</th>\n",
       "      <td>...</td>\n",
       "      <td>...</td>\n",
       "    </tr>\n",
       "    <tr>\n",
       "      <th>90</th>\n",
       "      <td>1015.666667</td>\n",
       "      <td>425.666667</td>\n",
       "    </tr>\n",
       "    <tr>\n",
       "      <th>91</th>\n",
       "      <td>1023.333333</td>\n",
       "      <td>430.000000</td>\n",
       "    </tr>\n",
       "    <tr>\n",
       "      <th>92</th>\n",
       "      <td>1031.666667</td>\n",
       "      <td>435.000000</td>\n",
       "    </tr>\n",
       "    <tr>\n",
       "      <th>93</th>\n",
       "      <td>1040.000000</td>\n",
       "      <td>440.333333</td>\n",
       "    </tr>\n",
       "    <tr>\n",
       "      <th>94</th>\n",
       "      <td>1049.000000</td>\n",
       "      <td>446.000000</td>\n",
       "    </tr>\n",
       "  </tbody>\n",
       "</table>\n",
       "<p>95 rows × 2 columns</p>\n",
       "</div>"
      ],
      "text/plain": [
       "              0           1\n",
       "0    718.000000  426.000000\n",
       "1    719.000000  429.000000\n",
       "2    720.333333  433.000000\n",
       "3    721.666667  437.333333\n",
       "4    723.333333  443.000000\n",
       "..          ...         ...\n",
       "90  1015.666667  425.666667\n",
       "91  1023.333333  430.000000\n",
       "92  1031.666667  435.000000\n",
       "93  1040.000000  440.333333\n",
       "94  1049.000000  446.000000\n",
       "\n",
       "[95 rows x 2 columns]"
      ]
     },
     "execution_count": 34,
     "metadata": {},
     "output_type": "execute_result"
    }
   ],
   "source": [
    "df10 = pd.read_csv(\"TestVid2_deepocsort_smoothed.csv\", header=None)\n",
    "df10"
   ]
  },
  {
   "cell_type": "code",
   "execution_count": 35,
   "metadata": {},
   "outputs": [],
   "source": [
    "x10 = df10[0]\n",
    "y10 = df10[1]\n",
    "count = 0\n",
    "for i in range(len(x1)):\n",
    "    predicted_coordinates10 = list(zip(x10,y10))\n",
    "    ground_coordinates = list(zip(x1,y1))\n",
    "    count += 1"
   ]
  },
  {
   "cell_type": "code",
   "execution_count": 36,
   "metadata": {},
   "outputs": [
    {
     "name": "stdout",
     "output_type": "stream",
     "text": [
      "ADE for deepocsort is: 22.024284416195677 and AMD for deepocsort is: 0.6777362738449211\n"
     ]
    }
   ],
   "source": [
    "error16 = avg_displacement_error(predicted_coordinates10, ground_coordinates)\n",
    "error17 = avg_mahalanobis_distance(predicted_coordinates10, ground_coordinates)\n",
    "print('ADE for deepocsort is:', error16, 'and AMD for deepocsort is:', error17)"
   ]
  },
  {
   "attachments": {},
   "cell_type": "markdown",
   "metadata": {},
   "source": [
    "after windows size increase"
   ]
  },
  {
   "cell_type": "code",
   "execution_count": 37,
   "metadata": {},
   "outputs": [
    {
     "data": {
      "text/html": [
       "<div>\n",
       "<style scoped>\n",
       "    .dataframe tbody tr th:only-of-type {\n",
       "        vertical-align: middle;\n",
       "    }\n",
       "\n",
       "    .dataframe tbody tr th {\n",
       "        vertical-align: top;\n",
       "    }\n",
       "\n",
       "    .dataframe thead th {\n",
       "        text-align: right;\n",
       "    }\n",
       "</style>\n",
       "<table border=\"1\" class=\"dataframe\">\n",
       "  <thead>\n",
       "    <tr style=\"text-align: right;\">\n",
       "      <th></th>\n",
       "      <th>0</th>\n",
       "      <th>1</th>\n",
       "    </tr>\n",
       "  </thead>\n",
       "  <tbody>\n",
       "    <tr>\n",
       "      <th>0</th>\n",
       "      <td>718.0</td>\n",
       "      <td>426.0</td>\n",
       "    </tr>\n",
       "    <tr>\n",
       "      <th>1</th>\n",
       "      <td>719.0</td>\n",
       "      <td>429.0</td>\n",
       "    </tr>\n",
       "    <tr>\n",
       "      <th>2</th>\n",
       "      <td>720.4</td>\n",
       "      <td>433.4</td>\n",
       "    </tr>\n",
       "    <tr>\n",
       "      <th>3</th>\n",
       "      <td>721.8</td>\n",
       "      <td>438.0</td>\n",
       "    </tr>\n",
       "    <tr>\n",
       "      <th>4</th>\n",
       "      <td>723.4</td>\n",
       "      <td>442.6</td>\n",
       "    </tr>\n",
       "    <tr>\n",
       "      <th>...</th>\n",
       "      <td>...</td>\n",
       "      <td>...</td>\n",
       "    </tr>\n",
       "    <tr>\n",
       "      <th>90</th>\n",
       "      <td>1015.8</td>\n",
       "      <td>426.0</td>\n",
       "    </tr>\n",
       "    <tr>\n",
       "      <th>91</th>\n",
       "      <td>1023.6</td>\n",
       "      <td>430.4</td>\n",
       "    </tr>\n",
       "    <tr>\n",
       "      <th>92</th>\n",
       "      <td>1031.8</td>\n",
       "      <td>435.2</td>\n",
       "    </tr>\n",
       "    <tr>\n",
       "      <th>93</th>\n",
       "      <td>1040.0</td>\n",
       "      <td>440.0</td>\n",
       "    </tr>\n",
       "    <tr>\n",
       "      <th>94</th>\n",
       "      <td>1049.0</td>\n",
       "      <td>446.0</td>\n",
       "    </tr>\n",
       "  </tbody>\n",
       "</table>\n",
       "<p>95 rows × 2 columns</p>\n",
       "</div>"
      ],
      "text/plain": [
       "         0      1\n",
       "0    718.0  426.0\n",
       "1    719.0  429.0\n",
       "2    720.4  433.4\n",
       "3    721.8  438.0\n",
       "4    723.4  442.6\n",
       "..     ...    ...\n",
       "90  1015.8  426.0\n",
       "91  1023.6  430.4\n",
       "92  1031.8  435.2\n",
       "93  1040.0  440.0\n",
       "94  1049.0  446.0\n",
       "\n",
       "[95 rows x 2 columns]"
      ]
     },
     "execution_count": 37,
     "metadata": {},
     "output_type": "execute_result"
    }
   ],
   "source": [
    "df11 = pd.read_csv(\"TestVid2_deepocsort_smoothedv5.csv\", header=None)\n",
    "df11"
   ]
  },
  {
   "cell_type": "code",
   "execution_count": 38,
   "metadata": {},
   "outputs": [],
   "source": [
    "x11 = df11[0]\n",
    "y11 = df11[1]\n",
    "count = 0\n",
    "for i in range(len(x1)):\n",
    "    predicted_coordinates11 = list(zip(x11,y11))\n",
    "    ground_coordinates = list(zip(x1,y1))\n",
    "    count += 1"
   ]
  },
  {
   "cell_type": "code",
   "execution_count": 39,
   "metadata": {},
   "outputs": [
    {
     "name": "stdout",
     "output_type": "stream",
     "text": [
      "ADE for deepocsort is: 21.188708459064866 and AMD for deepocsort is: 0.6665183823619023\n"
     ]
    }
   ],
   "source": [
    "error18 = avg_displacement_error(predicted_coordinates11, ground_coordinates)\n",
    "error19 = avg_mahalanobis_distance(predicted_coordinates11, ground_coordinates)\n",
    "print('ADE for deepocsort is:', error18, 'and AMD for deepocsort is:', error19)"
   ]
  },
  {
   "cell_type": "code",
   "execution_count": 40,
   "metadata": {},
   "outputs": [
    {
     "data": {
      "text/html": [
       "<div>\n",
       "<style scoped>\n",
       "    .dataframe tbody tr th:only-of-type {\n",
       "        vertical-align: middle;\n",
       "    }\n",
       "\n",
       "    .dataframe tbody tr th {\n",
       "        vertical-align: top;\n",
       "    }\n",
       "\n",
       "    .dataframe thead th {\n",
       "        text-align: right;\n",
       "    }\n",
       "</style>\n",
       "<table border=\"1\" class=\"dataframe\">\n",
       "  <thead>\n",
       "    <tr style=\"text-align: right;\">\n",
       "      <th></th>\n",
       "      <th>0</th>\n",
       "      <th>1</th>\n",
       "    </tr>\n",
       "  </thead>\n",
       "  <tbody>\n",
       "    <tr>\n",
       "      <th>0</th>\n",
       "      <td>718.0</td>\n",
       "      <td>426.0</td>\n",
       "    </tr>\n",
       "    <tr>\n",
       "      <th>1</th>\n",
       "      <td>719.0</td>\n",
       "      <td>429.0</td>\n",
       "    </tr>\n",
       "    <tr>\n",
       "      <th>2</th>\n",
       "      <td>720.0</td>\n",
       "      <td>432.0</td>\n",
       "    </tr>\n",
       "    <tr>\n",
       "      <th>3</th>\n",
       "      <td>722.0</td>\n",
       "      <td>438.0</td>\n",
       "    </tr>\n",
       "    <tr>\n",
       "      <th>4</th>\n",
       "      <td>723.0</td>\n",
       "      <td>442.0</td>\n",
       "    </tr>\n",
       "    <tr>\n",
       "      <th>...</th>\n",
       "      <td>...</td>\n",
       "      <td>...</td>\n",
       "    </tr>\n",
       "    <tr>\n",
       "      <th>90</th>\n",
       "      <td>1015.0</td>\n",
       "      <td>425.0</td>\n",
       "    </tr>\n",
       "    <tr>\n",
       "      <th>91</th>\n",
       "      <td>1024.0</td>\n",
       "      <td>430.0</td>\n",
       "    </tr>\n",
       "    <tr>\n",
       "      <th>92</th>\n",
       "      <td>1031.0</td>\n",
       "      <td>435.0</td>\n",
       "    </tr>\n",
       "    <tr>\n",
       "      <th>93</th>\n",
       "      <td>1040.0</td>\n",
       "      <td>440.0</td>\n",
       "    </tr>\n",
       "    <tr>\n",
       "      <th>94</th>\n",
       "      <td>1049.0</td>\n",
       "      <td>446.0</td>\n",
       "    </tr>\n",
       "  </tbody>\n",
       "</table>\n",
       "<p>95 rows × 2 columns</p>\n",
       "</div>"
      ],
      "text/plain": [
       "         0      1\n",
       "0    718.0  426.0\n",
       "1    719.0  429.0\n",
       "2    720.0  432.0\n",
       "3    722.0  438.0\n",
       "4    723.0  442.0\n",
       "..     ...    ...\n",
       "90  1015.0  425.0\n",
       "91  1024.0  430.0\n",
       "92  1031.0  435.0\n",
       "93  1040.0  440.0\n",
       "94  1049.0  446.0\n",
       "\n",
       "[95 rows x 2 columns]"
      ]
     },
     "execution_count": 40,
     "metadata": {},
     "output_type": "execute_result"
    }
   ],
   "source": [
    "df12 = pd.read_csv(\"TestVid2_deepocsort_adjustedv6.csv\", header=None)\n",
    "df12"
   ]
  },
  {
   "cell_type": "code",
   "execution_count": 41,
   "metadata": {},
   "outputs": [],
   "source": [
    "x12 = df12[0]\n",
    "y12 = df12[1]\n",
    "count = 0\n",
    "for i in range(len(x1)):\n",
    "    predicted_coordinates12 = list(zip(x12,y12))\n",
    "    ground_coordinates = list(zip(x1,y1))\n",
    "    count += 1\n",
    "    "
   ]
  },
  {
   "cell_type": "code",
   "execution_count": 42,
   "metadata": {},
   "outputs": [
    {
     "name": "stdout",
     "output_type": "stream",
     "text": [
      "ADE for deepocsort is: 20.60343534745232 and AMD for deepocsort is: 0.6327252783685289\n"
     ]
    }
   ],
   "source": [
    "error20 = avg_displacement_error(predicted_coordinates12, ground_coordinates)\n",
    "error21 = avg_mahalanobis_distance(predicted_coordinates12, ground_coordinates)\n",
    "print('ADE for deepocsort is:', error20, 'and AMD for deepocsort is:', error21)"
   ]
  },
  {
   "attachments": {},
   "cell_type": "markdown",
   "metadata": {},
   "source": [
    "Extrapolation Results"
   ]
  },
  {
   "cell_type": "code",
   "execution_count": 43,
   "metadata": {},
   "outputs": [
    {
     "data": {
      "text/html": [
       "<div>\n",
       "<style scoped>\n",
       "    .dataframe tbody tr th:only-of-type {\n",
       "        vertical-align: middle;\n",
       "    }\n",
       "\n",
       "    .dataframe tbody tr th {\n",
       "        vertical-align: top;\n",
       "    }\n",
       "\n",
       "    .dataframe thead th {\n",
       "        text-align: right;\n",
       "    }\n",
       "</style>\n",
       "<table border=\"1\" class=\"dataframe\">\n",
       "  <thead>\n",
       "    <tr style=\"text-align: right;\">\n",
       "      <th></th>\n",
       "      <th>bbox_x</th>\n",
       "      <th>bbox_y</th>\n",
       "      <th>image_name</th>\n",
       "    </tr>\n",
       "  </thead>\n",
       "  <tbody>\n",
       "    <tr>\n",
       "      <th>0</th>\n",
       "      <td>713.0</td>\n",
       "      <td>418.0</td>\n",
       "      <td>left002001.png</td>\n",
       "    </tr>\n",
       "    <tr>\n",
       "      <th>1</th>\n",
       "      <td>715.0</td>\n",
       "      <td>420.0</td>\n",
       "      <td>left002002.png</td>\n",
       "    </tr>\n",
       "    <tr>\n",
       "      <th>2</th>\n",
       "      <td>715.0</td>\n",
       "      <td>417.0</td>\n",
       "      <td>left002003.png</td>\n",
       "    </tr>\n",
       "    <tr>\n",
       "      <th>3</th>\n",
       "      <td>718.0</td>\n",
       "      <td>424.0</td>\n",
       "      <td>left002004.png</td>\n",
       "    </tr>\n",
       "    <tr>\n",
       "      <th>4</th>\n",
       "      <td>718.0</td>\n",
       "      <td>427.0</td>\n",
       "      <td>left002005.png</td>\n",
       "    </tr>\n",
       "    <tr>\n",
       "      <th>...</th>\n",
       "      <td>...</td>\n",
       "      <td>...</td>\n",
       "      <td>...</td>\n",
       "    </tr>\n",
       "    <tr>\n",
       "      <th>95</th>\n",
       "      <td>1014.0</td>\n",
       "      <td>424.0</td>\n",
       "      <td>left002096.png</td>\n",
       "    </tr>\n",
       "    <tr>\n",
       "      <th>96</th>\n",
       "      <td>1022.0</td>\n",
       "      <td>428.0</td>\n",
       "      <td>left002097.png</td>\n",
       "    </tr>\n",
       "    <tr>\n",
       "      <th>97</th>\n",
       "      <td>1030.0</td>\n",
       "      <td>433.0</td>\n",
       "      <td>left002098.png</td>\n",
       "    </tr>\n",
       "    <tr>\n",
       "      <th>98</th>\n",
       "      <td>1039.0</td>\n",
       "      <td>440.0</td>\n",
       "      <td>left002099.png</td>\n",
       "    </tr>\n",
       "    <tr>\n",
       "      <th>99</th>\n",
       "      <td>1047.0</td>\n",
       "      <td>445.0</td>\n",
       "      <td>left002100.png</td>\n",
       "    </tr>\n",
       "  </tbody>\n",
       "</table>\n",
       "<p>100 rows × 3 columns</p>\n",
       "</div>"
      ],
      "text/plain": [
       "    bbox_x  bbox_y      image_name\n",
       "0    713.0   418.0  left002001.png\n",
       "1    715.0   420.0  left002002.png\n",
       "2    715.0   417.0  left002003.png\n",
       "3    718.0   424.0  left002004.png\n",
       "4    718.0   427.0  left002005.png\n",
       "..     ...     ...             ...\n",
       "95  1014.0   424.0  left002096.png\n",
       "96  1022.0   428.0  left002097.png\n",
       "97  1030.0   433.0  left002098.png\n",
       "98  1039.0   440.0  left002099.png\n",
       "99  1047.0   445.0  left002100.png\n",
       "\n",
       "[100 rows x 3 columns]"
      ]
     },
     "execution_count": 43,
     "metadata": {},
     "output_type": "execute_result"
    }
   ],
   "source": [
    "df13 = pd.read_csv(\"coordinates.csv\")\n",
    "df13"
   ]
  },
  {
   "cell_type": "code",
   "execution_count": 44,
   "metadata": {},
   "outputs": [],
   "source": [
    "x13 = df13['bbox_x']\n",
    "y13 = df13['bbox_y']\n",
    "count = 0\n",
    "for i in range(len(x1)):\n",
    "    predicted_coordinates13 = list(zip(x13,y13))\n",
    "    ground_coordinates = list(zip(x1,y1))\n",
    "    count += 1"
   ]
  },
  {
   "cell_type": "code",
   "execution_count": 45,
   "metadata": {},
   "outputs": [
    {
     "name": "stdout",
     "output_type": "stream",
     "text": [
      "ADE for deepocsort is: 2.500381339943157 and AMD for deepocsort is: 0.06438118648044812\n"
     ]
    }
   ],
   "source": [
    "error22 = avg_displacement_error(predicted_coordinates13, ground_coordinates)\n",
    "error23 = avg_mahalanobis_distance(predicted_coordinates13, ground_coordinates)\n",
    "print('ADE for deepocsort is:', error22, 'and AMD for deepocsort is:', error23)"
   ]
  },
  {
   "cell_type": "code",
   "execution_count": 46,
   "metadata": {},
   "outputs": [
    {
     "data": {
      "image/png": "[encoded data removed]",
      "text/plain": [
       "<Figure size 640x480 with 1 Axes>"
      ]
     },
     "metadata": {},
     "output_type": "display_data"
    }
   ],
   "source": [
    "#plot the df13 coordinates along with the ground truth coordinates\n",
    "from matplotlib import markers\n",
    "plt.plot(x1, y1, marker='o', color='red', label='Ground Truth')\n",
    "plt.plot(x13, y13, marker='s', color='green', label='Pred Value')\n",
    "plt.xlabel('Width of the room in Pixels')\n",
    "plt.ylabel('Height of the room in Pixels')\n",
    "plt.legend()\n",
    "plt.show()"
   ]
  },
  {
   "cell_type": "code",
   "execution_count": 48,
   "metadata": {},
   "outputs": [],
   "source": [
    "df14 = pd.read_csv('newyolov8v2.csv'    )\n",
    "x14 = df14['bbox_x']\n",
    "y14 = df14['bbox_y']"
   ]
  },
  {
   "cell_type": "code",
   "execution_count": 51,
   "metadata": {},
   "outputs": [
    {
     "data": {
      "image/png": "[encoded data removed]",
      "text/plain": [
       "<Figure size 640x480 with 1 Axes>"
      ]
     },
     "metadata": {},
     "output_type": "display_data"
    }
   ],
   "source": [
    "#plot the df14 coordinates along with the df13 coordinates and the ground truth coordinates\n",
    "from matplotlib import markers\n",
    "# plt.plot(x1, y1, marker='o', color='red', label='Ground Truth')\n",
    "plt.plot(x13, y13, marker='s', color='red', label='Pred_extrapolation Value')\n",
    "plt.plot(x14, y14, marker='s', color='blue', label='Pred Value')\n",
    "plt.xlabel('Width of the room in Pixels')\n",
    "plt.ylabel('Height of the room in Pixels')\n",
    "plt.legend()\n",
    "plt.show()\n"
   ]
  },
  {
   "attachments": {},
   "cell_type": "markdown",
   "metadata": {},
   "source": [
    "#Physics Model prediction plot and visualization"
   ]
  },
  {
   "cell_type": "code",
   "execution_count": 5,
   "metadata": {},
   "outputs": [
    {
     "data": {
      "text/html": [
       "<div>\n",
       "<style scoped>\n",
       "    .dataframe tbody tr th:only-of-type {\n",
       "        vertical-align: middle;\n",
       "    }\n",
       "\n",
       "    .dataframe tbody tr th {\n",
       "        vertical-align: top;\n",
       "    }\n",
       "\n",
       "    .dataframe thead th {\n",
       "        text-align: right;\n",
       "    }\n",
       "</style>\n",
       "<table border=\"1\" class=\"dataframe\">\n",
       "  <thead>\n",
       "    <tr style=\"text-align: right;\">\n",
       "      <th></th>\n",
       "      <th>x</th>\n",
       "      <th>y</th>\n",
       "    </tr>\n",
       "  </thead>\n",
       "  <tbody>\n",
       "    <tr>\n",
       "      <th>0</th>\n",
       "      <td>718.0</td>\n",
       "      <td>421.00545</td>\n",
       "    </tr>\n",
       "    <tr>\n",
       "      <th>1</th>\n",
       "      <td>724.0</td>\n",
       "      <td>427.00545</td>\n",
       "    </tr>\n",
       "    <tr>\n",
       "      <th>2</th>\n",
       "      <td>723.0</td>\n",
       "      <td>428.00545</td>\n",
       "    </tr>\n",
       "    <tr>\n",
       "      <th>3</th>\n",
       "      <td>724.0</td>\n",
       "      <td>432.00545</td>\n",
       "    </tr>\n",
       "    <tr>\n",
       "      <th>4</th>\n",
       "      <td>727.0</td>\n",
       "      <td>437.00545</td>\n",
       "    </tr>\n",
       "    <tr>\n",
       "      <th>...</th>\n",
       "      <td>...</td>\n",
       "      <td>...</td>\n",
       "    </tr>\n",
       "    <tr>\n",
       "      <th>95</th>\n",
       "      <td>1014.0</td>\n",
       "      <td>427.00545</td>\n",
       "    </tr>\n",
       "    <tr>\n",
       "      <th>96</th>\n",
       "      <td>1021.0</td>\n",
       "      <td>432.00545</td>\n",
       "    </tr>\n",
       "    <tr>\n",
       "      <th>97</th>\n",
       "      <td>1032.0</td>\n",
       "      <td>436.00545</td>\n",
       "    </tr>\n",
       "    <tr>\n",
       "      <th>98</th>\n",
       "      <td>1037.0</td>\n",
       "      <td>440.00545</td>\n",
       "    </tr>\n",
       "    <tr>\n",
       "      <th>99</th>\n",
       "      <td>1046.0</td>\n",
       "      <td>446.00545</td>\n",
       "    </tr>\n",
       "  </tbody>\n",
       "</table>\n",
       "<p>100 rows × 2 columns</p>\n",
       "</div>"
      ],
      "text/plain": [
       "         x          y\n",
       "0    718.0  421.00545\n",
       "1    724.0  427.00545\n",
       "2    723.0  428.00545\n",
       "3    724.0  432.00545\n",
       "4    727.0  437.00545\n",
       "..     ...        ...\n",
       "95  1014.0  427.00545\n",
       "96  1021.0  432.00545\n",
       "97  1032.0  436.00545\n",
       "98  1037.0  440.00545\n",
       "99  1046.0  446.00545\n",
       "\n",
       "[100 rows x 2 columns]"
      ]
     },
     "execution_count": 5,
     "metadata": {},
     "output_type": "execute_result"
    }
   ],
   "source": [
    "df15 = pd.read_csv('pred_pos2.csv')\n",
    "df15"
   ]
  },
  {
   "cell_type": "code",
   "execution_count": 6,
   "metadata": {},
   "outputs": [
    {
     "data": {
      "image/png": "[encoded data removed]",
      "text/plain": [
       "<Figure size 640x480 with 1 Axes>"
      ]
     },
     "metadata": {},
     "output_type": "display_data"
    }
   ],
   "source": [
    "#plot the df15 coordinates\n",
    "x15 = df15['x']\n",
    "y15 = df15['y']\n",
    "from matplotlib import markers\n",
    "plt.plot(x15, y15, marker='s', color='green', label='Physics Pred Value')\n",
    "# plt.plot(center_x, center_y, marker='o', color='red', label='Ground Truth')\n",
    "plt.xlabel('Width of the room in Pixels')\n",
    "plt.ylabel('Height of the room in Pixels')\n",
    "plt.legend()\n",
    "plt.show()"
   ]
  },
  {
   "cell_type": "code",
   "execution_count": 17,
   "metadata": {},
   "outputs": [],
   "source": [
    "#calculate the center_x and center_y coordinates for ground truth\n",
    "center_x = []\n",
    "center_y = []\n",
    "for i in range(len(x1)):\n",
    "    center_x.append(x1[i] + 0.5 *width[i] )\n",
    "    center_y.append(y1[i] + 0.5 * height[i])"
   ]
  },
  {
   "cell_type": "code",
   "execution_count": 23,
   "metadata": {},
   "outputs": [],
   "source": [
    "count = 0\n",
    "for i in range(len(x1)):\n",
    "    predicted_coordinates15 = list(zip(x15,y15))\n",
    "    ground_coordinates = list(zip(center_x,center_y))\n",
    "    count += 1"
   ]
  },
  {
   "cell_type": "code",
   "execution_count": 24,
   "metadata": {},
   "outputs": [
    {
     "name": "stdout",
     "output_type": "stream",
     "text": [
      "ADE for physics is: 13.602338261445553 and AMD for physics is: 0.5225212073360682\n"
     ]
    }
   ],
   "source": [
    "error24 = avg_displacement_error(predicted_coordinates15, ground_coordinates)\n",
    "error25 = avg_mahalanobis_distance(predicted_coordinates15, ground_coordinates)\n",
    "print('ADE for physics is:', error24, 'and AMD for physics is:', error25)"
   ]
  },
  {
   "cell_type": "code",
   "execution_count": 19,
   "metadata": {},
   "outputs": [
    {
     "data": {
      "image/png": "[encoded data removed]",
      "text/plain": [
       "<Figure size 640x480 with 1 Axes>"
      ]
     },
     "metadata": {},
     "output_type": "display_data"
    }
   ],
   "source": [
    "#plot the center_x and center_y coordinates for ground truth\n",
    "from matplotlib import markers\n",
    "plt.plot(x15, y15, marker='s', color='green', label='Physics Pred Value')\n",
    "plt.plot(center_x, center_y, marker='o', color='red', label='Ground Truth')\n",
    "plt.xlabel('Width of the room in Pixels')\n",
    "plt.ylabel('Height of the room in Pixels')\n",
    "plt.legend()\n",
    "plt.show()"
   ]
  }
 ],
 "metadata": {
  "kernelspec": {
   "display_name": "Python 3",
   "language": "python",
   "name": "python3"
  },
  "language_info": {
   "codemirror_mode": {
    "name": "ipython",
    "version": 3
   },
   "file_extension": ".py",
   "mimetype": "text/x-python",
   "name": "python",
   "nbconvert_exporter": "python",
   "pygments_lexer": "ipython3",
   "version": "3.9.13"
  },
  "orig_nbformat": 4
 },
 "nbformat": 4,
 "nbformat_minor": 2
}
