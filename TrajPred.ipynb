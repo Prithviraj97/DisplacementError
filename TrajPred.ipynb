{
 "cells": [
  {
   "cell_type": "code",
   "execution_count": 1,
   "metadata": {},
   "outputs": [
    {
     "ename": "ModuleNotFoundError",
     "evalue": "No module named 'tensorflow.python'",
     "output_type": "error",
     "traceback": [
      "\u001b[1;31m---------------------------------------------------------------------------\u001b[0m",
      "\u001b[1;31mModuleNotFoundError\u001b[0m                       Traceback (most recent call last)",
      "Cell \u001b[1;32mIn [1], line 2\u001b[0m\n\u001b[0;32m      1\u001b[0m \u001b[39m#GRU based trajectory prediction. \u001b[39;00m\n\u001b[1;32m----> 2\u001b[0m \u001b[39mfrom\u001b[39;00m \u001b[39mkeras\u001b[39;00m\u001b[39m.\u001b[39;00m\u001b[39mlayers\u001b[39;00m \u001b[39mimport\u001b[39;00m Input, GRU, Dense\n\u001b[0;32m      3\u001b[0m \u001b[39mfrom\u001b[39;00m \u001b[39mkeras\u001b[39;00m\u001b[39m.\u001b[39;00m\u001b[39mmodels\u001b[39;00m \u001b[39mimport\u001b[39;00m Model\n\u001b[0;32m      4\u001b[0m \u001b[39mimport\u001b[39;00m \u001b[39mnumpy\u001b[39;00m \u001b[39mas\u001b[39;00m \u001b[39mnp\u001b[39;00m\n",
      "File \u001b[1;32m~\\AppData\\Local\\Packages\\PythonSoftwareFoundation.Python.3.9_qbz5n2kfra8p0\\LocalCache\\local-packages\\Python39\\site-packages\\keras\\__init__.py:21\u001b[0m\n\u001b[0;32m     15\u001b[0m \u001b[39m\"\"\"Implementation of the Keras API, the high-level API of TensorFlow.\u001b[39;00m\n\u001b[0;32m     16\u001b[0m \n\u001b[0;32m     17\u001b[0m \u001b[39mDetailed documentation and user guides are available at\u001b[39;00m\n\u001b[0;32m     18\u001b[0m \u001b[39m[keras.io](https://keras.io).\u001b[39;00m\n\u001b[0;32m     19\u001b[0m \u001b[39m\"\"\"\u001b[39;00m\n\u001b[0;32m     20\u001b[0m \u001b[39mfrom\u001b[39;00m \u001b[39mkeras\u001b[39;00m \u001b[39mimport\u001b[39;00m distribute\n\u001b[1;32m---> 21\u001b[0m \u001b[39mfrom\u001b[39;00m \u001b[39mkeras\u001b[39;00m \u001b[39mimport\u001b[39;00m models\n\u001b[0;32m     22\u001b[0m \u001b[39mfrom\u001b[39;00m \u001b[39mkeras\u001b[39;00m\u001b[39m.\u001b[39;00m\u001b[39mengine\u001b[39;00m\u001b[39m.\u001b[39;00m\u001b[39minput_layer\u001b[39;00m \u001b[39mimport\u001b[39;00m Input\n\u001b[0;32m     23\u001b[0m \u001b[39mfrom\u001b[39;00m \u001b[39mkeras\u001b[39;00m\u001b[39m.\u001b[39;00m\u001b[39mengine\u001b[39;00m\u001b[39m.\u001b[39;00m\u001b[39msequential\u001b[39;00m \u001b[39mimport\u001b[39;00m Sequential\n",
      "File \u001b[1;32m~\\AppData\\Local\\Packages\\PythonSoftwareFoundation.Python.3.9_qbz5n2kfra8p0\\LocalCache\\local-packages\\Python39\\site-packages\\keras\\models\\__init__.py:18\u001b[0m\n\u001b[0;32m      1\u001b[0m \u001b[39m# Copyright 2022 The TensorFlow Authors. All Rights Reserved.\u001b[39;00m\n\u001b[0;32m      2\u001b[0m \u001b[39m#\u001b[39;00m\n\u001b[0;32m      3\u001b[0m \u001b[39m# Licensed under the Apache License, Version 2.0 (the \"License\");\u001b[39;00m\n\u001b[1;32m   (...)\u001b[0m\n\u001b[0;32m     13\u001b[0m \u001b[39m# limitations under the License.\u001b[39;00m\n\u001b[0;32m     14\u001b[0m \u001b[39m# ==============================================================================\u001b[39;00m\n\u001b[0;32m     15\u001b[0m \u001b[39m\"\"\"Keras models API.\"\"\"\u001b[39;00m\n\u001b[1;32m---> 18\u001b[0m \u001b[39mfrom\u001b[39;00m \u001b[39mkeras\u001b[39;00m\u001b[39m.\u001b[39;00m\u001b[39mengine\u001b[39;00m\u001b[39m.\u001b[39;00m\u001b[39mfunctional\u001b[39;00m \u001b[39mimport\u001b[39;00m Functional\n\u001b[0;32m     19\u001b[0m \u001b[39mfrom\u001b[39;00m \u001b[39mkeras\u001b[39;00m\u001b[39m.\u001b[39;00m\u001b[39mengine\u001b[39;00m\u001b[39m.\u001b[39;00m\u001b[39msequential\u001b[39;00m \u001b[39mimport\u001b[39;00m Sequential\n\u001b[0;32m     20\u001b[0m \u001b[39mfrom\u001b[39;00m \u001b[39mkeras\u001b[39;00m\u001b[39m.\u001b[39;00m\u001b[39mengine\u001b[39;00m\u001b[39m.\u001b[39;00m\u001b[39mtraining\u001b[39;00m \u001b[39mimport\u001b[39;00m Model\n",
      "File \u001b[1;32m~\\AppData\\Local\\Packages\\PythonSoftwareFoundation.Python.3.9_qbz5n2kfra8p0\\LocalCache\\local-packages\\Python39\\site-packages\\keras\\engine\\functional.py:24\u001b[0m\n\u001b[0;32m     21\u001b[0m \u001b[39mimport\u001b[39;00m \u001b[39mitertools\u001b[39;00m\n\u001b[0;32m     22\u001b[0m \u001b[39mimport\u001b[39;00m \u001b[39mwarnings\u001b[39;00m\n\u001b[1;32m---> 24\u001b[0m \u001b[39mimport\u001b[39;00m \u001b[39mtensorflow\u001b[39;00m\u001b[39m.\u001b[39;00m\u001b[39mcompat\u001b[39;00m\u001b[39m.\u001b[39;00m\u001b[39mv2\u001b[39;00m \u001b[39mas\u001b[39;00m \u001b[39mtf\u001b[39;00m\n\u001b[0;32m     26\u001b[0m \u001b[39mfrom\u001b[39;00m \u001b[39mkeras\u001b[39;00m \u001b[39mimport\u001b[39;00m backend\n\u001b[0;32m     27\u001b[0m \u001b[39mfrom\u001b[39;00m \u001b[39mkeras\u001b[39;00m\u001b[39m.\u001b[39;00m\u001b[39mdtensor\u001b[39;00m \u001b[39mimport\u001b[39;00m layout_map \u001b[39mas\u001b[39;00m layout_map_lib\n",
      "File \u001b[1;32m~\\AppData\\Local\\Packages\\PythonSoftwareFoundation.Python.3.9_qbz5n2kfra8p0\\LocalCache\\local-packages\\Python39\\site-packages\\tensorflow\\__init__.py:37\u001b[0m\n\u001b[0;32m     34\u001b[0m \u001b[39mimport\u001b[39;00m \u001b[39msys\u001b[39;00m \u001b[39mas\u001b[39;00m \u001b[39m_sys\u001b[39;00m\n\u001b[0;32m     35\u001b[0m \u001b[39mimport\u001b[39;00m \u001b[39mtyping\u001b[39;00m \u001b[39mas\u001b[39;00m \u001b[39m_typing\u001b[39;00m\n\u001b[1;32m---> 37\u001b[0m \u001b[39mfrom\u001b[39;00m \u001b[39mtensorflow\u001b[39;00m\u001b[39m.\u001b[39;00m\u001b[39mpython\u001b[39;00m\u001b[39m.\u001b[39;00m\u001b[39mtools\u001b[39;00m \u001b[39mimport\u001b[39;00m module_util \u001b[39mas\u001b[39;00m _module_util\n\u001b[0;32m     38\u001b[0m \u001b[39mfrom\u001b[39;00m \u001b[39mtensorflow\u001b[39;00m\u001b[39m.\u001b[39;00m\u001b[39mpython\u001b[39;00m\u001b[39m.\u001b[39;00m\u001b[39mutil\u001b[39;00m\u001b[39m.\u001b[39;00m\u001b[39mlazy_loader\u001b[39;00m \u001b[39mimport\u001b[39;00m LazyLoader \u001b[39mas\u001b[39;00m _LazyLoader\n\u001b[0;32m     40\u001b[0m \u001b[39m# Make sure code inside the TensorFlow codebase can use tf2.enabled() at import.\u001b[39;00m\n",
      "\u001b[1;31mModuleNotFoundError\u001b[0m: No module named 'tensorflow.python'"
     ]
    }
   ],
   "source": [
    "#GRU based trajectory prediction. \n",
    "from keras.layers import Input, GRU, Dense\n",
    "from keras.models import Model\n",
    "import numpy as np\n",
    "\n",
    "# Generate synthetic data\n",
    "timesteps = 20\n",
    "num_samples = 1000\n",
    "input_dim = 2\n",
    "output_dim = 2\n",
    "\n",
    "X = np.random.rand(num_samples, timesteps, input_dim)\n",
    "y = np.random.rand(num_samples, output_dim)\n",
    "\n",
    "# Define the model\n",
    "inputs = Input(shape=(timesteps, input_dim))\n",
    "x = GRU(32, return_sequences=True)(inputs)\n",
    "x = GRU(32, return_sequences=False)(x)\n",
    "predictions = Dense(output_dim)(x)\n",
    "\n",
    "model = Model(inputs=inputs, outputs=predictions)\n",
    "model.compile(optimizer='adam', loss='mean_squared_error')\n",
    "\n",
    "# Fit the model\n",
    "model.fit(X, y, epochs=10, batch_size=32)\n",
    "\n",
    "# Make predictions\n",
    "X_test = np.random.rand(10, timesteps, input_dim)\n",
    "predictions = model.predict(X_test)\n",
    "print(predictions)\n"
   ]
  },
  {
   "cell_type": "code",
   "execution_count": null,
   "metadata": {},
   "outputs": [],
   "source": [
    "'''This code uses the Keras library to define and train an RNN model. The model takes in a sequence of past positions of the ball, represented by an array of shape (batch_size, sequence_length, 2), where the last dimension is the x and y coordinates. The model uses an LSTM layer with 32 units to process the input sequence, and a Dense layer with 2 units to output the predicted position of the ball.\n",
    "\n",
    "In this example, the training data is generated by creating random positions and rolling them by one step forward to create the corresponding labels, but you can use real data that you have.\n",
    "\n",
    "It's important to note that this is just an example, and you may need to adjust the specifics of the code, such as the number of units in the LSTM layer, the number of training examples, or the sequence length, depending on the complexity of your task and the quality of the data you have. Additionally, you may want to experiment with different types of layers and architectures to see which ones work best for your task.'''\n",
    "\n",
    "\n",
    "import numpy as np\n",
    "from keras.models import Sequential\n",
    "from keras.layers import LSTM, Dense\n",
    "\n",
    "# Create a function to generate training data\n",
    "def generate_data(num_points, sequence_length):\n",
    "    x = np.random.rand(num_points, sequence_length, 2)\n",
    "    y = np.roll(x, -1, axis=1)\n",
    "    return x, y\n",
    "\n",
    "# Generate training data\n",
    "x_train, y_train = generate_data(10000, 10)\n",
    "\n",
    "# Create the RNN model\n",
    "model = Sequential()\n",
    "model.add(LSTM(32, input_shape=(None, 2)))\n",
    "model.add(Dense(2))\n",
    "model.compile(loss='mean_squared_error', optimizer='adam')\n",
    "\n",
    "# Train the model\n",
    "model.fit(x_train, y_train, epochs=10, batch_size=64)\n",
    "\n",
    "# Use the trained model to make predictions\n",
    "x_test, y_test = generate_data(1000, 10)\n",
    "predictions = model.predict(x_test)\n",
    "\n"
   ]
  },
  {
   "attachments": {},
   "cell_type": "markdown",
   "metadata": {},
   "source": [
    "This code first generates synthetic input and output data using numpy. It then defines a keras model with an input layer, two GRU layers, and an output layer. The model is compiled and fitted to the synthetic data using the fit method. Finally, the model is used to make predictions on a test dataset using the predict method."
   ]
  },
  {
   "cell_type": "code",
   "execution_count": null,
   "metadata": {},
   "outputs": [],
   "source": [
    "#CNN Based Trajectory Prediction\n",
    "from keras.layers import Input, Conv2D, MaxPooling2D, Flatten, Dense, TimeDistributed\n",
    "from keras.models import Model\n",
    "import numpy as np\n",
    "\n",
    "# Generate synthetic data\n",
    "timesteps = 20\n",
    "num_samples = 1000\n",
    "input_dim = (64, 64, 3) # assuming the input images are 64x64 pixels and have 3 color channels (RGB)\n",
    "output_dim = 2\n",
    "\n",
    "X = np.random.rand(num_samples, timesteps, input_dim[0], input_dim[1], input_dim[2])\n",
    "y = np.random.rand(num_samples, output_dim)\n",
    "\n",
    "# Define the model\n",
    "inputs = Input(shape=(timesteps, input_dim[0], input_dim[1], input_dim[2]))\n",
    "x = TimeDistributed(Conv2D(32, kernel_size=(3, 3), activation='relu'))(inputs)\n",
    "x = TimeDistributed(MaxPooling2D(pool_size=(2, 2)))(x)\n",
    "x = TimeDistributed(Flatten())(x)\n",
    "x = GRU(32, return_sequences=False)(x)\n",
    "predictions = Dense(output_dim)(x)\n",
    "\n",
    "model = Model(inputs=inputs, outputs=predictions)\n",
    "model.compile(optimizer='adam', loss='mean_squared_error')\n",
    "\n",
    "# Fit the model\n",
    "model.fit(X, y, epochs=10, batch_size=32)\n",
    "\n",
    "# Make predictions\n",
    "X_test = np.random.rand(10, timesteps, input_dim[0], input_dim[1], input_dim[2])\n",
    "predictions = model.predict(X_test)\n",
    "print(predictions)"
   ]
  },
  {
   "cell_type": "markdown",
   "metadata": {},
   "source": []
  },
  {
   "attachments": {},
   "cell_type": "markdown",
   "metadata": {},
   "source": [
    "The key difference from the previous example is that this model includes a convolutional layer (Conv2D) and a max pooling layer (MaxPooling2D) to process the input images. The Conv2D layer applies a set of filters to the input images, which helps to extract spatial features from the images. The MaxPooling2D layer then downsamples the output of the convolutional layer, which helps to reduce the dimensionality of the feature maps.\n",
    "\n",
    "Also in this example, I used the TimeDistributed wrapper on the convolutional and max-pooling layer to apply the same set of filter and maxpooling operation at each time-step.\n",
    "\n",
    "Note: This is just an example and might not represent the best model for your use case. It is important to understand the characteristics of your data and experiment with different architectures to find the best model for your problem."
   ]
  },
  {
   "attachments": {},
   "cell_type": "markdown",
   "metadata": {},
   "source": [
    "Projectile Motion Model"
   ]
  },
  {
   "attachments": {},
   "cell_type": "markdown",
   "metadata": {},
   "source": [
    "This function takes in the initial velocity v, launch angle theta, gravitational acceleration g, and time elapsed since launch t as arguments. It calculates the x and y components of the velocity, and then uses these to calculate the x and y positions of the projectile at time t using the projectile motion equations.\n",
    "\n",
    "You could use this function to predict the trajectory of a ball in 2D space given its initial velocity and launch angle. You could also use machine learning techniques to train a model to predict the trajectory based on a dataset of ball launch parameters and resulting trajectories."
   ]
  },
  {
   "cell_type": "code",
   "execution_count": 1,
   "metadata": {},
   "outputs": [],
   "source": [
    "import math\n",
    "\n",
    "def projectile_motion_model(v, theta, g, t):\n",
    "    \"\"\"\n",
    "    Calculates the trajectory of a projectile in 2D space using the projectile motion model.\n",
    "\n",
    "    Arguments:\n",
    "    v -- initial velocity of the projectile (m/s)\n",
    "    theta -- angle of launch in radians\n",
    "    g -- gravitational acceleration (m/s^2)\n",
    "    t -- time elapsed since launch (s)\n",
    "\n",
    "    Returns:\n",
    "    A tuple containing the x and y position of the projectile at time t.\n",
    "    \"\"\"\n",
    "\n",
    "    # Calculate the x and y components of the velocity\n",
    "    vx = v * math.cos(theta)\n",
    "    vy = v * math.sin(theta)\n",
    "\n",
    "    # Calculate the x and y positions of the projectile\n",
    "    x = vx * t\n",
    "    y = vy * t - 0.5 * g * t**2\n",
    "\n",
    "    return (x, y)\n"
   ]
  },
  {
   "cell_type": "code",
   "execution_count": 2,
   "metadata": {},
   "outputs": [
    {
     "data": {
      "text/plain": [
       "(142.19860166952571, 90.76103335521807)"
      ]
     },
     "execution_count": 2,
     "metadata": {},
     "output_type": "execute_result"
    },
    {
     "ename": "",
     "evalue": "",
     "output_type": "error",
     "traceback": [
      "\u001b[1;31mThe Kernel crashed while executing code in the the current cell or a previous cell. Please review the code in the cell(s) to identify a possible cause of the failure. Click <a href='https://aka.ms/vscodeJupyterKernelCrash'>here</a> for more info. View Jupyter <a href='command:jupyter.viewOutput'>log</a> for further details."
     ]
    }
   ],
   "source": [
    "projectile_motion_model(90, 0.66, 9.8, 2)"
   ]
  },
  {
   "attachments": {},
   "cell_type": "markdown",
   "metadata": {},
   "source": [
    "Transformer Based TrajPred"
   ]
  },
  {
   "cell_type": "code",
   "execution_count": null,
   "metadata": {},
   "outputs": [],
   "source": [
    "import torch\n",
    "import torch.nn as nn\n",
    "\n",
    "class BallTrajectoryTransformer(nn.Module):\n",
    "    def __init__(self, input_size, output_size, num_layers, hidden_size, num_heads, dropout):\n",
    "        super().__init__()\n",
    "\n",
    "        self.encoder_layer = nn.TransformerEncoderLayer(input_size, num_heads, hidden_size, dropout)\n",
    "        self.encoder = nn.TransformerEncoder(self.encoder_layer, num_layers)\n",
    "        self.decoder = nn.Linear(input_size, output_size)\n",
    "\n",
    "    def forward(self, x):\n",
    "        # Transpose input to (sequence_length, batch_size, input_size)\n",
    "        x = x.transpose(0, 1)\n",
    "\n",
    "        # Apply transformer encoder\n",
    "        x = self.encoder(x)\n",
    "\n",
    "        # Take only the last item in the sequence\n",
    "        x = x[-1]\n",
    "\n",
    "        # Predict the output using a linear layer\n",
    "        x = self.decoder(x)\n",
    "\n",
    "        return x\n"
   ]
  },
  {
   "attachments": {},
   "cell_type": "markdown",
   "metadata": {},
   "source": [
    "Sure, here's an example design for a transformer-based model that can be trained to predict the trajectory of a ball in 2D space.\n",
    "\n",
    "First, let's define the input and output of the model. The input will consist of a sequence of observations of the ball's position and velocity at different points in time. Each observation will include the x and y components of the ball's position and velocity, so the input will have shape (sequence_length, 4). The output will be the x and y position of the ball at a future point in time, so it will have shape (2,).\n",
    "\n",
    "Next, we'll use a transformer-based model to process the input sequence and generate the output prediction. The transformer will consist of several layers of self-attention and feed-forward neural networks, similar to the transformer architecture used in natural language processing tasks.\n",
    "\n",
    "The BallTrajectoryTransformer class defines a transformer-based model with a specified number of layers, hidden size, number of heads, and dropout rate. The forward method takes in an input sequence of shape (batch_size, sequence_length, input_size) and applies the transformer encoder to generate a final hidden state. This hidden state is then passed through a linear layer to generate the output prediction.\n",
    "\n",
    "To train this model, you would need to define a loss function that compares the predicted output to the true output, and then use an optimizer to update the model's parameters based on the loss. You could train the model using a dataset of ball launch parameters and resulting trajectories, where each input sequence is a series of observations of the ball's position and velocity, and the output is the x and y position of the ball at a future point in time."
   ]
  }
 ],
 "metadata": {
  "kernelspec": {
   "display_name": "Python 3",
   "language": "python",
   "name": "python3"
  },
  "language_info": {
   "codemirror_mode": {
    "name": "ipython",
    "version": 3
   },
   "file_extension": ".py",
   "mimetype": "text/x-python",
   "name": "python",
   "nbconvert_exporter": "python",
   "pygments_lexer": "ipython3",
   "version": "3.9.13"
  },
  "orig_nbformat": 4,
  "vscode": {
   "interpreter": {
    "hash": "8e284ee3255a07ad8bf76694974743c4c81cb57e7c969474d752d949b11d721e"
   }
  }
 },
 "nbformat": 4,
 "nbformat_minor": 2
}
