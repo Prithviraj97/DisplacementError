{
 "cells": [
  {
   "cell_type": "code",
   "execution_count": 1,
   "metadata": {},
   "outputs": [],
   "source": [
    "import pandas as pd\n",
    "import matplotlib.pyplot as plt\n",
    "import numpy as np"
   ]
  },
  {
   "cell_type": "code",
   "execution_count": 2,
   "metadata": {},
   "outputs": [],
   "source": [
    "df = pd.read_csv('C:\\\\Users\\\\C00488381\\\\Downloads\\\\data.csv', index_col=0)"
   ]
  },
  {
   "cell_type": "code",
   "execution_count": 3,
   "metadata": {},
   "outputs": [
    {
     "data": {
      "text/html": [
       "<div>\n",
       "<style scoped>\n",
       "    .dataframe tbody tr th:only-of-type {\n",
       "        vertical-align: middle;\n",
       "    }\n",
       "\n",
       "    .dataframe tbody tr th {\n",
       "        vertical-align: top;\n",
       "    }\n",
       "\n",
       "    .dataframe thead th {\n",
       "        text-align: right;\n",
       "    }\n",
       "</style>\n",
       "<table border=\"1\" class=\"dataframe\">\n",
       "  <thead>\n",
       "    <tr style=\"text-align: right;\">\n",
       "      <th></th>\n",
       "      <th>file_name</th>\n",
       "      <th>x</th>\n",
       "      <th>y</th>\n",
       "      <th>z</th>\n",
       "    </tr>\n",
       "  </thead>\n",
       "  <tbody>\n",
       "    <tr>\n",
       "      <th>0</th>\n",
       "      <td>left000000.png</td>\n",
       "      <td>124.502054</td>\n",
       "      <td>679.643285</td>\n",
       "      <td>2310.755371</td>\n",
       "    </tr>\n",
       "    <tr>\n",
       "      <th>1</th>\n",
       "      <td>left000002.png</td>\n",
       "      <td>123.913988</td>\n",
       "      <td>681.917855</td>\n",
       "      <td>2280.133057</td>\n",
       "    </tr>\n",
       "    <tr>\n",
       "      <th>2</th>\n",
       "      <td>left000003.png</td>\n",
       "      <td>121.658056</td>\n",
       "      <td>689.933791</td>\n",
       "      <td>2260.319580</td>\n",
       "    </tr>\n",
       "    <tr>\n",
       "      <th>3</th>\n",
       "      <td>left000057.png</td>\n",
       "      <td>211.483622</td>\n",
       "      <td>676.423876</td>\n",
       "      <td>2356.459961</td>\n",
       "    </tr>\n",
       "    <tr>\n",
       "      <th>4</th>\n",
       "      <td>left000058.png</td>\n",
       "      <td>215.183044</td>\n",
       "      <td>677.657017</td>\n",
       "      <td>2517.187256</td>\n",
       "    </tr>\n",
       "    <tr>\n",
       "      <th>...</th>\n",
       "      <td>...</td>\n",
       "      <td>...</td>\n",
       "      <td>...</td>\n",
       "      <td>...</td>\n",
       "    </tr>\n",
       "    <tr>\n",
       "      <th>243</th>\n",
       "      <td>left000349.png</td>\n",
       "      <td>671.051213</td>\n",
       "      <td>465.859838</td>\n",
       "      <td>NaN</td>\n",
       "    </tr>\n",
       "    <tr>\n",
       "      <th>244</th>\n",
       "      <td>left000350.png</td>\n",
       "      <td>676.571429</td>\n",
       "      <td>465.514825</td>\n",
       "      <td>NaN</td>\n",
       "    </tr>\n",
       "    <tr>\n",
       "      <th>245</th>\n",
       "      <td>left000351.png</td>\n",
       "      <td>676.916442</td>\n",
       "      <td>465.859838</td>\n",
       "      <td>13845.932620</td>\n",
       "    </tr>\n",
       "    <tr>\n",
       "      <th>246</th>\n",
       "      <td>left000352.png</td>\n",
       "      <td>678.296496</td>\n",
       "      <td>467.584906</td>\n",
       "      <td>13126.897460</td>\n",
       "    </tr>\n",
       "    <tr>\n",
       "      <th>247</th>\n",
       "      <td>left000353.png</td>\n",
       "      <td>681.056604</td>\n",
       "      <td>469.309973</td>\n",
       "      <td>13553.369140</td>\n",
       "    </tr>\n",
       "  </tbody>\n",
       "</table>\n",
       "<p>248 rows × 4 columns</p>\n",
       "</div>"
      ],
      "text/plain": [
       "          file_name           x           y            z \n",
       "0    left000000.png  124.502054  679.643285   2310.755371\n",
       "1    left000002.png  123.913988  681.917855   2280.133057\n",
       "2    left000003.png  121.658056  689.933791   2260.319580\n",
       "3    left000057.png  211.483622  676.423876   2356.459961\n",
       "4    left000058.png  215.183044  677.657017   2517.187256\n",
       "..              ...         ...         ...           ...\n",
       "243  left000349.png  671.051213  465.859838           NaN\n",
       "244  left000350.png  676.571429  465.514825           NaN\n",
       "245  left000351.png  676.916442  465.859838  13845.932620\n",
       "246  left000352.png  678.296496  467.584906  13126.897460\n",
       "247  left000353.png  681.056604  469.309973  13553.369140\n",
       "\n",
       "[248 rows x 4 columns]"
      ]
     },
     "execution_count": 3,
     "metadata": {},
     "output_type": "execute_result"
    }
   ],
   "source": [
    "df"
   ]
  },
  {
   "cell_type": "code",
   "execution_count": 4,
   "metadata": {},
   "outputs": [],
   "source": [
    "index = df['z '].index[df['z '].apply(np.isnan)]\n",
    "df_index = df.index.values.tolist()\n",
    "tt = [df_index.index(i) for i in index] "
   ]
  },
  {
   "cell_type": "code",
   "execution_count": 5,
   "metadata": {},
   "outputs": [],
   "source": [
    "v = df['z '].interpolate(method='linear', limit_direction='both')"
   ]
  },
  {
   "cell_type": "code",
   "execution_count": 6,
   "metadata": {},
   "outputs": [],
   "source": [
    "df2 = df[['file_name','x','y']]\n",
    "df2['z']=v\n",
    "df_interp = df2.iloc[tt,:]"
   ]
  },
  {
   "cell_type": "code",
   "execution_count": 7,
   "metadata": {},
   "outputs": [],
   "source": [
    "df2.drop(tt, inplace=True)"
   ]
  },
  {
   "cell_type": "code",
   "execution_count": 8,
   "metadata": {},
   "outputs": [],
   "source": [
    "df2.to_csv('interop.csv')"
   ]
  },
  {
   "cell_type": "code",
   "execution_count": 9,
   "metadata": {},
   "outputs": [],
   "source": [
    "from matplotlib.pyplot import axis\n",
    "from mpl_toolkits import mplot3d\n",
    "from mpl_toolkits.mplot3d import Axes3D\n",
    "%matplotlib qt"
   ]
  },
  {
   "cell_type": "code",
   "execution_count": 10,
   "metadata": {},
   "outputs": [],
   "source": [
    "x = df2['x']\n",
    "y = df2['y']\n",
    "z = df2['z']"
   ]
  },
  {
   "cell_type": "code",
   "execution_count": 11,
   "metadata": {},
   "outputs": [],
   "source": [
    "fig = plt.figure()\n",
    "ax = fig.add_subplot(111, projection='3d')\n",
    "ax.scatter(df2['x'],df2['y'],df2['z'], c='r', marker='o')\n",
    "ax.scatter(df_interp['x'],df_interp['y'],df_interp['z'], c='b', marker='x')\n",
    "ax.set_xlabel('X Label')\n",
    "ax.set_ylabel('Y label')\n",
    "ax.set_zlabel('Z label')\n",
    "plt.show()"
   ]
  },
  {
   "cell_type": "code",
   "execution_count": 23,
   "metadata": {},
   "outputs": [],
   "source": [
    "fig = plt.figure()\n",
    "ax = fig.add_subplot(111, projection='3d')\n",
    "# ax.scatter(df2['x'],df2['y'],df2['z'], c='r', marker='o')\n",
    "# ax.scatter(df_interp['x'],df_interp['y'],df_interp['z'], c='b', marker='x')\n",
    "ax.set_xlabel('X Label')\n",
    "ax.set_ylabel('Y label')\n",
    "ax.set_zlabel('Z label')\n",
    "plt.show()"
   ]
  },
  {
   "attachments": {},
   "cell_type": "markdown",
   "metadata": {},
   "source": [
    "New Prediction result 3D plot data manipulation."
   ]
  },
  {
   "cell_type": "code",
   "execution_count": 13,
   "metadata": {},
   "outputs": [],
   "source": [
    "data = [('left002001.png', 718.5, 422.0, 4874.22998046875), ('left002002.png', 723.0, 423.0, 4817.92236328125), ('left002003.png', 721.0, 426.0, 5044.953125), ('left002004.png', 721.5, 426.5, 6582.4189453125), ('left002005.png', 724.0, 431.0, 0), ('left002006.png', 725.0, 436.0, 0), ('left002007.png', 728.0, 438.0, 7887.6826171875), ('left002008.png', 728.0, 444.0, 7860.18017578125), ('left002009.png', 729.0, 449.5, 7385.51318359375), ('left002010.png', 732.0, 456.0, 5883.9970703125), ('left002011.png', 733.0, 458.5, 5796.201171875), ('left002012.png', 736.0, 445.0, 6687.8427734375), ('left002013.png', 738.0, 436.0, 7322.50732421875), ('left002014.png', 737.0, 426.5, 7466.43310546875), ('left002015.png', 740.0, 420.5, 7649.49609375), ('left002016.png', 741.0, 413.5, 8108.8046875), ('left002017.png', 744.0, 406.5, 8188.69384765625), ('left002018.png', 744.0, 401.5, 8591.8359375), ('left002019.png', 745.0, 396.5, 8446.1640625), ('left002020.png', 746.0, 392.5, 8539.7392578125), ('left002021.png', 748.0, 388.5, 9133.466796875), ('left002022.png', 750.0, 385.0, 8973.8642578125), ('left002023.png', 751.0, 383.5, 9237.85546875), ('left002024.png', 752.0, 380.0, 9618.87890625), ('left002025.png', 752.5, 378.0, 9865.462890625), ('left002026.png', 753.0, 378.0, 9176.5517578125), ('left002027.png', 753.5, 376.0, 9818.08203125), ('left002028.png', 753.0, 375.5, 9602.736328125), ('left002029.png', 754.5, 374.5, 9517.2392578125), ('left002030.png', 756.5, 375.0, 9385.0966796875), ('left002031.png', 758.0, 374.0, 9676.451171875), ('left002032.png', 759.0, 375.0, 0), ('left002033.png', 758.5, 374.5, 9776.1162109375), ('left002034.png', 760.0, 376.0, 10186.40234375), ('left002035.png', 760.5, 377.0, 10001.93359375), ('left002036.png', 761.5, 377.0, 9830.8271484375), ('left002037.png', 761.0, 378.0, 10000.927734375), ('left002038.png', 763.0, 379.0, 10032.6025390625), ('left002039.png', 762.5, 381.5, 9694.2060546875), ('left002040.png', 764.0, 382.5, 9880.763671875), ('left002041.png', 764.0, 386.5, 9768.19140625), ('left002042.png', 765.0, 387.5, 9802.107421875), ('left002043.png', 767.0, 389.5, 9576.099609375), ('left002044.png', 768.0, 391.5, 9552.1474609375), ('left002045.png', 769.0, 395.5, 9300.0751953125), ('left002046.png', 773.5, 398.5, 9336.509765625), ('left002047.png', 777.0, 402.5, 9422.5673828125), ('left002048.png', 780.0, 404.0, 9318.130859375), ('left002049.png', 784.0, 410.5, 9335.17578125), ('left002050.png', 787.0, 413.5, 9149.87890625), ('left002051.png', 791.0, 419.5, 8967.236328125), ('left002052.png', 793.5, 423.0, 8958.6328125), ('left002053.png', 797.5, 428.5, 8862.0400390625), ('left002054.png', 801.5, 436.0, 8687.3916015625), ('left002055.png', 805.0, 442.5, 8771.0361328125), ('left002056.png', 720.0, 396.5, 6194.572265625), ('left002057.png', 809.5, 449.0, 8756.6650390625), ('left002058.png', 814.0, 456.0, 8714.0966796875), ('left002059.png', 731.0, 387.5, 6229.90673828125), ('left002060.png', 818.0, 464.0, 8583.765625), ('left002061.png', 735.0, 383.0, 6551.259765625), ('left002062.png', 823.0, 472.0, 8443.791015625), ('left002063.png', 737.5, 380.5, 6470.36767578125), ('left002064.png', 827.0, 481.0, 8367.322265625), ('left002065.png', 742.5, 379.0, 0), ('left002066.png', 830.0, 490.0, 7984.4521484375), ('left002067.png', 746.0, 377.5, 5496.7333984375), ('left002068.png', 836.0, 500.0, 7818.47412109375), ('left002069.png', 841.5, 511.0, 7606.73291015625), ('left002070.png', 750.5, 375.0, 5599.35986328125), ('left002071.png', 845.0, 518.0, 7452.34423828125), ('left002072.png', 849.5, 509.5, 7542.69140625), ('left002073.png', 853.0, 503.0, 7674.56494140625), ('left002074.png', 856.0, 496.0, 7815.3740234375), ('left002075.png', 860.0, 490.0, 7872.37646484375), ('left002076.png', 864.0, 485.5, 8260.3154296875), ('left002077.png', 868.0, 480.0, 8192.1943359375), ('left002078.png', 872.0, 474.5, 8215.5927734375), ('left002079.png', 874.0, 469.0, 8108.71240234375), ('left002080.png', 880.0, 462.5, 8194.1962890625), ('left002081.png', 884.0, 457.0, 8113.54052734375), ('left002082.png', 888.0, 454.0, 7552.037109375), ('left002083.png', 894.0, 448.0, 7187.22900390625), ('left002084.png', 898.0, 445.0, 7918.0458984375), ('left002085.png', 903.0, 441.0, 8618.34765625), ('left002086.png', 907.0, 436.0, 4587.201171875), ('left002087.png', 912.0, 433.5, 4482.44140625), ('left002088.png', 917.0, 430.5, 4575.23974609375), ('left002089.png', 921.0, 427.0, 4618.07177734375), ('left002090.png', 926.0, 425.0, 4773.3310546875), ('left002091.png', 932.0, 422.5, 4952.84130859375), ('left002092.png', 938.0, 420.0, 5080.5693359375), ('left002093.png', 943.0, 418.5, 5204.068359375), ('left002094.png', 950.0, 418.0, 5262.12353515625), ('left002095.png', 953.0, 417.0, 5439.7578125), ('left002096.png', 961.0, 416.0, 5665.90625), ('left002097.png', 966.5, 415.5, 5817.31298828125), ('left002098.png', 975.0, 416.0, 5760.9541015625), ('left002099.png', 987.0, 419.0, 5894.20166015625), ('left002100.png', 987.0, 419.0, 5951.734375)]\n"
   ]
  },
  {
   "cell_type": "code",
   "execution_count": 14,
   "metadata": {},
   "outputs": [
    {
     "name": "stdout",
     "output_type": "stream",
     "text": [
      "         file_name      x      y            z\n",
      "0   left002001.png  718.5  422.0  4874.229980\n",
      "1   left002002.png  723.0  423.0  4817.922363\n",
      "2   left002003.png  721.0  426.0  5044.953125\n",
      "3   left002004.png  721.5  426.5  6582.418945\n",
      "4   left002005.png  724.0  431.0     0.000000\n",
      "..             ...    ...    ...          ...\n",
      "95  left002096.png  961.0  416.0  5665.906250\n",
      "96  left002097.png  966.5  415.5  5817.312988\n",
      "97  left002098.png  975.0  416.0  5760.954102\n",
      "98  left002099.png  987.0  419.0  5894.201660\n",
      "99  left002100.png  987.0  419.0  5951.734375\n",
      "\n",
      "[100 rows x 4 columns]\n"
     ]
    }
   ],
   "source": [
    "df2 = pd.DataFrame(data)\n",
    "df2.columns = ['file_name', 'x','y','z']\n",
    "print(df2)"
   ]
  },
  {
   "cell_type": "code",
   "execution_count": 15,
   "metadata": {},
   "outputs": [
    {
     "data": {
      "text/plain": [
       "0    718.5\n",
       "1    723.0\n",
       "2    721.0\n",
       "3    721.5\n",
       "4    724.0\n",
       "Name: x, dtype: float64"
      ]
     },
     "execution_count": 15,
     "metadata": {},
     "output_type": "execute_result"
    }
   ],
   "source": [
    "a = df2['x'][:5]\n",
    "a"
   ]
  },
  {
   "cell_type": "code",
   "execution_count": 16,
   "metadata": {},
   "outputs": [
    {
     "data": {
      "text/plain": [
       "x\n",
       "124.502054   NaN\n",
       "123.913988   NaN\n",
       "121.658056   NaN\n",
       "211.483622   NaN\n",
       "215.183044   NaN\n",
       "              ..\n",
       "669.326146   NaN\n",
       "671.051213   NaN\n",
       "676.916442   NaN\n",
       "678.296496   NaN\n",
       "681.056604   NaN\n",
       "Name: z, Length: 165, dtype: float64"
      ]
     },
     "execution_count": 16,
     "metadata": {},
     "output_type": "execute_result"
    }
   ],
   "source": [
    "s = pd.Series(df2['z'], index=x)\n",
    "s"
   ]
  },
  {
   "cell_type": "code",
   "execution_count": 17,
   "metadata": {},
   "outputs": [],
   "source": [
    "from matplotlib.pyplot import axis\n",
    "from mpl_toolkits import mplot3d\n",
    "from mpl_toolkits.mplot3d import Axes3D\n",
    "%matplotlib qt\n",
    "\n",
    "x = df2['x']\n",
    "y = df2['y']\n",
    "z = df2['z']"
   ]
  },
  {
   "cell_type": "code",
   "execution_count": 18,
   "metadata": {},
   "outputs": [],
   "source": [
    "data2 = [('left002001.png', 717.5, 424.5, 4892.001953125), ('left002002.png', 722.0, 426.0, 4819.07080078125), ('left002003.png', 722.5, 427.5, 5120.509765625), ('left002004.png', 723.5, 430.5, 0), ('left002005.png', 726.5, 435.0, 0), ('left002006.png', 728.0, 438.5, 0), ('left002007.png', 729.5, 444.5, 0), ('left002008.png', 731.0, 448.5, 0), ('left002009.png', 731.5, 454.0, 5936.61474609375), ('left002010.png', 732.5, 457.5, 0), ('left002011.png', 736.5, 444.5, 7431.63525390625), ('left002012.png', 737.0, 435.5, 0), ('left002013.png', 739.0, 427.5, 0), ('left002014.png', 740.5, 420.0, 0), ('left002015.png', 741.5, 413.5, 7620.99658203125), ('left002016.png', 743.0, 408.5, 8233.0869140625), ('left002017.png', 744.0, 401.0, 8631.6015625), ('left002018.png', 746.5, 398.0, 0), ('left002019.png', 747.5, 394.0, 7766.83935546875), ('left002020.png', 749.0, 389.0, 9174.3515625), ('left002021.png', 749.5, 385.0, 9038.25390625), ('left002022.png', 750.0, 382.5, 9391.1064453125), ('left002023.png', 752.0, 381.5, 9256.15234375), ('left002024.png', 752.5, 380.5, 9629.0205078125), ('left002025.png', 753.5, 376.5, 10478.1533203125), ('left002026.png', 755.0, 377.5, 9218.6337890625), ('left002027.png', 756.5, 376.5, 9859.1142578125), ('left002028.png', 756.0, 376.0, 10037.0380859375), ('left002029.png', 758.0, 373.5, 9761.392578125), ('left002030.png', 758.0, 374.5, 9303.72265625), ('left002031.png', 760.0, 376.0, 9728.5546875), ('left002032.png', 760.5, 375.0, 9188.6689453125), ('left002033.png', 760.5, 377.5, 9488.6728515625), ('left002034.png', 762.0, 378.5, 9747.3056640625), ('left002035.png', 762.5, 379.5, 0), ('left002036.png', 762.5, 380.5, 9979.4287109375), ('left002037.png', 762.5, 381.5, 9735.4462890625), ('left002038.png', 764.5, 384.5, 9637.72265625), ('left002039.png', 764.5, 386.5, 9363.1728515625), ('left002040.png', 765.5, 387.5, 9599.9560546875), ('left002041.png', 765.5, 390.0, 9574.5703125), ('left002042.png', 768.0, 393.5, 9628.6572265625), ('left002043.png', 770.5, 395.5, 9261.5), ('left002044.png', 774.0, 399.5, 9324.8408203125), ('left002045.png', 777.0, 400.5, 8872.439453125), ('left002046.png', 780.0, 405.5, 9352.9609375), ('left002047.png', 784.0, 410.0, 9517.994140625), ('left002048.png', 787.5, 415.0, 9063.1474609375), ('left002049.png', 790.5, 419.0, 9134.810546875), ('left002050.png', 795.0, 425.0, 8974.2431640625), ('left002051.png', 798.5, 431.0, 8918.416015625), ('left002052.png', 802.5, 436.5, 8709.0986328125), ('left002053.png', 807.0, 442.5, 8691.3369140625), ('left002054.png', 810.0, 449.0, 8344.30859375), ('left002055.png', 815.5, 456.0, 8650.51171875), ('left002056.png', 818.5, 464.0, 8674.595703125), ('left002057.png', 822.5, 472.5, 8367.4072265625), ('left002058.png', 827.0, 480.5, 8175.095703125), ('left002059.png', 832.0, 490.0, 8214.875), ('left002060.png', 835.0, 500.5, 8042.59033203125), ('left002061.png', 840.0, 513.0, 0), ('left002062.png', 846.5, 518.0, 7908.11376953125), ('left002063.png', 848.0, 511.0, 8081.2373046875), ('left002064.png', 853.0, 504.5, 0), ('left002065.png', 855.5, 498.0, 8083.24853515625), ('left002066.png', 860.0, 490.5, 0), ('left002067.png', 864.0, 485.5, 0), ('left002068.png', 868.0, 480.5, 0), ('left002069.png', 872.0, 472.0, 8446.6533203125), ('left002070.png', 876.0, 468.5, 8563.1142578125), ('left002071.png', 879.5, 462.5, 0), ('left002072.png', 883.5, 457.0, 8406.640625), ('left002073.png', 889.5, 451.5, 8548.484375), ('left002074.png', 892.5, 448.5, 0), ('left002075.png', 896.0, 443.5, 8231.2685546875), ('left002076.png', 902.0, 439.5, 0), ('left002077.png', 906.5, 435.5, 0), ('left002078.png', 911.0, 431.5, 0), ('left002079.png', 915.5, 430.0, 9061.005859375), ('left002080.png', 921.0, 426.0, 0), ('left002081.png', 925.5, 422.5, 0), ('left002082.png', 931.0, 422.5, 0), ('left002083.png', 936.5, 421.0, 0), ('left002084.png', 941.5, 417.5, 0), ('left002085.png', 948.5, 417.0, 0), ('left002086.png', 951.0, 416.0, 0), ('left002087.png', 960.5, 418.0, 4612.9814453125), ('left002088.png', 967.0, 417.5, 4566.38623046875), ('left002089.png', 973.5, 416.5, 4698.7568359375), ('left002090.png', 977.5, 417.0, 4609.6318359375), ('left002091.png', 985.0, 419.0, 4881.1953125), ('left002092.png', 993.5, 420.0, 0), ('left002093.png', 999.5, 423.0, 4768.6005859375), ('left002094.png', 1006.5, 424.0, 5299.32861328125), ('left002095.png', 1014.5, 428.0, 5568.60107421875), ('left002096.png', 1023.0, 433.0, 5567.18798828125), ('left002097.png', 1033.0, 437.5, 0), ('left002098.png', 1041.0, 442.5, 5329.42919921875), ('left002099.png', 1050.0, 447.5, 5446.77978515625), ('left002100.png', 1057.5, 455.5, 5290.2314453125)]\n"
   ]
  },
  {
   "cell_type": "code",
   "execution_count": 19,
   "metadata": {},
   "outputs": [
    {
     "name": "stdout",
     "output_type": "stream",
     "text": [
      "         file_name       x      y            z\n",
      "0   left002001.png   717.5  424.5  4892.001953\n",
      "1   left002002.png   722.0  426.0  4819.070801\n",
      "2   left002003.png   722.5  427.5  5120.509766\n",
      "3   left002004.png   723.5  430.5     0.000000\n",
      "4   left002005.png   726.5  435.0     0.000000\n",
      "..             ...     ...    ...          ...\n",
      "95  left002096.png  1023.0  433.0  5567.187988\n",
      "96  left002097.png  1033.0  437.5     0.000000\n",
      "97  left002098.png  1041.0  442.5  5329.429199\n",
      "98  left002099.png  1050.0  447.5  5446.779785\n",
      "99  left002100.png  1057.5  455.5  5290.231445\n",
      "\n",
      "[100 rows x 4 columns]\n"
     ]
    }
   ],
   "source": [
    "df3 = pd.DataFrame(data2)\n",
    "df3.columns = ['file_name', 'x','y','z']\n",
    "print(df3)"
   ]
  },
  {
   "cell_type": "code",
   "execution_count": 20,
   "metadata": {},
   "outputs": [],
   "source": [
    "x2 = df3['x']\n",
    "y2 = df3['y']\n",
    "z2 = df3['z']"
   ]
  },
  {
   "cell_type": "code",
   "execution_count": 21,
   "metadata": {},
   "outputs": [],
   "source": [
    "fig = plt.figure()\n",
    "ax = fig.add_subplot(111, projection='3d')\n",
    "ax.scatter(df2['x'],df2['y'],df2['z'], c='r', marker='o')\n",
    "# ax.scatter(x2,y2,z2, c='black', marker='x')\n",
    "ax.set_xlabel('X Label')\n",
    "ax.set_ylabel('Y label')\n",
    "ax.set_zlabel('Z label')\n",
    "plt.show()"
   ]
  }
 ],
 "metadata": {
  "kernelspec": {
   "display_name": "Python 3.9.13 64-bit (microsoft store)",
   "language": "python",
   "name": "python3"
  },
  "language_info": {
   "codemirror_mode": {
    "name": "ipython",
    "version": 3
   },
   "file_extension": ".py",
   "mimetype": "text/x-python",
   "name": "python",
   "nbconvert_exporter": "python",
   "pygments_lexer": "ipython3",
   "version": "3.9.13"
  },
  "orig_nbformat": 4,
  "vscode": {
   "interpreter": {
    "hash": "9fabc9713aedfc16047da2bb50b014c91d1a014df217f900cf809c75e8b3fdbd"
   }
  }
 },
 "nbformat": 4,
 "nbformat_minor": 2
}
