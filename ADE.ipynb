{
 "cells": [
  {
   "cell_type": "code",
   "execution_count": 2,
   "metadata": {},
   "outputs": [],
   "source": [
    "import pandas as pd\n",
    "import numpy as np\n",
    "import matplotlib.pyplot as plt\n",
    "import math"
   ]
  },
  {
   "cell_type": "code",
   "execution_count": 3,
   "metadata": {},
   "outputs": [
    {
     "data": {
      "text/html": [
       "<div>\n",
       "<style scoped>\n",
       "    .dataframe tbody tr th:only-of-type {\n",
       "        vertical-align: middle;\n",
       "    }\n",
       "\n",
       "    .dataframe tbody tr th {\n",
       "        vertical-align: top;\n",
       "    }\n",
       "\n",
       "    .dataframe thead th {\n",
       "        text-align: right;\n",
       "    }\n",
       "</style>\n",
       "<table border=\"1\" class=\"dataframe\">\n",
       "  <thead>\n",
       "    <tr style=\"text-align: right;\">\n",
       "      <th></th>\n",
       "      <th>xmin</th>\n",
       "      <th>ymin</th>\n",
       "      <th>xmax</th>\n",
       "      <th>ymax</th>\n",
       "      <th>confidence</th>\n",
       "      <th>class</th>\n",
       "      <th>name</th>\n",
       "      <th>center_x</th>\n",
       "      <th>center_y</th>\n",
       "    </tr>\n",
       "  </thead>\n",
       "  <tbody>\n",
       "    <tr>\n",
       "      <th>0</th>\n",
       "      <td>710.334045</td>\n",
       "      <td>418.143616</td>\n",
       "      <td>725.353333</td>\n",
       "      <td>431.740479</td>\n",
       "      <td>0.516291</td>\n",
       "      <td>0</td>\n",
       "      <td>ball</td>\n",
       "      <td>717.843689</td>\n",
       "      <td>424.942048</td>\n",
       "    </tr>\n",
       "    <tr>\n",
       "      <th>1</th>\n",
       "      <td>710.434143</td>\n",
       "      <td>419.193451</td>\n",
       "      <td>730.669495</td>\n",
       "      <td>437.913605</td>\n",
       "      <td>0.663287</td>\n",
       "      <td>0</td>\n",
       "      <td>ball</td>\n",
       "      <td>720.551819</td>\n",
       "      <td>428.553528</td>\n",
       "    </tr>\n",
       "    <tr>\n",
       "      <th>2</th>\n",
       "      <td>711.796509</td>\n",
       "      <td>419.313049</td>\n",
       "      <td>732.544067</td>\n",
       "      <td>438.706055</td>\n",
       "      <td>0.601801</td>\n",
       "      <td>0</td>\n",
       "      <td>ball</td>\n",
       "      <td>722.170288</td>\n",
       "      <td>429.009552</td>\n",
       "    </tr>\n",
       "    <tr>\n",
       "      <th>3</th>\n",
       "      <td>713.487732</td>\n",
       "      <td>421.856720</td>\n",
       "      <td>735.621399</td>\n",
       "      <td>442.312347</td>\n",
       "      <td>0.643319</td>\n",
       "      <td>0</td>\n",
       "      <td>ball</td>\n",
       "      <td>724.554566</td>\n",
       "      <td>432.084534</td>\n",
       "    </tr>\n",
       "    <tr>\n",
       "      <th>4</th>\n",
       "      <td>713.260681</td>\n",
       "      <td>425.394318</td>\n",
       "      <td>737.392029</td>\n",
       "      <td>445.788666</td>\n",
       "      <td>0.766230</td>\n",
       "      <td>0</td>\n",
       "      <td>ball</td>\n",
       "      <td>725.326355</td>\n",
       "      <td>435.591492</td>\n",
       "    </tr>\n",
       "    <tr>\n",
       "      <th>...</th>\n",
       "      <td>...</td>\n",
       "      <td>...</td>\n",
       "      <td>...</td>\n",
       "      <td>...</td>\n",
       "      <td>...</td>\n",
       "      <td>...</td>\n",
       "      <td>...</td>\n",
       "      <td>...</td>\n",
       "      <td>...</td>\n",
       "    </tr>\n",
       "    <tr>\n",
       "      <th>95</th>\n",
       "      <td>1011.691223</td>\n",
       "      <td>422.776245</td>\n",
       "      <td>1035.038330</td>\n",
       "      <td>443.930908</td>\n",
       "      <td>0.772324</td>\n",
       "      <td>0</td>\n",
       "      <td>ball</td>\n",
       "      <td>1023.364777</td>\n",
       "      <td>433.353577</td>\n",
       "    </tr>\n",
       "    <tr>\n",
       "      <th>96</th>\n",
       "      <td>1017.491882</td>\n",
       "      <td>425.914093</td>\n",
       "      <td>1041.792236</td>\n",
       "      <td>446.584808</td>\n",
       "      <td>0.749853</td>\n",
       "      <td>0</td>\n",
       "      <td>ball</td>\n",
       "      <td>1029.642059</td>\n",
       "      <td>436.249450</td>\n",
       "    </tr>\n",
       "    <tr>\n",
       "      <th>97</th>\n",
       "      <td>1027.654053</td>\n",
       "      <td>432.556488</td>\n",
       "      <td>1049.521729</td>\n",
       "      <td>452.262054</td>\n",
       "      <td>0.676887</td>\n",
       "      <td>0</td>\n",
       "      <td>ball</td>\n",
       "      <td>1038.587891</td>\n",
       "      <td>442.409271</td>\n",
       "    </tr>\n",
       "    <tr>\n",
       "      <th>98</th>\n",
       "      <td>1033.934082</td>\n",
       "      <td>437.244690</td>\n",
       "      <td>1059.465576</td>\n",
       "      <td>460.291321</td>\n",
       "      <td>0.715137</td>\n",
       "      <td>0</td>\n",
       "      <td>ball</td>\n",
       "      <td>1046.699829</td>\n",
       "      <td>448.768005</td>\n",
       "    </tr>\n",
       "    <tr>\n",
       "      <th>99</th>\n",
       "      <td>1045.584717</td>\n",
       "      <td>443.977203</td>\n",
       "      <td>1067.696777</td>\n",
       "      <td>464.362396</td>\n",
       "      <td>0.726711</td>\n",
       "      <td>0</td>\n",
       "      <td>ball</td>\n",
       "      <td>1056.640747</td>\n",
       "      <td>454.169799</td>\n",
       "    </tr>\n",
       "  </tbody>\n",
       "</table>\n",
       "<p>100 rows × 9 columns</p>\n",
       "</div>"
      ],
      "text/plain": [
       "           xmin        ymin         xmax        ymax  confidence  class  name  \\\n",
       "0    710.334045  418.143616   725.353333  431.740479    0.516291      0  ball   \n",
       "1    710.434143  419.193451   730.669495  437.913605    0.663287      0  ball   \n",
       "2    711.796509  419.313049   732.544067  438.706055    0.601801      0  ball   \n",
       "3    713.487732  421.856720   735.621399  442.312347    0.643319      0  ball   \n",
       "4    713.260681  425.394318   737.392029  445.788666    0.766230      0  ball   \n",
       "..          ...         ...          ...         ...         ...    ...   ...   \n",
       "95  1011.691223  422.776245  1035.038330  443.930908    0.772324      0  ball   \n",
       "96  1017.491882  425.914093  1041.792236  446.584808    0.749853      0  ball   \n",
       "97  1027.654053  432.556488  1049.521729  452.262054    0.676887      0  ball   \n",
       "98  1033.934082  437.244690  1059.465576  460.291321    0.715137      0  ball   \n",
       "99  1045.584717  443.977203  1067.696777  464.362396    0.726711      0  ball   \n",
       "\n",
       "       center_x    center_y  \n",
       "0    717.843689  424.942048  \n",
       "1    720.551819  428.553528  \n",
       "2    722.170288  429.009552  \n",
       "3    724.554566  432.084534  \n",
       "4    725.326355  435.591492  \n",
       "..          ...         ...  \n",
       "95  1023.364777  433.353577  \n",
       "96  1029.642059  436.249450  \n",
       "97  1038.587891  442.409271  \n",
       "98  1046.699829  448.768005  \n",
       "99  1056.640747  454.169799  \n",
       "\n",
       "[100 rows x 9 columns]"
      ]
     },
     "execution_count": 3,
     "metadata": {},
     "output_type": "execute_result"
    }
   ],
   "source": [
    "df = pd.read_csv('Pred_result.csv', sep=',', delimiter=None)\n",
    "df['center_x'] = (df['xmax'] + df['xmin']) / 2\n",
    "df['center_y'] = (df['ymax'] + df['ymin']) / 2\n",
    "df"
   ]
  },
  {
   "cell_type": "code",
   "execution_count": 4,
   "metadata": {},
   "outputs": [
    {
     "data": {
      "text/html": [
       "<div>\n",
       "<style scoped>\n",
       "    .dataframe tbody tr th:only-of-type {\n",
       "        vertical-align: middle;\n",
       "    }\n",
       "\n",
       "    .dataframe tbody tr th {\n",
       "        vertical-align: top;\n",
       "    }\n",
       "\n",
       "    .dataframe thead th {\n",
       "        text-align: right;\n",
       "    }\n",
       "</style>\n",
       "<table border=\"1\" class=\"dataframe\">\n",
       "  <thead>\n",
       "    <tr style=\"text-align: right;\">\n",
       "      <th></th>\n",
       "      <th>label_name</th>\n",
       "      <th>bbox_x</th>\n",
       "      <th>bbox_y</th>\n",
       "      <th>bbox_width</th>\n",
       "      <th>bbox_height</th>\n",
       "      <th>image_name</th>\n",
       "      <th>image_width</th>\n",
       "      <th>image_height</th>\n",
       "      <th>center_x</th>\n",
       "      <th>center_y</th>\n",
       "    </tr>\n",
       "  </thead>\n",
       "  <tbody>\n",
       "    <tr>\n",
       "      <th>0</th>\n",
       "      <td>ball</td>\n",
       "      <td>710</td>\n",
       "      <td>418</td>\n",
       "      <td>15</td>\n",
       "      <td>14</td>\n",
       "      <td>left002001.png</td>\n",
       "      <td>1280</td>\n",
       "      <td>720</td>\n",
       "      <td>717.5</td>\n",
       "      <td>425.0</td>\n",
       "    </tr>\n",
       "    <tr>\n",
       "      <th>1</th>\n",
       "      <td>ball</td>\n",
       "      <td>715</td>\n",
       "      <td>419</td>\n",
       "      <td>16</td>\n",
       "      <td>15</td>\n",
       "      <td>left002002.png</td>\n",
       "      <td>1280</td>\n",
       "      <td>720</td>\n",
       "      <td>723.0</td>\n",
       "      <td>426.5</td>\n",
       "    </tr>\n",
       "    <tr>\n",
       "      <th>2</th>\n",
       "      <td>ball</td>\n",
       "      <td>716</td>\n",
       "      <td>422</td>\n",
       "      <td>15</td>\n",
       "      <td>14</td>\n",
       "      <td>left002003.png</td>\n",
       "      <td>1280</td>\n",
       "      <td>720</td>\n",
       "      <td>723.5</td>\n",
       "      <td>429.0</td>\n",
       "    </tr>\n",
       "    <tr>\n",
       "      <th>3</th>\n",
       "      <td>ball</td>\n",
       "      <td>717</td>\n",
       "      <td>423</td>\n",
       "      <td>15</td>\n",
       "      <td>15</td>\n",
       "      <td>left002004.png</td>\n",
       "      <td>1280</td>\n",
       "      <td>720</td>\n",
       "      <td>724.5</td>\n",
       "      <td>430.5</td>\n",
       "    </tr>\n",
       "    <tr>\n",
       "      <th>4</th>\n",
       "      <td>ball</td>\n",
       "      <td>720</td>\n",
       "      <td>428</td>\n",
       "      <td>15</td>\n",
       "      <td>14</td>\n",
       "      <td>left002005.png</td>\n",
       "      <td>1280</td>\n",
       "      <td>720</td>\n",
       "      <td>727.5</td>\n",
       "      <td>435.0</td>\n",
       "    </tr>\n",
       "    <tr>\n",
       "      <th>...</th>\n",
       "      <td>...</td>\n",
       "      <td>...</td>\n",
       "      <td>...</td>\n",
       "      <td>...</td>\n",
       "      <td>...</td>\n",
       "      <td>...</td>\n",
       "      <td>...</td>\n",
       "      <td>...</td>\n",
       "      <td>...</td>\n",
       "      <td>...</td>\n",
       "    </tr>\n",
       "    <tr>\n",
       "      <th>95</th>\n",
       "      <td>ball</td>\n",
       "      <td>1015</td>\n",
       "      <td>428</td>\n",
       "      <td>16</td>\n",
       "      <td>13</td>\n",
       "      <td>left002096.png</td>\n",
       "      <td>1280</td>\n",
       "      <td>720</td>\n",
       "      <td>1023.0</td>\n",
       "      <td>434.5</td>\n",
       "    </tr>\n",
       "    <tr>\n",
       "      <th>96</th>\n",
       "      <td>ball</td>\n",
       "      <td>1026</td>\n",
       "      <td>430</td>\n",
       "      <td>16</td>\n",
       "      <td>15</td>\n",
       "      <td>left002097.png</td>\n",
       "      <td>1280</td>\n",
       "      <td>720</td>\n",
       "      <td>1034.0</td>\n",
       "      <td>437.5</td>\n",
       "    </tr>\n",
       "    <tr>\n",
       "      <th>97</th>\n",
       "      <td>ball</td>\n",
       "      <td>1033</td>\n",
       "      <td>435</td>\n",
       "      <td>17</td>\n",
       "      <td>17</td>\n",
       "      <td>left002098.png</td>\n",
       "      <td>1280</td>\n",
       "      <td>720</td>\n",
       "      <td>1041.5</td>\n",
       "      <td>443.5</td>\n",
       "    </tr>\n",
       "    <tr>\n",
       "      <th>98</th>\n",
       "      <td>ball</td>\n",
       "      <td>1043</td>\n",
       "      <td>441</td>\n",
       "      <td>16</td>\n",
       "      <td>14</td>\n",
       "      <td>left002099.png</td>\n",
       "      <td>1280</td>\n",
       "      <td>720</td>\n",
       "      <td>1051.0</td>\n",
       "      <td>448.0</td>\n",
       "    </tr>\n",
       "    <tr>\n",
       "      <th>99</th>\n",
       "      <td>ball</td>\n",
       "      <td>1050</td>\n",
       "      <td>449</td>\n",
       "      <td>17</td>\n",
       "      <td>15</td>\n",
       "      <td>left002100.png</td>\n",
       "      <td>1280</td>\n",
       "      <td>720</td>\n",
       "      <td>1058.5</td>\n",
       "      <td>456.5</td>\n",
       "    </tr>\n",
       "  </tbody>\n",
       "</table>\n",
       "<p>100 rows × 10 columns</p>\n",
       "</div>"
      ],
      "text/plain": [
       "   label_name  bbox_x  bbox_y  bbox_width  bbox_height      image_name  \\\n",
       "0        ball     710     418          15           14  left002001.png   \n",
       "1        ball     715     419          16           15  left002002.png   \n",
       "2        ball     716     422          15           14  left002003.png   \n",
       "3        ball     717     423          15           15  left002004.png   \n",
       "4        ball     720     428          15           14  left002005.png   \n",
       "..        ...     ...     ...         ...          ...             ...   \n",
       "95       ball    1015     428          16           13  left002096.png   \n",
       "96       ball    1026     430          16           15  left002097.png   \n",
       "97       ball    1033     435          17           17  left002098.png   \n",
       "98       ball    1043     441          16           14  left002099.png   \n",
       "99       ball    1050     449          17           15  left002100.png   \n",
       "\n",
       "    image_width  image_height  center_x  center_y  \n",
       "0          1280           720     717.5     425.0  \n",
       "1          1280           720     723.0     426.5  \n",
       "2          1280           720     723.5     429.0  \n",
       "3          1280           720     724.5     430.5  \n",
       "4          1280           720     727.5     435.0  \n",
       "..          ...           ...       ...       ...  \n",
       "95         1280           720    1023.0     434.5  \n",
       "96         1280           720    1034.0     437.5  \n",
       "97         1280           720    1041.5     443.5  \n",
       "98         1280           720    1051.0     448.0  \n",
       "99         1280           720    1058.5     456.5  \n",
       "\n",
       "[100 rows x 10 columns]"
      ]
     },
     "execution_count": 4,
     "metadata": {},
     "output_type": "execute_result"
    }
   ],
   "source": [
    "df2 = pd.read_csv('GroundTruth.csv', sep=',', delimiter=None)\n",
    "df2['center_x'] = df2['bbox_x'] + df2['bbox_width'] / 2\n",
    "df2['center_y'] = df2['bbox_y'] + df2['bbox_height'] / 2\n",
    "df2"
   ]
  },
  {
   "cell_type": "code",
   "execution_count": 5,
   "metadata": {},
   "outputs": [],
   "source": [
    "x1 = df2['center_x']\n",
    "y1 = df2['center_y']\n",
    "x2 = df['center_x']\n",
    "y2 = df['center_y']"
   ]
  },
  {
   "cell_type": "code",
   "execution_count": 22,
   "metadata": {},
   "outputs": [],
   "source": [
    "xval = abs(df['xmin'] - df2['bbox_x'])\n",
    "yval = abs(df['ymin'] - df2['bbox_y'])"
   ]
  },
  {
   "cell_type": "code",
   "execution_count": 23,
   "metadata": {},
   "outputs": [
    {
     "data": {
      "text/plain": [
       "0     0.334045\n",
       "1     4.565857\n",
       "2     4.203491\n",
       "3     3.512268\n",
       "4     6.739319\n",
       "        ...   \n",
       "95    3.308777\n",
       "96    8.508118\n",
       "97    5.345947\n",
       "98    9.065918\n",
       "99    4.415283\n",
       "Length: 100, dtype: float64"
      ]
     },
     "execution_count": 23,
     "metadata": {},
     "output_type": "execute_result"
    }
   ],
   "source": [
    "xval"
   ]
  },
  {
   "cell_type": "code",
   "execution_count": 24,
   "metadata": {},
   "outputs": [
    {
     "data": {
      "text/plain": [
       "0     0.143616\n",
       "1     0.193451\n",
       "2     2.686951\n",
       "3     1.143280\n",
       "4     2.605682\n",
       "        ...   \n",
       "95    5.223755\n",
       "96    4.085907\n",
       "97    2.443512\n",
       "98    3.755310\n",
       "99    5.022797\n",
       "Length: 100, dtype: float64"
      ]
     },
     "execution_count": 24,
     "metadata": {},
     "output_type": "execute_result"
    }
   ],
   "source": [
    "yval"
   ]
  },
  {
   "cell_type": "code",
   "execution_count": 25,
   "metadata": {},
   "outputs": [],
   "source": [
    "# err = sqrt((xval[2])**2 - (yval[2])**2)\n",
    "v = []\n",
    "for i in range(0,100):\n",
    "    e = math.sqrt(abs((xval[i])**2 - (yval[i])**2))\n",
    "    v.append(e)"
   ]
  },
  {
   "cell_type": "code",
   "execution_count": 26,
   "metadata": {},
   "outputs": [
    {
     "data": {
      "text/html": [
       "<div>\n",
       "<style scoped>\n",
       "    .dataframe tbody tr th:only-of-type {\n",
       "        vertical-align: middle;\n",
       "    }\n",
       "\n",
       "    .dataframe tbody tr th {\n",
       "        vertical-align: top;\n",
       "    }\n",
       "\n",
       "    .dataframe thead th {\n",
       "        text-align: right;\n",
       "    }\n",
       "</style>\n",
       "<table border=\"1\" class=\"dataframe\">\n",
       "  <thead>\n",
       "    <tr style=\"text-align: right;\">\n",
       "      <th></th>\n",
       "      <th>0</th>\n",
       "    </tr>\n",
       "  </thead>\n",
       "  <tbody>\n",
       "    <tr>\n",
       "      <th>0</th>\n",
       "      <td>0.301597</td>\n",
       "    </tr>\n",
       "    <tr>\n",
       "      <th>1</th>\n",
       "      <td>4.561757</td>\n",
       "    </tr>\n",
       "    <tr>\n",
       "      <th>2</th>\n",
       "      <td>3.232589</td>\n",
       "    </tr>\n",
       "    <tr>\n",
       "      <th>3</th>\n",
       "      <td>3.320984</td>\n",
       "    </tr>\n",
       "    <tr>\n",
       "      <th>4</th>\n",
       "      <td>6.215211</td>\n",
       "    </tr>\n",
       "    <tr>\n",
       "      <th>...</th>\n",
       "      <td>...</td>\n",
       "    </tr>\n",
       "    <tr>\n",
       "      <th>95</th>\n",
       "      <td>4.042228</td>\n",
       "    </tr>\n",
       "    <tr>\n",
       "      <th>96</th>\n",
       "      <td>7.462803</td>\n",
       "    </tr>\n",
       "    <tr>\n",
       "      <th>97</th>\n",
       "      <td>4.754829</td>\n",
       "    </tr>\n",
       "    <tr>\n",
       "      <th>98</th>\n",
       "      <td>8.251577</td>\n",
       "    </tr>\n",
       "    <tr>\n",
       "      <th>99</th>\n",
       "      <td>2.394528</td>\n",
       "    </tr>\n",
       "  </tbody>\n",
       "</table>\n",
       "<p>100 rows × 1 columns</p>\n",
       "</div>"
      ],
      "text/plain": [
       "           0\n",
       "0   0.301597\n",
       "1   4.561757\n",
       "2   3.232589\n",
       "3   3.320984\n",
       "4   6.215211\n",
       "..       ...\n",
       "95  4.042228\n",
       "96  7.462803\n",
       "97  4.754829\n",
       "98  8.251577\n",
       "99  2.394528\n",
       "\n",
       "[100 rows x 1 columns]"
      ]
     },
     "execution_count": 26,
     "metadata": {},
     "output_type": "execute_result"
    }
   ],
   "source": [
    "f = pd.DataFrame(v)\n",
    "f"
   ]
  },
  {
   "cell_type": "code",
   "execution_count": 27,
   "metadata": {},
   "outputs": [
    {
     "data": {
      "text/plain": [
       "2.6053745322768225"
      ]
     },
     "execution_count": 27,
     "metadata": {},
     "output_type": "execute_result"
    }
   ],
   "source": [
    "ade = (np.sum(v))/100\n",
    "ade"
   ]
  },
  {
   "cell_type": "code",
   "execution_count": 28,
   "metadata": {},
   "outputs": [],
   "source": [
    "for a in range(len(x2)):\n",
    "    y = x2[a]\n",
    "    z = y2[a]\n",
    "    c = x1[a]\n",
    "    d = y1[a]\n",
    "    a += 1"
   ]
  },
  {
   "cell_type": "code",
   "execution_count": 29,
   "metadata": {},
   "outputs": [
    {
     "data": {
      "image/png": "[encoded data removed]",
      "text/plain": [
       "<Figure size 640x480 with 1 Axes>"
      ]
     },
     "metadata": {},
     "output_type": "display_data"
    }
   ],
   "source": [
    "from matplotlib import markers\n",
    "plt.plot(x1, y1, marker='o', color='red', label='Ground Truth')\n",
    "plt.plot(x2, y2, marker='s', color='green', label='Yolov5_Pred Value')\n",
    "plt.ylim(max(plt.ylim()), min(plt.ylim()))\n",
    "plt.xlabel('Width of the room in Pixels')\n",
    "plt.ylabel('Height of the room in Pixels')\n",
    "plt.legend()\n",
    "plt.show()"
   ]
  },
  {
   "cell_type": "code",
   "execution_count": 30,
   "metadata": {},
   "outputs": [],
   "source": [
    "def Displacement_Error(x1, y1, x2, y2):\n",
    "    dis_err = sqrt((x2-x1)**2 + (y2-y1)**2)\n",
    "    return dis_err "
   ]
  },
  {
   "cell_type": "code",
   "execution_count": 31,
   "metadata": {},
   "outputs": [],
   "source": [
    "count = 0\n",
    "for i in range(len(x1)):\n",
    "    predicted_coordinates = list(zip(x2,y2))\n",
    "    ground_coordinates = list(zip(x1,y1))\n",
    "    count += 1"
   ]
  },
  {
   "cell_type": "code",
   "execution_count": 32,
   "metadata": {},
   "outputs": [],
   "source": [
    "# predicted_coordinates"
   ]
  },
  {
   "cell_type": "code",
   "execution_count": 33,
   "metadata": {},
   "outputs": [
    {
     "ename": "NameError",
     "evalue": "name 'f_x2' is not defined",
     "output_type": "error",
     "traceback": [
      "\u001b[1;31m---------------------------------------------------------------------------\u001b[0m",
      "\u001b[1;31mNameError\u001b[0m                                 Traceback (most recent call last)",
      "\u001b[1;32mc:\\Users\\C00488381\\OneDrive - University of Louisiana Lafayette\\Papers to Study\\Desktop\\Displacement Errror\\ADE.ipynb Cell 16\u001b[0m in \u001b[0;36m1\n\u001b[1;32m----> <a href='vscode-notebook-cell:/c%3A/Users/C00488381/OneDrive%20-%20University%20of%20Louisiana%20Lafayette/Papers%20to%20Study/Desktop/Displacement%20Errror/ADE.ipynb#X21sZmlsZQ%3D%3D?line=0'>1</a>\u001b[0m f_x2 \u001b[39m=\u001b[39m f_x2(i \u001b[39mfor\u001b[39;00m i \u001b[39min\u001b[39;00m df[\u001b[39m'\u001b[39m\u001b[39mxmin\u001b[39m\u001b[39m'\u001b[39m])\n\u001b[0;32m      <a href='vscode-notebook-cell:/c%3A/Users/C00488381/OneDrive%20-%20University%20of%20Louisiana%20Lafayette/Papers%20to%20Study/Desktop/Displacement%20Errror/ADE.ipynb#X21sZmlsZQ%3D%3D?line=1'>2</a>\u001b[0m g_y2 \u001b[39m=\u001b[39m [i \u001b[39mfor\u001b[39;00m i \u001b[39min\u001b[39;00m df[\u001b[39m'\u001b[39m\u001b[39mymin\u001b[39m\u001b[39m'\u001b[39m]]\n\u001b[0;32m      <a href='vscode-notebook-cell:/c%3A/Users/C00488381/OneDrive%20-%20University%20of%20Louisiana%20Lafayette/Papers%20to%20Study/Desktop/Displacement%20Errror/ADE.ipynb#X21sZmlsZQ%3D%3D?line=2'>3</a>\u001b[0m h_x1 \u001b[39m=\u001b[39m [i \u001b[39mfor\u001b[39;00m i \u001b[39min\u001b[39;00m df2[\u001b[39m'\u001b[39m\u001b[39mbbox_x\u001b[39m\u001b[39m'\u001b[39m]]\n",
      "\u001b[1;31mNameError\u001b[0m: name 'f_x2' is not defined"
     ]
    }
   ],
   "source": [
    "f_x2 = f_x2(i for i in df['xmin'])\n",
    "g_y2 = [i for i in df['ymin']]\n",
    "h_x1 = [i for i in df2['bbox_x']]\n",
    "j_y1 = [i for i in df2['bbox_y']]"
   ]
  },
  {
   "cell_type": "code",
   "execution_count": null,
   "metadata": {},
   "outputs": [
    {
     "name": "stdout",
     "output_type": "stream",
     "text": [
      "710.434143\n"
     ]
    }
   ],
   "source": [
    "y = [z for z in x2]\n",
    "print(y[1])\n",
    "    # d = df.iloc[0]\n",
    "    # print(d)"
   ]
  },
  {
   "cell_type": "code",
   "execution_count": null,
   "metadata": {},
   "outputs": [
    {
     "data": {
      "text/plain": [
       "710.334045"
      ]
     },
     "execution_count": 18,
     "metadata": {},
     "output_type": "execute_result"
    }
   ],
   "source": [
    "predicted_coordinates[0][0]"
   ]
  },
  {
   "cell_type": "code",
   "execution_count": null,
   "metadata": {},
   "outputs": [
    {
     "data": {
      "text/plain": [
       "710"
      ]
     },
     "execution_count": 19,
     "metadata": {},
     "output_type": "execute_result"
    }
   ],
   "source": [
    "ground_coordinates[0][0]"
   ]
  },
  {
   "cell_type": "code",
   "execution_count": 34,
   "metadata": {},
   "outputs": [],
   "source": [
    "def avg_displacement_error(predicted, ground_truth):\n",
    "  error = 0\n",
    "  for i in range(len(predicted)):\n",
    "    error += ((predicted[i][0] - ground_truth[i][0]) ** 2 + (predicted[i][1] - ground_truth[i][1]) ** 2) ** 0.5\n",
    "  return error / len(predicted)\n",
    "\n",
    "# predicted_coordinates = [[1, 2], [3, 4], [5, 6], [7, 8]]\n",
    "# ground_truth_coordinates = [[2, 3], [4, 5], [6, 7], [8, 9]]\n"
   ]
  },
  {
   "cell_type": "code",
   "execution_count": 35,
   "metadata": {},
   "outputs": [],
   "source": [
    "#Average Mahalanobis Distance (AMD)\n",
    "from scipy.spatial.distance import mahalanobis\n",
    "def avg_mahalanobis_distance(predicted, ground_truth):\n",
    "    \n",
    "    predicted = np.array(predicted)\n",
    "    ground_truth = np.array(ground_truth)\n",
    "    mean_predicted = np.mean(predicted, axis=0)\n",
    "    mean_ground_truth = np.mean(ground_truth, axis=0)\n",
    "    cov_predicted = np.cov(predicted.T)\n",
    "    cov_ground_truth = np.cov(ground_truth.T)\n",
    "    inv_cov_predicted = np.linalg.inv(cov_predicted)\n",
    "    inv_cov_ground_truth = np.linalg.inv(cov_ground_truth)\n",
    "    error = 0\n",
    "    for i in range(len(predicted)):\n",
    "        error += mahalanobis(predicted[i], ground_truth[i], inv_cov_predicted + inv_cov_ground_truth)\n",
    "    return error / len(predicted)\n"
   ]
  },
  {
   "cell_type": "code",
   "execution_count": 36,
   "metadata": {},
   "outputs": [
    {
     "name": "stdout",
     "output_type": "stream",
     "text": [
      "0.03569533848243663\n"
     ]
    }
   ],
   "source": [
    "error = avg_mahalanobis_distance(predicted_coordinates, ground_coordinates)\n",
    "print(error)\n"
   ]
  },
  {
   "cell_type": "code",
   "execution_count": 37,
   "metadata": {},
   "outputs": [],
   "source": [
    "import numpy as np\n",
    "\n",
    "def final_displacement_error(desired_path, actual_path):\n",
    "    # Extract the final position from each path\n",
    "    final_desired = desired_path[-1, :]\n",
    "    final_actual = actual_path[-1, :]\n",
    "    # Calculate the error as the difference between the two positions\n",
    "    error = final_desired - final_actual\n",
    "    return error\n"
   ]
  },
  {
   "attachments": {},
   "cell_type": "markdown",
   "metadata": {},
   "source": [
    "New Yolov5 based detection result. Trained using 2165 frames."
   ]
  },
  {
   "cell_type": "code",
   "execution_count": 38,
   "metadata": {},
   "outputs": [
    {
     "data": {
      "text/html": [
       "<div>\n",
       "<style scoped>\n",
       "    .dataframe tbody tr th:only-of-type {\n",
       "        vertical-align: middle;\n",
       "    }\n",
       "\n",
       "    .dataframe tbody tr th {\n",
       "        vertical-align: top;\n",
       "    }\n",
       "\n",
       "    .dataframe thead th {\n",
       "        text-align: right;\n",
       "    }\n",
       "</style>\n",
       "<table border=\"1\" class=\"dataframe\">\n",
       "  <thead>\n",
       "    <tr style=\"text-align: right;\">\n",
       "      <th></th>\n",
       "      <th>label_name</th>\n",
       "      <th>bbox_x</th>\n",
       "      <th>bbox_y</th>\n",
       "      <th>bbox_width</th>\n",
       "      <th>bbox_height</th>\n",
       "      <th>image_name</th>\n",
       "      <th>image_width</th>\n",
       "      <th>image_height</th>\n",
       "      <th>center_x</th>\n",
       "      <th>center_y</th>\n",
       "    </tr>\n",
       "  </thead>\n",
       "  <tbody>\n",
       "    <tr>\n",
       "      <th>0</th>\n",
       "      <td>ball</td>\n",
       "      <td>712</td>\n",
       "      <td>417</td>\n",
       "      <td>12</td>\n",
       "      <td>13</td>\n",
       "      <td>left002001.png</td>\n",
       "      <td>1280</td>\n",
       "      <td>720</td>\n",
       "      <td>718.0</td>\n",
       "      <td>423.5</td>\n",
       "    </tr>\n",
       "    <tr>\n",
       "      <th>1</th>\n",
       "      <td>ball</td>\n",
       "      <td>710</td>\n",
       "      <td>418</td>\n",
       "      <td>19</td>\n",
       "      <td>19</td>\n",
       "      <td>left002002.png</td>\n",
       "      <td>1280</td>\n",
       "      <td>720</td>\n",
       "      <td>719.5</td>\n",
       "      <td>427.5</td>\n",
       "    </tr>\n",
       "    <tr>\n",
       "      <th>2</th>\n",
       "      <td>ball</td>\n",
       "      <td>716</td>\n",
       "      <td>424</td>\n",
       "      <td>15</td>\n",
       "      <td>16</td>\n",
       "      <td>left002004.png</td>\n",
       "      <td>1280</td>\n",
       "      <td>720</td>\n",
       "      <td>723.5</td>\n",
       "      <td>432.0</td>\n",
       "    </tr>\n",
       "    <tr>\n",
       "      <th>3</th>\n",
       "      <td>ball</td>\n",
       "      <td>718</td>\n",
       "      <td>428</td>\n",
       "      <td>15</td>\n",
       "      <td>16</td>\n",
       "      <td>left002005.png</td>\n",
       "      <td>1280</td>\n",
       "      <td>720</td>\n",
       "      <td>725.5</td>\n",
       "      <td>436.0</td>\n",
       "    </tr>\n",
       "    <tr>\n",
       "      <th>4</th>\n",
       "      <td>ball</td>\n",
       "      <td>718</td>\n",
       "      <td>431</td>\n",
       "      <td>17</td>\n",
       "      <td>17</td>\n",
       "      <td>left002006.png</td>\n",
       "      <td>1280</td>\n",
       "      <td>720</td>\n",
       "      <td>726.5</td>\n",
       "      <td>439.5</td>\n",
       "    </tr>\n",
       "    <tr>\n",
       "      <th>...</th>\n",
       "      <td>...</td>\n",
       "      <td>...</td>\n",
       "      <td>...</td>\n",
       "      <td>...</td>\n",
       "      <td>...</td>\n",
       "      <td>...</td>\n",
       "      <td>...</td>\n",
       "      <td>...</td>\n",
       "      <td>...</td>\n",
       "      <td>...</td>\n",
       "    </tr>\n",
       "    <tr>\n",
       "      <th>91</th>\n",
       "      <td>ball</td>\n",
       "      <td>1009</td>\n",
       "      <td>422</td>\n",
       "      <td>12</td>\n",
       "      <td>13</td>\n",
       "      <td>left002095.png</td>\n",
       "      <td>1280</td>\n",
       "      <td>720</td>\n",
       "      <td>1015.0</td>\n",
       "      <td>428.5</td>\n",
       "    </tr>\n",
       "    <tr>\n",
       "      <th>92</th>\n",
       "      <td>ball</td>\n",
       "      <td>1016</td>\n",
       "      <td>425</td>\n",
       "      <td>14</td>\n",
       "      <td>15</td>\n",
       "      <td>left002096.png</td>\n",
       "      <td>1280</td>\n",
       "      <td>720</td>\n",
       "      <td>1023.0</td>\n",
       "      <td>432.5</td>\n",
       "    </tr>\n",
       "    <tr>\n",
       "      <th>93</th>\n",
       "      <td>ball</td>\n",
       "      <td>1024</td>\n",
       "      <td>430</td>\n",
       "      <td>14</td>\n",
       "      <td>14</td>\n",
       "      <td>left002097.png</td>\n",
       "      <td>1280</td>\n",
       "      <td>720</td>\n",
       "      <td>1031.0</td>\n",
       "      <td>437.0</td>\n",
       "    </tr>\n",
       "    <tr>\n",
       "      <th>94</th>\n",
       "      <td>ball</td>\n",
       "      <td>1034</td>\n",
       "      <td>437</td>\n",
       "      <td>12</td>\n",
       "      <td>13</td>\n",
       "      <td>left002098.png</td>\n",
       "      <td>1280</td>\n",
       "      <td>720</td>\n",
       "      <td>1040.0</td>\n",
       "      <td>443.5</td>\n",
       "    </tr>\n",
       "    <tr>\n",
       "      <th>95</th>\n",
       "      <td>ball</td>\n",
       "      <td>1040</td>\n",
       "      <td>441</td>\n",
       "      <td>15</td>\n",
       "      <td>15</td>\n",
       "      <td>left002099.png</td>\n",
       "      <td>1280</td>\n",
       "      <td>720</td>\n",
       "      <td>1047.5</td>\n",
       "      <td>448.5</td>\n",
       "    </tr>\n",
       "  </tbody>\n",
       "</table>\n",
       "<p>96 rows × 10 columns</p>\n",
       "</div>"
      ],
      "text/plain": [
       "   label_name  bbox_x  bbox_y  bbox_width  bbox_height      image_name  \\\n",
       "0        ball     712     417          12           13  left002001.png   \n",
       "1        ball     710     418          19           19  left002002.png   \n",
       "2        ball     716     424          15           16  left002004.png   \n",
       "3        ball     718     428          15           16  left002005.png   \n",
       "4        ball     718     431          17           17  left002006.png   \n",
       "..        ...     ...     ...         ...          ...             ...   \n",
       "91       ball    1009     422          12           13  left002095.png   \n",
       "92       ball    1016     425          14           15  left002096.png   \n",
       "93       ball    1024     430          14           14  left002097.png   \n",
       "94       ball    1034     437          12           13  left002098.png   \n",
       "95       ball    1040     441          15           15  left002099.png   \n",
       "\n",
       "    image_width  image_height  center_x  center_y  \n",
       "0          1280           720     718.0     423.5  \n",
       "1          1280           720     719.5     427.5  \n",
       "2          1280           720     723.5     432.0  \n",
       "3          1280           720     725.5     436.0  \n",
       "4          1280           720     726.5     439.5  \n",
       "..          ...           ...       ...       ...  \n",
       "91         1280           720    1015.0     428.5  \n",
       "92         1280           720    1023.0     432.5  \n",
       "93         1280           720    1031.0     437.0  \n",
       "94         1280           720    1040.0     443.5  \n",
       "95         1280           720    1047.5     448.5  \n",
       "\n",
       "[96 rows x 10 columns]"
      ]
     },
     "execution_count": 38,
     "metadata": {},
     "output_type": "execute_result"
    }
   ],
   "source": [
    "df_new = pd.read_csv('NewYolov5.csv', sep=',', delimiter=None)\n",
    "df_new"
   ]
  },
  {
   "cell_type": "code",
   "execution_count": 39,
   "metadata": {},
   "outputs": [],
   "source": [
    "x1 = df2['bbox_x']\n",
    "y1 = df2['bbox_y']\n",
    "x2 = df_new['bbox_x']\n",
    "y2 = df_new['bbox_y']"
   ]
  },
  {
   "cell_type": "code",
   "execution_count": 40,
   "metadata": {},
   "outputs": [],
   "source": [
    "count = 0\n",
    "for i in range(len(x1)):\n",
    "    predicted_coordinates = list(zip(x2,y2))\n",
    "    ground_coordinates = list(zip(x1,y1))\n",
    "    count += 1"
   ]
  },
  {
   "cell_type": "code",
   "execution_count": 41,
   "metadata": {},
   "outputs": [
    {
     "data": {
      "image/png": "[encoded data removed]",
      "text/plain": [
       "<Figure size 640x480 with 1 Axes>"
      ]
     },
     "metadata": {},
     "output_type": "display_data"
    }
   ],
   "source": [
    "from matplotlib import markers\n",
    "plt.plot(x1, y1, marker='o', color='red', label='Ground Truth')\n",
    "plt.plot(x2, y2, marker='s', color='blue', label='Pred Value')\n",
    "plt.xlabel('Width of the room in Pixels')\n",
    "plt.ylabel('Height of the room in Pixels')\n",
    "plt.legend()\n",
    "plt.show()"
   ]
  },
  {
   "cell_type": "code",
   "execution_count": null,
   "metadata": {},
   "outputs": [
    {
     "name": "stdout",
     "output_type": "stream",
     "text": [
      "12.621902809746407\n"
     ]
    }
   ],
   "source": [
    "\n",
    "error = avg_displacement_error(predicted_coordinates, ground_coordinates)\n",
    "print(error)\n"
   ]
  },
  {
   "cell_type": "code",
   "execution_count": null,
   "metadata": {},
   "outputs": [
    {
     "data": {
      "text/plain": [
       "0.36381323169869045"
      ]
     },
     "execution_count": 19,
     "metadata": {},
     "output_type": "execute_result"
    }
   ],
   "source": [
    "err = avg_mahalanobis_distance(predicted_coordinates, ground_coordinates)\n",
    "err"
   ]
  },
  {
   "cell_type": "code",
   "execution_count": null,
   "metadata": {},
   "outputs": [],
   "source": []
  },
  {
   "attachments": {},
   "cell_type": "markdown",
   "metadata": {},
   "source": [
    "Yolov8 New"
   ]
  },
  {
   "cell_type": "code",
   "execution_count": 42,
   "metadata": {},
   "outputs": [
    {
     "data": {
      "text/html": [
       "<div>\n",
       "<style scoped>\n",
       "    .dataframe tbody tr th:only-of-type {\n",
       "        vertical-align: middle;\n",
       "    }\n",
       "\n",
       "    .dataframe tbody tr th {\n",
       "        vertical-align: top;\n",
       "    }\n",
       "\n",
       "    .dataframe thead th {\n",
       "        text-align: right;\n",
       "    }\n",
       "</style>\n",
       "<table border=\"1\" class=\"dataframe\">\n",
       "  <thead>\n",
       "    <tr style=\"text-align: right;\">\n",
       "      <th></th>\n",
       "      <th>label_name</th>\n",
       "      <th>bbox_x</th>\n",
       "      <th>bbox_y</th>\n",
       "      <th>bbox_width</th>\n",
       "      <th>bbox_height</th>\n",
       "      <th>image_name</th>\n",
       "      <th>image_width</th>\n",
       "      <th>image_height</th>\n",
       "      <th>center_x</th>\n",
       "      <th>center_y</th>\n",
       "    </tr>\n",
       "  </thead>\n",
       "  <tbody>\n",
       "    <tr>\n",
       "      <th>0</th>\n",
       "      <td>ball</td>\n",
       "      <td>713.0</td>\n",
       "      <td>418.0</td>\n",
       "      <td>11.0</td>\n",
       "      <td>11.0</td>\n",
       "      <td>left002001.png</td>\n",
       "      <td>1280</td>\n",
       "      <td>720</td>\n",
       "      <td>718.5</td>\n",
       "      <td>423.5</td>\n",
       "    </tr>\n",
       "    <tr>\n",
       "      <th>1</th>\n",
       "      <td>ball</td>\n",
       "      <td>715.0</td>\n",
       "      <td>420.0</td>\n",
       "      <td>13.0</td>\n",
       "      <td>12.0</td>\n",
       "      <td>left002002.png</td>\n",
       "      <td>1280</td>\n",
       "      <td>720</td>\n",
       "      <td>721.5</td>\n",
       "      <td>426.0</td>\n",
       "    </tr>\n",
       "    <tr>\n",
       "      <th>2</th>\n",
       "      <td>ball</td>\n",
       "      <td>715.0</td>\n",
       "      <td>417.0</td>\n",
       "      <td>16.0</td>\n",
       "      <td>18.0</td>\n",
       "      <td>left002003.png</td>\n",
       "      <td>1280</td>\n",
       "      <td>720</td>\n",
       "      <td>723.0</td>\n",
       "      <td>426.0</td>\n",
       "    </tr>\n",
       "    <tr>\n",
       "      <th>3</th>\n",
       "      <td>ball</td>\n",
       "      <td>718.0</td>\n",
       "      <td>424.0</td>\n",
       "      <td>14.0</td>\n",
       "      <td>14.0</td>\n",
       "      <td>left002004.png</td>\n",
       "      <td>1280</td>\n",
       "      <td>720</td>\n",
       "      <td>725.0</td>\n",
       "      <td>431.0</td>\n",
       "    </tr>\n",
       "    <tr>\n",
       "      <th>4</th>\n",
       "      <td>ball</td>\n",
       "      <td>718.0</td>\n",
       "      <td>427.0</td>\n",
       "      <td>15.0</td>\n",
       "      <td>15.0</td>\n",
       "      <td>left002005.png</td>\n",
       "      <td>1280</td>\n",
       "      <td>720</td>\n",
       "      <td>725.5</td>\n",
       "      <td>434.5</td>\n",
       "    </tr>\n",
       "    <tr>\n",
       "      <th>...</th>\n",
       "      <td>...</td>\n",
       "      <td>...</td>\n",
       "      <td>...</td>\n",
       "      <td>...</td>\n",
       "      <td>...</td>\n",
       "      <td>...</td>\n",
       "      <td>...</td>\n",
       "      <td>...</td>\n",
       "      <td>...</td>\n",
       "      <td>...</td>\n",
       "    </tr>\n",
       "    <tr>\n",
       "      <th>95</th>\n",
       "      <td>ball</td>\n",
       "      <td>1014.0</td>\n",
       "      <td>424.0</td>\n",
       "      <td>18.0</td>\n",
       "      <td>17.0</td>\n",
       "      <td>left002096.png</td>\n",
       "      <td>1280</td>\n",
       "      <td>720</td>\n",
       "      <td>1023.0</td>\n",
       "      <td>432.5</td>\n",
       "    </tr>\n",
       "    <tr>\n",
       "      <th>96</th>\n",
       "      <td>ball</td>\n",
       "      <td>1022.0</td>\n",
       "      <td>428.0</td>\n",
       "      <td>18.0</td>\n",
       "      <td>17.0</td>\n",
       "      <td>left002097.png</td>\n",
       "      <td>1280</td>\n",
       "      <td>720</td>\n",
       "      <td>1031.0</td>\n",
       "      <td>436.5</td>\n",
       "    </tr>\n",
       "    <tr>\n",
       "      <th>97</th>\n",
       "      <td>ball</td>\n",
       "      <td>1030.0</td>\n",
       "      <td>433.0</td>\n",
       "      <td>19.0</td>\n",
       "      <td>17.0</td>\n",
       "      <td>left002098.png</td>\n",
       "      <td>1280</td>\n",
       "      <td>720</td>\n",
       "      <td>1039.5</td>\n",
       "      <td>441.5</td>\n",
       "    </tr>\n",
       "    <tr>\n",
       "      <th>98</th>\n",
       "      <td>ball</td>\n",
       "      <td>1039.0</td>\n",
       "      <td>440.0</td>\n",
       "      <td>18.0</td>\n",
       "      <td>17.0</td>\n",
       "      <td>left002099.png</td>\n",
       "      <td>1280</td>\n",
       "      <td>720</td>\n",
       "      <td>1048.0</td>\n",
       "      <td>448.5</td>\n",
       "    </tr>\n",
       "    <tr>\n",
       "      <th>99</th>\n",
       "      <td>ball</td>\n",
       "      <td>1047.0</td>\n",
       "      <td>445.0</td>\n",
       "      <td>19.0</td>\n",
       "      <td>18.0</td>\n",
       "      <td>left002100.png</td>\n",
       "      <td>1280</td>\n",
       "      <td>720</td>\n",
       "      <td>1056.5</td>\n",
       "      <td>454.0</td>\n",
       "    </tr>\n",
       "  </tbody>\n",
       "</table>\n",
       "<p>100 rows × 10 columns</p>\n",
       "</div>"
      ],
      "text/plain": [
       "   label_name  bbox_x  bbox_y  bbox_width  bbox_height      image_name  \\\n",
       "0        ball   713.0   418.0        11.0         11.0  left002001.png   \n",
       "1        ball   715.0   420.0        13.0         12.0  left002002.png   \n",
       "2        ball   715.0   417.0        16.0         18.0  left002003.png   \n",
       "3        ball   718.0   424.0        14.0         14.0  left002004.png   \n",
       "4        ball   718.0   427.0        15.0         15.0  left002005.png   \n",
       "..        ...     ...     ...         ...          ...             ...   \n",
       "95       ball  1014.0   424.0        18.0         17.0  left002096.png   \n",
       "96       ball  1022.0   428.0        18.0         17.0  left002097.png   \n",
       "97       ball  1030.0   433.0        19.0         17.0  left002098.png   \n",
       "98       ball  1039.0   440.0        18.0         17.0  left002099.png   \n",
       "99       ball  1047.0   445.0        19.0         18.0  left002100.png   \n",
       "\n",
       "    image_width  image_height  center_x  center_y  \n",
       "0          1280           720     718.5     423.5  \n",
       "1          1280           720     721.5     426.0  \n",
       "2          1280           720     723.0     426.0  \n",
       "3          1280           720     725.0     431.0  \n",
       "4          1280           720     725.5     434.5  \n",
       "..          ...           ...       ...       ...  \n",
       "95         1280           720    1023.0     432.5  \n",
       "96         1280           720    1031.0     436.5  \n",
       "97         1280           720    1039.5     441.5  \n",
       "98         1280           720    1048.0     448.5  \n",
       "99         1280           720    1056.5     454.0  \n",
       "\n",
       "[100 rows x 10 columns]"
      ]
     },
     "execution_count": 42,
     "metadata": {},
     "output_type": "execute_result"
    }
   ],
   "source": [
    "df_new2 = pd.read_csv('NewYolov8.csv', sep=',', delimiter=None)\n",
    "df_new2['center_x'] = df_new2['bbox_x'] + df_new2['bbox_width'] / 2\n",
    "df_new2['center_y'] = df_new2['bbox_y'] + df_new2['bbox_height'] / 2\n",
    "df_new2"
   ]
  },
  {
   "cell_type": "code",
   "execution_count": 43,
   "metadata": {},
   "outputs": [],
   "source": [
    "x3 = df_new2['center_x']\n",
    "y3 = df_new2['center_y']\n",
    "\n",
    "count = 0\n",
    "for i in range(len(x1)):\n",
    "    predicted_coordinates2 = list(zip(x3,y3))\n",
    "    ground_coordinates = list(zip(x1,y1))\n",
    "    count += 1"
   ]
  },
  {
   "cell_type": "code",
   "execution_count": null,
   "metadata": {},
   "outputs": [
    {
     "name": "stdout",
     "output_type": "stream",
     "text": [
      "8.685011657213117\n"
     ]
    }
   ],
   "source": [
    "error2 = avg_displacement_error(predicted_coordinates2, ground_coordinates)\n",
    "print(error2)"
   ]
  },
  {
   "cell_type": "code",
   "execution_count": null,
   "metadata": {},
   "outputs": [
    {
     "name": "stdout",
     "output_type": "stream",
     "text": [
      "0.2221698507138724\n"
     ]
    }
   ],
   "source": [
    "error3 = avg_mahalanobis_distance(predicted_coordinates2, ground_coordinates)\n",
    "print(error3)"
   ]
  },
  {
   "cell_type": "code",
   "execution_count": 44,
   "metadata": {},
   "outputs": [
    {
     "data": {
      "image/png": "[encoded data removed]",
      "text/plain": [
       "<Figure size 640x480 with 1 Axes>"
      ]
     },
     "metadata": {},
     "output_type": "display_data"
    }
   ],
   "source": [
    "from matplotlib import markers\n",
    "plt.plot(x1, y1, marker='o', color='red', label='Ground Truth')\n",
    "plt.plot(x3, y3, marker='x', color='black', label='Pred Value')\n",
    "plt.ylim(max(plt.ylim()), min(plt.ylim()))\n",
    "plt.xlabel('Width of the room in Pixels')\n",
    "plt.ylabel('Height of the room in Pixels')\n",
    "plt.legend()\n",
    "plt.show()"
   ]
  },
  {
   "cell_type": "code",
   "execution_count": 6,
   "metadata": {},
   "outputs": [
    {
     "data": {
      "text/html": [
       "<div>\n",
       "<style scoped>\n",
       "    .dataframe tbody tr th:only-of-type {\n",
       "        vertical-align: middle;\n",
       "    }\n",
       "\n",
       "    .dataframe tbody tr th {\n",
       "        vertical-align: top;\n",
       "    }\n",
       "\n",
       "    .dataframe thead th {\n",
       "        text-align: right;\n",
       "    }\n",
       "</style>\n",
       "<table border=\"1\" class=\"dataframe\">\n",
       "  <thead>\n",
       "    <tr style=\"text-align: right;\">\n",
       "      <th></th>\n",
       "      <th>x</th>\n",
       "      <th>y</th>\n",
       "    </tr>\n",
       "  </thead>\n",
       "  <tbody>\n",
       "    <tr>\n",
       "      <th>0</th>\n",
       "      <td>718.0</td>\n",
       "      <td>422.0000</td>\n",
       "    </tr>\n",
       "    <tr>\n",
       "      <th>1</th>\n",
       "      <td>721.0</td>\n",
       "      <td>426.0000</td>\n",
       "    </tr>\n",
       "    <tr>\n",
       "      <th>2</th>\n",
       "      <td>724.0</td>\n",
       "      <td>430.0109</td>\n",
       "    </tr>\n",
       "    <tr>\n",
       "      <th>3</th>\n",
       "      <td>724.0</td>\n",
       "      <td>430.0000</td>\n",
       "    </tr>\n",
       "    <tr>\n",
       "      <th>4</th>\n",
       "      <td>725.0</td>\n",
       "      <td>434.0000</td>\n",
       "    </tr>\n",
       "    <tr>\n",
       "      <th>...</th>\n",
       "      <td>...</td>\n",
       "      <td>...</td>\n",
       "    </tr>\n",
       "    <tr>\n",
       "      <th>95</th>\n",
       "      <td>1023.0</td>\n",
       "      <td>432.0000</td>\n",
       "    </tr>\n",
       "    <tr>\n",
       "      <th>96</th>\n",
       "      <td>1030.0</td>\n",
       "      <td>436.0000</td>\n",
       "    </tr>\n",
       "    <tr>\n",
       "      <th>97</th>\n",
       "      <td>1038.0</td>\n",
       "      <td>442.0000</td>\n",
       "    </tr>\n",
       "    <tr>\n",
       "      <th>98</th>\n",
       "      <td>1047.0</td>\n",
       "      <td>447.0000</td>\n",
       "    </tr>\n",
       "    <tr>\n",
       "      <th>99</th>\n",
       "      <td>1056.0</td>\n",
       "      <td>453.0000</td>\n",
       "    </tr>\n",
       "  </tbody>\n",
       "</table>\n",
       "<p>100 rows × 2 columns</p>\n",
       "</div>"
      ],
      "text/plain": [
       "         x         y\n",
       "0    718.0  422.0000\n",
       "1    721.0  426.0000\n",
       "2    724.0  430.0109\n",
       "3    724.0  430.0000\n",
       "4    725.0  434.0000\n",
       "..     ...       ...\n",
       "95  1023.0  432.0000\n",
       "96  1030.0  436.0000\n",
       "97  1038.0  442.0000\n",
       "98  1047.0  447.0000\n",
       "99  1056.0  453.0000\n",
       "\n",
       "[100 rows x 2 columns]"
      ]
     },
     "execution_count": 6,
     "metadata": {},
     "output_type": "execute_result"
    }
   ],
   "source": [
    "df_june19 = pd.read_csv('Img2100Dynamics.csv')\n",
    "df_june19"
   ]
  },
  {
   "cell_type": "code",
   "execution_count": 9,
   "metadata": {},
   "outputs": [
    {
     "data": {
      "image/png": "[encoded data removed]",
      "text/plain": [
       "<Figure size 640x480 with 1 Axes>"
      ]
     },
     "metadata": {},
     "output_type": "display_data"
    }
   ],
   "source": [
    "from matplotlib import markers\n",
    "plt.plot(x1, y1, marker='o', color='red', label='Ground Truth')\n",
    "# plt.plot(x3, y3, marker='x', color='black', label='Pred Value')\n",
    "plt.plot(e, f, marker='s', color='green', label='DynamicsTracker')\n",
    "plt.ylim(max(plt.ylim()), min(plt.ylim()))\n",
    "# plt.xlabel('Width of the room in Pixels')\n",
    "# plt.ylabel('Height of the room in Pixels')\n",
    "plt.legend()\n",
    "plt.show()"
   ]
  },
  {
   "cell_type": "code",
   "execution_count": 8,
   "metadata": {},
   "outputs": [
    {
     "ename": "NameError",
     "evalue": "name 'avg_displacement_error' is not defined",
     "output_type": "error",
     "traceback": [
      "\u001b[1;31m---------------------------------------------------------------------------\u001b[0m",
      "\u001b[1;31mNameError\u001b[0m                                 Traceback (most recent call last)",
      "\u001b[1;32mc:\\Users\\C00488381\\OneDrive - University of Louisiana Lafayette\\Papers to Study\\Desktop\\Displacement Errror\\ADE.ipynb Cell 40\u001b[0m in \u001b[0;36m9\n\u001b[0;32m      <a href='vscode-notebook-cell:/c%3A/Users/C00488381/OneDrive%20-%20University%20of%20Louisiana%20Lafayette/Papers%20to%20Study/Desktop/Displacement%20Errror/ADE.ipynb#X54sZmlsZQ%3D%3D?line=5'>6</a>\u001b[0m     ground_coordinates \u001b[39m=\u001b[39m \u001b[39mlist\u001b[39m(\u001b[39mzip\u001b[39m(x1,y1))\n\u001b[0;32m      <a href='vscode-notebook-cell:/c%3A/Users/C00488381/OneDrive%20-%20University%20of%20Louisiana%20Lafayette/Papers%20to%20Study/Desktop/Displacement%20Errror/ADE.ipynb#X54sZmlsZQ%3D%3D?line=6'>7</a>\u001b[0m     count \u001b[39m+\u001b[39m\u001b[39m=\u001b[39m \u001b[39m1\u001b[39m\n\u001b[1;32m----> <a href='vscode-notebook-cell:/c%3A/Users/C00488381/OneDrive%20-%20University%20of%20Louisiana%20Lafayette/Papers%20to%20Study/Desktop/Displacement%20Errror/ADE.ipynb#X54sZmlsZQ%3D%3D?line=8'>9</a>\u001b[0m errorE \u001b[39m=\u001b[39m avg_displacement_error(predicted_coordinates3, ground_coordinates)\n\u001b[0;32m     <a href='vscode-notebook-cell:/c%3A/Users/C00488381/OneDrive%20-%20University%20of%20Louisiana%20Lafayette/Papers%20to%20Study/Desktop/Displacement%20Errror/ADE.ipynb#X54sZmlsZQ%3D%3D?line=9'>10</a>\u001b[0m errorF \u001b[39m=\u001b[39m avg_mahalanobis_distance(predicted_coordinates3, ground_coordinates)\n\u001b[0;32m     <a href='vscode-notebook-cell:/c%3A/Users/C00488381/OneDrive%20-%20University%20of%20Louisiana%20Lafayette/Papers%20to%20Study/Desktop/Displacement%20Errror/ADE.ipynb#X54sZmlsZQ%3D%3D?line=10'>11</a>\u001b[0m \u001b[39mprint\u001b[39m(errorE, errorF)\n",
      "\u001b[1;31mNameError\u001b[0m: name 'avg_displacement_error' is not defined"
     ]
    }
   ],
   "source": [
    "e = df_june19['x']\n",
    "f= df_june19['y']\n",
    "count = 0\n",
    "for i in range(len(x1)):\n",
    "    predicted_coordinates3 = list(zip(e,f))\n",
    "    ground_coordinates = list(zip(x1,y1))\n",
    "    count += 1\n",
    "    \n",
    "errorE = avg_displacement_error(predicted_coordinates3, ground_coordinates)\n",
    "errorF = avg_mahalanobis_distance(predicted_coordinates3, ground_coordinates)\n",
    "print(errorE, errorF)"
   ]
  },
  {
   "attachments": {},
   "cell_type": "markdown",
   "metadata": {},
   "source": [
    "Yolov7"
   ]
  },
  {
   "cell_type": "code",
   "execution_count": null,
   "metadata": {},
   "outputs": [
    {
     "data": {
      "text/html": [
       "<div>\n",
       "<style scoped>\n",
       "    .dataframe tbody tr th:only-of-type {\n",
       "        vertical-align: middle;\n",
       "    }\n",
       "\n",
       "    .dataframe tbody tr th {\n",
       "        vertical-align: top;\n",
       "    }\n",
       "\n",
       "    .dataframe thead th {\n",
       "        text-align: right;\n",
       "    }\n",
       "</style>\n",
       "<table border=\"1\" class=\"dataframe\">\n",
       "  <thead>\n",
       "    <tr style=\"text-align: right;\">\n",
       "      <th></th>\n",
       "      <th>label_name</th>\n",
       "      <th>bbox_x</th>\n",
       "      <th>bbox_y</th>\n",
       "      <th>bbox_width</th>\n",
       "      <th>bbox_height</th>\n",
       "      <th>image_name</th>\n",
       "      <th>image_width</th>\n",
       "      <th>image_height</th>\n",
       "    </tr>\n",
       "  </thead>\n",
       "  <tbody>\n",
       "    <tr>\n",
       "      <th>0</th>\n",
       "      <td>ball</td>\n",
       "      <td>718</td>\n",
       "      <td>426</td>\n",
       "      <td>13</td>\n",
       "      <td>13</td>\n",
       "      <td>left002004.png</td>\n",
       "      <td>1280</td>\n",
       "      <td>720</td>\n",
       "    </tr>\n",
       "    <tr>\n",
       "      <th>1</th>\n",
       "      <td>ball</td>\n",
       "      <td>719</td>\n",
       "      <td>429</td>\n",
       "      <td>14</td>\n",
       "      <td>15</td>\n",
       "      <td>left002005.png</td>\n",
       "      <td>1280</td>\n",
       "      <td>720</td>\n",
       "    </tr>\n",
       "    <tr>\n",
       "      <th>2</th>\n",
       "      <td>ball</td>\n",
       "      <td>722</td>\n",
       "      <td>433</td>\n",
       "      <td>14</td>\n",
       "      <td>15</td>\n",
       "      <td>left002006.png</td>\n",
       "      <td>1280</td>\n",
       "      <td>720</td>\n",
       "    </tr>\n",
       "    <tr>\n",
       "      <th>3</th>\n",
       "      <td>ball</td>\n",
       "      <td>724</td>\n",
       "      <td>438</td>\n",
       "      <td>13</td>\n",
       "      <td>14</td>\n",
       "      <td>left002007.png</td>\n",
       "      <td>1280</td>\n",
       "      <td>720</td>\n",
       "    </tr>\n",
       "    <tr>\n",
       "      <th>4</th>\n",
       "      <td>ball</td>\n",
       "      <td>730</td>\n",
       "      <td>440</td>\n",
       "      <td>14</td>\n",
       "      <td>14</td>\n",
       "      <td>left002011.png</td>\n",
       "      <td>1280</td>\n",
       "      <td>720</td>\n",
       "    </tr>\n",
       "    <tr>\n",
       "      <th>...</th>\n",
       "      <td>...</td>\n",
       "      <td>...</td>\n",
       "      <td>...</td>\n",
       "      <td>...</td>\n",
       "      <td>...</td>\n",
       "      <td>...</td>\n",
       "      <td>...</td>\n",
       "      <td>...</td>\n",
       "    </tr>\n",
       "    <tr>\n",
       "      <th>100</th>\n",
       "      <td>ball</td>\n",
       "      <td>1008</td>\n",
       "      <td>422</td>\n",
       "      <td>16</td>\n",
       "      <td>14</td>\n",
       "      <td>left002095.png</td>\n",
       "      <td>1280</td>\n",
       "      <td>720</td>\n",
       "    </tr>\n",
       "    <tr>\n",
       "      <th>101</th>\n",
       "      <td>ball</td>\n",
       "      <td>1014</td>\n",
       "      <td>425</td>\n",
       "      <td>18</td>\n",
       "      <td>17</td>\n",
       "      <td>left002096.png</td>\n",
       "      <td>1280</td>\n",
       "      <td>720</td>\n",
       "    </tr>\n",
       "    <tr>\n",
       "      <th>102</th>\n",
       "      <td>ball</td>\n",
       "      <td>1023</td>\n",
       "      <td>429</td>\n",
       "      <td>18</td>\n",
       "      <td>17</td>\n",
       "      <td>left002097.png</td>\n",
       "      <td>1280</td>\n",
       "      <td>720</td>\n",
       "    </tr>\n",
       "    <tr>\n",
       "      <th>103</th>\n",
       "      <td>ball</td>\n",
       "      <td>1031</td>\n",
       "      <td>435</td>\n",
       "      <td>18</td>\n",
       "      <td>16</td>\n",
       "      <td>left002098.png</td>\n",
       "      <td>1280</td>\n",
       "      <td>720</td>\n",
       "    </tr>\n",
       "    <tr>\n",
       "      <th>104</th>\n",
       "      <td>ball</td>\n",
       "      <td>1040</td>\n",
       "      <td>440</td>\n",
       "      <td>17</td>\n",
       "      <td>17</td>\n",
       "      <td>left002099.png</td>\n",
       "      <td>1280</td>\n",
       "      <td>720</td>\n",
       "    </tr>\n",
       "  </tbody>\n",
       "</table>\n",
       "<p>105 rows × 8 columns</p>\n",
       "</div>"
      ],
      "text/plain": [
       "    label_name  bbox_x  bbox_y  bbox_width  bbox_height      image_name  \\\n",
       "0         ball     718     426          13           13  left002004.png   \n",
       "1         ball     719     429          14           15  left002005.png   \n",
       "2         ball     722     433          14           15  left002006.png   \n",
       "3         ball     724     438          13           14  left002007.png   \n",
       "4         ball     730     440          14           14  left002011.png   \n",
       "..         ...     ...     ...         ...          ...             ...   \n",
       "100       ball    1008     422          16           14  left002095.png   \n",
       "101       ball    1014     425          18           17  left002096.png   \n",
       "102       ball    1023     429          18           17  left002097.png   \n",
       "103       ball    1031     435          18           16  left002098.png   \n",
       "104       ball    1040     440          17           17  left002099.png   \n",
       "\n",
       "     image_width  image_height  \n",
       "0           1280           720  \n",
       "1           1280           720  \n",
       "2           1280           720  \n",
       "3           1280           720  \n",
       "4           1280           720  \n",
       "..           ...           ...  \n",
       "100         1280           720  \n",
       "101         1280           720  \n",
       "102         1280           720  \n",
       "103         1280           720  \n",
       "104         1280           720  \n",
       "\n",
       "[105 rows x 8 columns]"
      ]
     },
     "execution_count": 15,
     "metadata": {},
     "output_type": "execute_result"
    }
   ],
   "source": [
    "df_new3 = pd.read_csv('NewYolov7.csv', sep=',', delimiter=None)\n",
    "df_new3"
   ]
  },
  {
   "cell_type": "code",
   "execution_count": null,
   "metadata": {},
   "outputs": [],
   "source": [
    "x4 = df_new3['bbox_x']\n",
    "y4 = df_new3['bbox_y']\n",
    "\n",
    "count = 0\n",
    "for i in range(len(x1)):\n",
    "    predicted_coordinates3 = list(zip(x4[:100],y4[:100]))\n",
    "    ground_coordinates = list(zip(x1,y1))\n",
    "    count += 1"
   ]
  },
  {
   "cell_type": "code",
   "execution_count": null,
   "metadata": {},
   "outputs": [
    {
     "name": "stdout",
     "output_type": "stream",
     "text": [
      "44.389438191394746\n"
     ]
    }
   ],
   "source": [
    "error3 = avg_displacement_error(predicted_coordinates3, ground_coordinates)\n",
    "print(error3)"
   ]
  },
  {
   "cell_type": "code",
   "execution_count": null,
   "metadata": {},
   "outputs": [
    {
     "name": "stdout",
     "output_type": "stream",
     "text": [
      "1.20741465653928\n"
     ]
    }
   ],
   "source": [
    "error4 = avg_mahalanobis_distance(predicted_coordinates3, ground_coordinates)\n",
    "print(error4)"
   ]
  },
  {
   "cell_type": "code",
   "execution_count": null,
   "metadata": {},
   "outputs": [
    {
     "data": {
      "image/png": "[encoded data removed]",
      "text/plain": [
       "<Figure size 640x480 with 1 Axes>"
      ]
     },
     "metadata": {},
     "output_type": "display_data"
    }
   ],
   "source": [
    "from matplotlib import markers\n",
    "plt.scatter(x1, y1, marker='o', color='red', label='Ground Truth')\n",
    "plt.scatter(x4, y4, marker='s', color='black', label='Pred Value')\n",
    "plt.ylim(max(plt.ylim()), min(plt.ylim()))\n",
    "plt.xlabel('Width of the room in Pixels')\n",
    "plt.ylabel('Height of the room in Pixels')\n",
    "plt.legend()\n",
    "plt.show()"
   ]
  },
  {
   "attachments": {},
   "cell_type": "markdown",
   "metadata": {},
   "source": [
    "Yolov8 Tracking Strong Sort and DeepOCsort"
   ]
  },
  {
   "cell_type": "code",
   "execution_count": null,
   "metadata": {},
   "outputs": [
    {
     "data": {
      "text/html": [
       "<div>\n",
       "<style scoped>\n",
       "    .dataframe tbody tr th:only-of-type {\n",
       "        vertical-align: middle;\n",
       "    }\n",
       "\n",
       "    .dataframe tbody tr th {\n",
       "        vertical-align: top;\n",
       "    }\n",
       "\n",
       "    .dataframe thead th {\n",
       "        text-align: right;\n",
       "    }\n",
       "</style>\n",
       "<table border=\"1\" class=\"dataframe\">\n",
       "  <thead>\n",
       "    <tr style=\"text-align: right;\">\n",
       "      <th></th>\n",
       "      <th>num</th>\n",
       "      <th>x</th>\n",
       "      <th>y</th>\n",
       "      <th>h</th>\n",
       "      <th>w</th>\n",
       "      <th>center_x</th>\n",
       "      <th>center_y</th>\n",
       "    </tr>\n",
       "  </thead>\n",
       "  <tbody>\n",
       "    <tr>\n",
       "      <th>0</th>\n",
       "      <td>0</td>\n",
       "      <td>718</td>\n",
       "      <td>426</td>\n",
       "      <td>13</td>\n",
       "      <td>11</td>\n",
       "      <td>723.5</td>\n",
       "      <td>432.5</td>\n",
       "    </tr>\n",
       "    <tr>\n",
       "      <th>1</th>\n",
       "      <td>1</td>\n",
       "      <td>719</td>\n",
       "      <td>429</td>\n",
       "      <td>14</td>\n",
       "      <td>14</td>\n",
       "      <td>726.0</td>\n",
       "      <td>436.0</td>\n",
       "    </tr>\n",
       "    <tr>\n",
       "      <th>2</th>\n",
       "      <td>2</td>\n",
       "      <td>720</td>\n",
       "      <td>432</td>\n",
       "      <td>15</td>\n",
       "      <td>14</td>\n",
       "      <td>727.0</td>\n",
       "      <td>439.5</td>\n",
       "    </tr>\n",
       "    <tr>\n",
       "      <th>3</th>\n",
       "      <td>3</td>\n",
       "      <td>722</td>\n",
       "      <td>438</td>\n",
       "      <td>14</td>\n",
       "      <td>13</td>\n",
       "      <td>728.5</td>\n",
       "      <td>445.0</td>\n",
       "    </tr>\n",
       "    <tr>\n",
       "      <th>4</th>\n",
       "      <td>4</td>\n",
       "      <td>723</td>\n",
       "      <td>442</td>\n",
       "      <td>16</td>\n",
       "      <td>15</td>\n",
       "      <td>730.5</td>\n",
       "      <td>450.0</td>\n",
       "    </tr>\n",
       "    <tr>\n",
       "      <th>...</th>\n",
       "      <td>...</td>\n",
       "      <td>...</td>\n",
       "      <td>...</td>\n",
       "      <td>...</td>\n",
       "      <td>...</td>\n",
       "      <td>...</td>\n",
       "      <td>...</td>\n",
       "    </tr>\n",
       "    <tr>\n",
       "      <th>90</th>\n",
       "      <td>90</td>\n",
       "      <td>1015</td>\n",
       "      <td>425</td>\n",
       "      <td>16</td>\n",
       "      <td>16</td>\n",
       "      <td>1023.0</td>\n",
       "      <td>433.0</td>\n",
       "    </tr>\n",
       "    <tr>\n",
       "      <th>91</th>\n",
       "      <td>91</td>\n",
       "      <td>1024</td>\n",
       "      <td>430</td>\n",
       "      <td>14</td>\n",
       "      <td>15</td>\n",
       "      <td>1031.5</td>\n",
       "      <td>437.0</td>\n",
       "    </tr>\n",
       "    <tr>\n",
       "      <th>92</th>\n",
       "      <td>92</td>\n",
       "      <td>1031</td>\n",
       "      <td>435</td>\n",
       "      <td>16</td>\n",
       "      <td>16</td>\n",
       "      <td>1039.0</td>\n",
       "      <td>443.0</td>\n",
       "    </tr>\n",
       "    <tr>\n",
       "      <th>93</th>\n",
       "      <td>93</td>\n",
       "      <td>1040</td>\n",
       "      <td>440</td>\n",
       "      <td>16</td>\n",
       "      <td>16</td>\n",
       "      <td>1048.0</td>\n",
       "      <td>448.0</td>\n",
       "    </tr>\n",
       "    <tr>\n",
       "      <th>94</th>\n",
       "      <td>94</td>\n",
       "      <td>1049</td>\n",
       "      <td>446</td>\n",
       "      <td>15</td>\n",
       "      <td>16</td>\n",
       "      <td>1057.0</td>\n",
       "      <td>453.5</td>\n",
       "    </tr>\n",
       "  </tbody>\n",
       "</table>\n",
       "<p>95 rows × 7 columns</p>\n",
       "</div>"
      ],
      "text/plain": [
       "    num     x    y   h   w  center_x  center_y\n",
       "0     0   718  426  13  11     723.5     432.5\n",
       "1     1   719  429  14  14     726.0     436.0\n",
       "2     2   720  432  15  14     727.0     439.5\n",
       "3     3   722  438  14  13     728.5     445.0\n",
       "4     4   723  442  16  15     730.5     450.0\n",
       "..  ...   ...  ...  ..  ..       ...       ...\n",
       "90   90  1015  425  16  16    1023.0     433.0\n",
       "91   91  1024  430  14  15    1031.5     437.0\n",
       "92   92  1031  435  16  16    1039.0     443.0\n",
       "93   93  1040  440  16  16    1048.0     448.0\n",
       "94   94  1049  446  15  16    1057.0     453.5\n",
       "\n",
       "[95 rows x 7 columns]"
      ]
     },
     "execution_count": 8,
     "metadata": {},
     "output_type": "execute_result"
    }
   ],
   "source": [
    "df5 = pd.read_csv('TestVid2_deepocsort.csv', sep=',', delimiter=None)\n",
    "df5['center_x'] = df5['x'] + df5['w'] / 2\n",
    "df5['center_y'] = df5['y'] + df5['h'] / 2\n",
    "df5"
   ]
  },
  {
   "cell_type": "code",
   "execution_count": null,
   "metadata": {},
   "outputs": [
    {
     "name": "stdout",
     "output_type": "stream",
     "text": [
      "22.97034618923641\n"
     ]
    }
   ],
   "source": [
    "x5 = df5['center_x']\n",
    "y5 = df5['center_y']\n",
    "\n",
    "count = 0\n",
    "for i in range(len(x1)):\n",
    "    predicted_coordinates5 = list(zip(x5,y5))\n",
    "    ground_coordinates = list(zip(x1,y1))\n",
    "    count += 1\n",
    "    \n",
    "error5 = avg_displacement_error(predicted_coordinates5, ground_coordinates)\n",
    "print(error5)"
   ]
  },
  {
   "cell_type": "code",
   "execution_count": null,
   "metadata": {},
   "outputs": [
    {
     "data": {
      "text/plain": [
       "0.6917372773577356"
      ]
     },
     "execution_count": 10,
     "metadata": {},
     "output_type": "execute_result"
    }
   ],
   "source": [
    "error6 = avg_mahalanobis_distance(predicted_coordinates5, ground_coordinates)\n",
    "error6"
   ]
  },
  {
   "cell_type": "code",
   "execution_count": null,
   "metadata": {},
   "outputs": [
    {
     "data": {
      "image/png": "[encoded data removed]",
      "text/plain": [
       "<Figure size 640x480 with 1 Axes>"
      ]
     },
     "metadata": {},
     "output_type": "display_data"
    }
   ],
   "source": [
    "from matplotlib import markers\n",
    "plt.scatter(x1, y1, marker='o', color='red', label='Ground Truth')\n",
    "plt.scatter(x5, y5, marker='s', color='black', label='Pred Value')\n",
    "plt.xlabel('Width of the room in Pixels')\n",
    "plt.ylabel('Height of the room in Pixels')\n",
    "plt.legend()\n",
    "plt.show()"
   ]
  },
  {
   "attachments": {},
   "cell_type": "markdown",
   "metadata": {},
   "source": []
  },
  {
   "cell_type": "code",
   "execution_count": null,
   "metadata": {},
   "outputs": [
    {
     "data": {
      "text/html": [
       "<div>\n",
       "<style scoped>\n",
       "    .dataframe tbody tr th:only-of-type {\n",
       "        vertical-align: middle;\n",
       "    }\n",
       "\n",
       "    .dataframe tbody tr th {\n",
       "        vertical-align: top;\n",
       "    }\n",
       "\n",
       "    .dataframe thead th {\n",
       "        text-align: right;\n",
       "    }\n",
       "</style>\n",
       "<table border=\"1\" class=\"dataframe\">\n",
       "  <thead>\n",
       "    <tr style=\"text-align: right;\">\n",
       "      <th></th>\n",
       "      <th>x</th>\n",
       "      <th>y</th>\n",
       "      <th>h</th>\n",
       "      <th>w</th>\n",
       "      <th>center_x</th>\n",
       "      <th>center_y</th>\n",
       "    </tr>\n",
       "  </thead>\n",
       "  <tbody>\n",
       "    <tr>\n",
       "      <th>0</th>\n",
       "      <td>744</td>\n",
       "      <td>377</td>\n",
       "      <td>13</td>\n",
       "      <td>13</td>\n",
       "      <td>750.5</td>\n",
       "      <td>383.5</td>\n",
       "    </tr>\n",
       "    <tr>\n",
       "      <th>1</th>\n",
       "      <td>744</td>\n",
       "      <td>374</td>\n",
       "      <td>14</td>\n",
       "      <td>14</td>\n",
       "      <td>751.0</td>\n",
       "      <td>381.0</td>\n",
       "    </tr>\n",
       "    <tr>\n",
       "      <th>2</th>\n",
       "      <td>745</td>\n",
       "      <td>372</td>\n",
       "      <td>14</td>\n",
       "      <td>14</td>\n",
       "      <td>752.0</td>\n",
       "      <td>379.0</td>\n",
       "    </tr>\n",
       "    <tr>\n",
       "      <th>3</th>\n",
       "      <td>747</td>\n",
       "      <td>371</td>\n",
       "      <td>13</td>\n",
       "      <td>14</td>\n",
       "      <td>754.0</td>\n",
       "      <td>377.5</td>\n",
       "    </tr>\n",
       "    <tr>\n",
       "      <th>4</th>\n",
       "      <td>748</td>\n",
       "      <td>371</td>\n",
       "      <td>14</td>\n",
       "      <td>13</td>\n",
       "      <td>754.5</td>\n",
       "      <td>378.0</td>\n",
       "    </tr>\n",
       "    <tr>\n",
       "      <th>...</th>\n",
       "      <td>...</td>\n",
       "      <td>...</td>\n",
       "      <td>...</td>\n",
       "      <td>...</td>\n",
       "      <td>...</td>\n",
       "      <td>...</td>\n",
       "    </tr>\n",
       "    <tr>\n",
       "      <th>59</th>\n",
       "      <td>1015</td>\n",
       "      <td>425</td>\n",
       "      <td>15</td>\n",
       "      <td>15</td>\n",
       "      <td>1022.5</td>\n",
       "      <td>432.5</td>\n",
       "    </tr>\n",
       "    <tr>\n",
       "      <th>60</th>\n",
       "      <td>1023</td>\n",
       "      <td>429</td>\n",
       "      <td>15</td>\n",
       "      <td>16</td>\n",
       "      <td>1031.0</td>\n",
       "      <td>436.5</td>\n",
       "    </tr>\n",
       "    <tr>\n",
       "      <th>61</th>\n",
       "      <td>1031</td>\n",
       "      <td>435</td>\n",
       "      <td>15</td>\n",
       "      <td>15</td>\n",
       "      <td>1038.5</td>\n",
       "      <td>442.5</td>\n",
       "    </tr>\n",
       "    <tr>\n",
       "      <th>62</th>\n",
       "      <td>1039</td>\n",
       "      <td>439</td>\n",
       "      <td>17</td>\n",
       "      <td>17</td>\n",
       "      <td>1047.5</td>\n",
       "      <td>447.5</td>\n",
       "    </tr>\n",
       "    <tr>\n",
       "      <th>63</th>\n",
       "      <td>1048</td>\n",
       "      <td>445</td>\n",
       "      <td>16</td>\n",
       "      <td>17</td>\n",
       "      <td>1056.5</td>\n",
       "      <td>453.0</td>\n",
       "    </tr>\n",
       "  </tbody>\n",
       "</table>\n",
       "<p>64 rows × 6 columns</p>\n",
       "</div>"
      ],
      "text/plain": [
       "       x    y   h   w  center_x  center_y\n",
       "0    744  377  13  13     750.5     383.5\n",
       "1    744  374  14  14     751.0     381.0\n",
       "2    745  372  14  14     752.0     379.0\n",
       "3    747  371  13  14     754.0     377.5\n",
       "4    748  371  14  13     754.5     378.0\n",
       "..   ...  ...  ..  ..       ...       ...\n",
       "59  1015  425  15  15    1022.5     432.5\n",
       "60  1023  429  15  16    1031.0     436.5\n",
       "61  1031  435  15  15    1038.5     442.5\n",
       "62  1039  439  17  17    1047.5     447.5\n",
       "63  1048  445  16  17    1056.5     453.0\n",
       "\n",
       "[64 rows x 6 columns]"
      ]
     },
     "execution_count": 11,
     "metadata": {},
     "output_type": "execute_result"
    }
   ],
   "source": [
    "df6 = pd.read_csv('TestVid2_strongsort.csv', sep=',', delimiter=None)\n",
    "df6['center_x'] = df6['x'] + df6['w'] / 2\n",
    "df6['center_y'] = df6['y'] + df6['h'] / 2\n",
    "df6"
   ]
  },
  {
   "cell_type": "code",
   "execution_count": null,
   "metadata": {},
   "outputs": [
    {
     "name": "stdout",
     "output_type": "stream",
     "text": [
      "99.82819987568884\n"
     ]
    }
   ],
   "source": [
    "x6 = df6['center_x']\n",
    "y6 = df6['center_y']\n",
    "\n",
    "count = 0\n",
    "for i in range(len(x1)):\n",
    "    predicted_coordinates6 = list(zip(x6,y6))\n",
    "    ground_coordinates = list(zip(x1,y1))\n",
    "    count += 1\n",
    "    \n",
    "error7 = avg_displacement_error(predicted_coordinates6, ground_coordinates)\n",
    "print(error7)"
   ]
  },
  {
   "cell_type": "code",
   "execution_count": null,
   "metadata": {},
   "outputs": [
    {
     "data": {
      "text/plain": [
       "2.8596286304188987"
      ]
     },
     "execution_count": 13,
     "metadata": {},
     "output_type": "execute_result"
    }
   ],
   "source": [
    "error8 = avg_mahalanobis_distance(predicted_coordinates6, ground_coordinates)\n",
    "error8"
   ]
  },
  {
   "cell_type": "code",
   "execution_count": null,
   "metadata": {},
   "outputs": [
    {
     "data": {
      "image/png": "[encoded data removed]",
      "text/plain": [
       "<Figure size 640x480 with 1 Axes>"
      ]
     },
     "metadata": {},
     "output_type": "display_data"
    }
   ],
   "source": [
    "from matplotlib import markers\n",
    "plt.plot(x1, y1, marker='o', color='red', label='Ground Truth')\n",
    "plt.plot(x6, y6, marker='s', color='black', label='Pred Value')\n",
    "plt.xlabel('Width of the room in Pixels')\n",
    "plt.ylabel('Height of the room in Pixels')\n",
    "plt.legend()\n",
    "plt.show()"
   ]
  },
  {
   "cell_type": "code",
   "execution_count": null,
   "metadata": {},
   "outputs": [
    {
     "data": {
      "text/html": [
       "<div>\n",
       "<style scoped>\n",
       "    .dataframe tbody tr th:only-of-type {\n",
       "        vertical-align: middle;\n",
       "    }\n",
       "\n",
       "    .dataframe tbody tr th {\n",
       "        vertical-align: top;\n",
       "    }\n",
       "\n",
       "    .dataframe thead th {\n",
       "        text-align: right;\n",
       "    }\n",
       "</style>\n",
       "<table border=\"1\" class=\"dataframe\">\n",
       "  <thead>\n",
       "    <tr style=\"text-align: right;\">\n",
       "      <th></th>\n",
       "      <th>Filename</th>\n",
       "      <th>X</th>\n",
       "      <th>Y</th>\n",
       "    </tr>\n",
       "  </thead>\n",
       "  <tbody>\n",
       "    <tr>\n",
       "      <th>0</th>\n",
       "      <td>left002000.png</td>\n",
       "      <td>1216.590</td>\n",
       "      <td>640.1717</td>\n",
       "    </tr>\n",
       "    <tr>\n",
       "      <th>1</th>\n",
       "      <td>left002001.png</td>\n",
       "      <td>1217.112</td>\n",
       "      <td>639.1717</td>\n",
       "    </tr>\n",
       "    <tr>\n",
       "      <th>2</th>\n",
       "      <td>left002002.png</td>\n",
       "      <td>1182.112</td>\n",
       "      <td>634.1717</td>\n",
       "    </tr>\n",
       "    <tr>\n",
       "      <th>3</th>\n",
       "      <td>left002003.png</td>\n",
       "      <td>1217.878</td>\n",
       "      <td>639.2045</td>\n",
       "    </tr>\n",
       "    <tr>\n",
       "      <th>4</th>\n",
       "      <td>left002004.png</td>\n",
       "      <td>1258.846</td>\n",
       "      <td>670.9414</td>\n",
       "    </tr>\n",
       "    <tr>\n",
       "      <th>...</th>\n",
       "      <td>...</td>\n",
       "      <td>...</td>\n",
       "      <td>...</td>\n",
       "    </tr>\n",
       "    <tr>\n",
       "      <th>95</th>\n",
       "      <td>left002096.png</td>\n",
       "      <td>1257.934</td>\n",
       "      <td>653.1310</td>\n",
       "    </tr>\n",
       "    <tr>\n",
       "      <th>96</th>\n",
       "      <td>left002097.png</td>\n",
       "      <td>1217.080</td>\n",
       "      <td>639.4810</td>\n",
       "    </tr>\n",
       "    <tr>\n",
       "      <th>97</th>\n",
       "      <td>left002098.png</td>\n",
       "      <td>1182.712</td>\n",
       "      <td>621.6172</td>\n",
       "    </tr>\n",
       "    <tr>\n",
       "      <th>98</th>\n",
       "      <td>left002099.png</td>\n",
       "      <td>1216.712</td>\n",
       "      <td>638.1203</td>\n",
       "    </tr>\n",
       "    <tr>\n",
       "      <th>99</th>\n",
       "      <td>left002100.png</td>\n",
       "      <td>1260.306</td>\n",
       "      <td>654.4865</td>\n",
       "    </tr>\n",
       "  </tbody>\n",
       "</table>\n",
       "<p>100 rows × 3 columns</p>\n",
       "</div>"
      ],
      "text/plain": [
       "          Filename        X         Y \n",
       "0   left002000.png  1216.590  640.1717\n",
       "1   left002001.png  1217.112  639.1717\n",
       "2   left002002.png  1182.112  634.1717\n",
       "3   left002003.png  1217.878  639.2045\n",
       "4   left002004.png  1258.846  670.9414\n",
       "..             ...       ...       ...\n",
       "95  left002096.png  1257.934  653.1310\n",
       "96  left002097.png  1217.080  639.4810\n",
       "97  left002098.png  1182.712  621.6172\n",
       "98  left002099.png  1216.712  638.1203\n",
       "99  left002100.png  1260.306  654.4865\n",
       "\n",
       "[100 rows x 3 columns]"
      ]
     },
     "execution_count": 39,
     "metadata": {},
     "output_type": "execute_result"
    }
   ],
   "source": [
    "#Matlab Code based detection\n",
    "df7 = pd.read_csv('ball_positionMay18.csv', sep=',', delimiter=None)\n",
    "df7"
   ]
  },
  {
   "cell_type": "code",
   "execution_count": null,
   "metadata": {},
   "outputs": [],
   "source": [
    "x7 = df7[' X ']\n",
    "y7 = df7['Y ']\n",
    "count = 0\n",
    "for i in range(len(x1)):\n",
    "    predicted_coordinates7 = list(zip(x7,y7))\n",
    "    ground_coordinates = list(zip(x1,y1))\n",
    "    count += 1"
   ]
  },
  {
   "cell_type": "code",
   "execution_count": null,
   "metadata": {},
   "outputs": [
    {
     "name": "stdout",
     "output_type": "stream",
     "text": [
      "453.7825896768731\n"
     ]
    }
   ],
   "source": [
    "error9 = avg_displacement_error(predicted_coordinates7, ground_coordinates)\n",
    "print(error9)"
   ]
  },
  {
   "cell_type": "code",
   "execution_count": null,
   "metadata": {},
   "outputs": [
    {
     "data": {
      "text/plain": [
       "21.209157444470076"
      ]
     },
     "execution_count": 54,
     "metadata": {},
     "output_type": "execute_result"
    }
   ],
   "source": [
    "error10 = avg_mahalanobis_distance(predicted_coordinates7, ground_coordinates)\n",
    "error10"
   ]
  },
  {
   "cell_type": "code",
   "execution_count": null,
   "metadata": {},
   "outputs": [],
   "source": []
  },
  {
   "cell_type": "code",
   "execution_count": null,
   "metadata": {},
   "outputs": [
    {
     "data": {
      "image/png": "[encoded data removed]",
      "text/plain": [
       "<Figure size 640x480 with 1 Axes>"
      ]
     },
     "metadata": {},
     "output_type": "display_data"
    }
   ],
   "source": [
    "#plot df7 with ground truth\n",
    "from matplotlib import markers\n",
    "plt.plot(x1, y1, marker='o', color='red', label='Ground Truth')\n",
    "plt.plot(x7, y7, marker='s', color='black', label='Pred Value')\n",
    "plt.xlabel('Width of the room in Pixels')\n",
    "plt.ylabel('Height of the room in Pixels')\n",
    "plt.legend()\n",
    "plt.show()"
   ]
  },
  {
   "cell_type": "code",
   "execution_count": null,
   "metadata": {},
   "outputs": [
    {
     "data": {
      "text/html": [
       "<div>\n",
       "<style scoped>\n",
       "    .dataframe tbody tr th:only-of-type {\n",
       "        vertical-align: middle;\n",
       "    }\n",
       "\n",
       "    .dataframe tbody tr th {\n",
       "        vertical-align: top;\n",
       "    }\n",
       "\n",
       "    .dataframe thead th {\n",
       "        text-align: right;\n",
       "    }\n",
       "</style>\n",
       "<table border=\"1\" class=\"dataframe\">\n",
       "  <thead>\n",
       "    <tr style=\"text-align: right;\">\n",
       "      <th></th>\n",
       "      <th>Filename</th>\n",
       "      <th>X</th>\n",
       "      <th>Y</th>\n",
       "    </tr>\n",
       "  </thead>\n",
       "  <tbody>\n",
       "    <tr>\n",
       "      <th>0</th>\n",
       "      <td>left002013.png</td>\n",
       "      <td>614.9888</td>\n",
       "      <td>310.9888</td>\n",
       "    </tr>\n",
       "    <tr>\n",
       "      <th>1</th>\n",
       "      <td>left002014.png</td>\n",
       "      <td>1217.1160</td>\n",
       "      <td>640.0326</td>\n",
       "    </tr>\n",
       "    <tr>\n",
       "      <th>2</th>\n",
       "      <td>left002015.png</td>\n",
       "      <td>1182.1400</td>\n",
       "      <td>633.1618</td>\n",
       "    </tr>\n",
       "    <tr>\n",
       "      <th>3</th>\n",
       "      <td>left002016.png</td>\n",
       "      <td>1217.6800</td>\n",
       "      <td>638.7149</td>\n",
       "    </tr>\n",
       "    <tr>\n",
       "      <th>4</th>\n",
       "      <td>left002017.png</td>\n",
       "      <td>1255.0320</td>\n",
       "      <td>650.5364</td>\n",
       "    </tr>\n",
       "    <tr>\n",
       "      <th>...</th>\n",
       "      <td>...</td>\n",
       "      <td>...</td>\n",
       "      <td>...</td>\n",
       "    </tr>\n",
       "    <tr>\n",
       "      <th>83</th>\n",
       "      <td>left002096.png</td>\n",
       "      <td>1257.8640</td>\n",
       "      <td>653.1398</td>\n",
       "    </tr>\n",
       "    <tr>\n",
       "      <th>84</th>\n",
       "      <td>left002097.png</td>\n",
       "      <td>1217.0100</td>\n",
       "      <td>639.4898</td>\n",
       "    </tr>\n",
       "    <tr>\n",
       "      <th>85</th>\n",
       "      <td>left002098.png</td>\n",
       "      <td>1182.6420</td>\n",
       "      <td>621.6260</td>\n",
       "    </tr>\n",
       "    <tr>\n",
       "      <th>86</th>\n",
       "      <td>left002099.png</td>\n",
       "      <td>1216.6420</td>\n",
       "      <td>638.1291</td>\n",
       "    </tr>\n",
       "    <tr>\n",
       "      <th>87</th>\n",
       "      <td>left002100.png</td>\n",
       "      <td>1260.2360</td>\n",
       "      <td>654.4953</td>\n",
       "    </tr>\n",
       "  </tbody>\n",
       "</table>\n",
       "<p>88 rows × 3 columns</p>\n",
       "</div>"
      ],
      "text/plain": [
       "          Filename         X         Y \n",
       "0   left002013.png   614.9888  310.9888\n",
       "1   left002014.png  1217.1160  640.0326\n",
       "2   left002015.png  1182.1400  633.1618\n",
       "3   left002016.png  1217.6800  638.7149\n",
       "4   left002017.png  1255.0320  650.5364\n",
       "..             ...        ...       ...\n",
       "83  left002096.png  1257.8640  653.1398\n",
       "84  left002097.png  1217.0100  639.4898\n",
       "85  left002098.png  1182.6420  621.6260\n",
       "86  left002099.png  1216.6420  638.1291\n",
       "87  left002100.png  1260.2360  654.4953\n",
       "\n",
       "[88 rows x 3 columns]"
      ]
     },
     "execution_count": 56,
     "metadata": {},
     "output_type": "execute_result"
    }
   ],
   "source": [
    "df8 = pd.read_csv('ball_positionMay19.csv', sep=',', delimiter=None)\n",
    "df8"
   ]
  },
  {
   "cell_type": "code",
   "execution_count": null,
   "metadata": {},
   "outputs": [],
   "source": [
    "x8 = df8[' X ']\n",
    "y8 = df8['Y ']"
   ]
  },
  {
   "cell_type": "code",
   "execution_count": null,
   "metadata": {},
   "outputs": [
    {
     "data": {
      "image/png": "[encoded data removed]",
      "text/plain": [
       "<Figure size 640x480 with 1 Axes>"
      ]
     },
     "metadata": {},
     "output_type": "display_data"
    }
   ],
   "source": [
    "from matplotlib import markers\n",
    "plt.plot(x1, y1, marker='o', color='red', label='Ground Truth')\n",
    "plt.plot(x8, y8, marker='s', color='black', label='Pred Value')\n",
    "plt.xlabel('Width of the room in Pixels')\n",
    "plt.ylabel('Height of the room in Pixels')\n",
    "plt.legend()\n",
    "plt.show()"
   ]
  },
  {
   "cell_type": "code",
   "execution_count": null,
   "metadata": {},
   "outputs": [
    {
     "data": {
      "text/html": [
       "<div>\n",
       "<style scoped>\n",
       "    .dataframe tbody tr th:only-of-type {\n",
       "        vertical-align: middle;\n",
       "    }\n",
       "\n",
       "    .dataframe tbody tr th {\n",
       "        vertical-align: top;\n",
       "    }\n",
       "\n",
       "    .dataframe thead th {\n",
       "        text-align: right;\n",
       "    }\n",
       "</style>\n",
       "<table border=\"1\" class=\"dataframe\">\n",
       "  <thead>\n",
       "    <tr style=\"text-align: right;\">\n",
       "      <th></th>\n",
       "      <th>Filename</th>\n",
       "      <th>X</th>\n",
       "      <th>Y</th>\n",
       "    </tr>\n",
       "  </thead>\n",
       "  <tbody>\n",
       "    <tr>\n",
       "      <th>0</th>\n",
       "      <td>left002013.png</td>\n",
       "      <td>684.2086</td>\n",
       "      <td>443.2080</td>\n",
       "    </tr>\n",
       "    <tr>\n",
       "      <th>1</th>\n",
       "      <td>left002014.png</td>\n",
       "      <td>718.3962</td>\n",
       "      <td>436.7180</td>\n",
       "    </tr>\n",
       "    <tr>\n",
       "      <th>2</th>\n",
       "      <td>left002015.png</td>\n",
       "      <td>697.5818</td>\n",
       "      <td>429.4624</td>\n",
       "    </tr>\n",
       "    <tr>\n",
       "      <th>3</th>\n",
       "      <td>left002016.png</td>\n",
       "      <td>692.0303</td>\n",
       "      <td>424.4003</td>\n",
       "    </tr>\n",
       "    <tr>\n",
       "      <th>4</th>\n",
       "      <td>left002017.png</td>\n",
       "      <td>686.8663</td>\n",
       "      <td>418.1454</td>\n",
       "    </tr>\n",
       "    <tr>\n",
       "      <th>...</th>\n",
       "      <td>...</td>\n",
       "      <td>...</td>\n",
       "      <td>...</td>\n",
       "    </tr>\n",
       "    <tr>\n",
       "      <th>83</th>\n",
       "      <td>left002096.png</td>\n",
       "      <td>788.3943</td>\n",
       "      <td>450.9502</td>\n",
       "    </tr>\n",
       "    <tr>\n",
       "      <th>84</th>\n",
       "      <td>left002097.png</td>\n",
       "      <td>791.8370</td>\n",
       "      <td>446.2584</td>\n",
       "    </tr>\n",
       "    <tr>\n",
       "      <th>85</th>\n",
       "      <td>left002098.png</td>\n",
       "      <td>805.4787</td>\n",
       "      <td>472.4194</td>\n",
       "    </tr>\n",
       "    <tr>\n",
       "      <th>86</th>\n",
       "      <td>left002099.png</td>\n",
       "      <td>803.3620</td>\n",
       "      <td>455.4702</td>\n",
       "    </tr>\n",
       "    <tr>\n",
       "      <th>87</th>\n",
       "      <td>left002100.png</td>\n",
       "      <td>799.4245</td>\n",
       "      <td>472.3580</td>\n",
       "    </tr>\n",
       "  </tbody>\n",
       "</table>\n",
       "<p>88 rows × 3 columns</p>\n",
       "</div>"
      ],
      "text/plain": [
       "          Filename        X         Y \n",
       "0   left002013.png  684.2086  443.2080\n",
       "1   left002014.png  718.3962  436.7180\n",
       "2   left002015.png  697.5818  429.4624\n",
       "3   left002016.png  692.0303  424.4003\n",
       "4   left002017.png  686.8663  418.1454\n",
       "..             ...       ...       ...\n",
       "83  left002096.png  788.3943  450.9502\n",
       "84  left002097.png  791.8370  446.2584\n",
       "85  left002098.png  805.4787  472.4194\n",
       "86  left002099.png  803.3620  455.4702\n",
       "87  left002100.png  799.4245  472.3580\n",
       "\n",
       "[88 rows x 3 columns]"
      ]
     },
     "execution_count": 59,
     "metadata": {},
     "output_type": "execute_result"
    }
   ],
   "source": [
    "df9 = pd.read_csv('ball_position1.csv', sep=',', delimiter=None)\n",
    "df9"
   ]
  },
  {
   "cell_type": "code",
   "execution_count": null,
   "metadata": {},
   "outputs": [
    {
     "data": {
      "image/png": "[encoded data removed]",
      "text/plain": [
       "<Figure size 640x480 with 1 Axes>"
      ]
     },
     "metadata": {},
     "output_type": "display_data"
    }
   ],
   "source": [
    "#plot df9 with ground truth\n",
    "x9 = df9[' X ']\n",
    "y9 = df9['Y ']\n",
    "from matplotlib import markers\n",
    "plt.plot(x1, y1, marker='o', color='red', label='Ground Truth')\n",
    "plt.plot(x9, y9, marker='s', color='black', label='Pred Value')\n",
    "plt.xlabel('Width of the room in Pixels')\n",
    "plt.ylabel('Height of the room in Pixels')\n",
    "plt.legend()\n",
    "plt.show()"
   ]
  }
 ],
 "metadata": {
  "kernelspec": {
   "display_name": "Python 3",
   "language": "python",
   "name": "python3"
  },
  "language_info": {
   "codemirror_mode": {
    "name": "ipython",
    "version": 3
   },
   "file_extension": ".py",
   "mimetype": "text/x-python",
   "name": "python",
   "nbconvert_exporter": "python",
   "pygments_lexer": "ipython3",
   "version": "3.9.13"
  },
  "orig_nbformat": 4,
  "vscode": {
   "interpreter": {
    "hash": "9fabc9713aedfc16047da2bb50b014c91d1a014df217f900cf809c75e8b3fdbd"
   }
  }
 },
 "nbformat": 4,
 "nbformat_minor": 2
}
