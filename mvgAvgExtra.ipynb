{
 "cells": [
  {
   "cell_type": "code",
   "execution_count": 3,
   "metadata": {},
   "outputs": [],
   "source": [
    "import pandas as pd\n",
    "import numpy as np\n",
    "\n",
    "# Load the CSV file into a DataFrame\n",
    "df = pd.read_csv('img1248\\TestVid2_bytetrack.csv') #this file is output from actual yolo detection.\n",
    "\n",
    "# Define window size for moving average\n",
    "window = 5\n",
    "\n",
    "# Go through each row in the DataFrame\n",
    "for i in range(len(df)):\n",
    "    # Check for missing values in bbox_x and bbox_y\n",
    "    if pd.isna(df.loc[i, 'center_x']) or pd.isna(df.loc[i, 'center_y']):\n",
    "        # Calculate the moving average for x and y using the window of previous points\n",
    "        if i >= window:\n",
    "            df.loc[i, 'center_x'] = np.mean(df.loc[i-window:i, 'center_x'])\n",
    "            df.loc[i, 'center_y'] = np.mean(df.loc[i-window:i, 'center_y'])\n",
    "        else:\n",
    "            # If there are not enough previous points, take the average of all available\n",
    "            df.loc[i, 'center_x'] = np.mean(df.loc[0:i, 'center_x'])\n",
    "            df.loc[i, 'center_y'] = np.mean(df.loc[0:i, 'center_y'])\n",
    "\n",
    "# Save the DataFrame back to the CSV file\n",
    "df.to_csv('ByteTrackInstance2.csv', index=False)\n"
   ]
  },
  {
   "cell_type": "code",
   "execution_count": 1,
   "metadata": {},
   "outputs": [],
   "source": [
    "import pandas as pd\n",
    "import numpy as np\n",
    "#window size should be defined in a way that the moving average captures most recent data points.\n",
    "df2 = pd.read_csv('P:\\zed test\\FramesAnnotation\\Yolov5NewInstances\\Img3200Depth.csv')\n",
    "window = 3\n",
    "# pd.isna(df2.loc[i, 'x']) or pd.isna(df2.loc[i, 'y']) or\n",
    "for i in range(len(df2)):\n",
    "    if  pd.isna(df2.loc[i, 'x']) or pd.isna(df2.loc[i, 'y'])or pd.isna(df2.loc[i, 'z']):\n",
    "        if i >= window:\n",
    "            df2.loc[i, 'x'] = np.mean(df2.loc[i-window:i, 'x'])\n",
    "            df2.loc[i, 'y'] = np.mean(df2.loc[i-window:i, 'y'])\n",
    "            df2.loc[i, 'z'] = np.mean(df2.loc[i-window:i, 'z'])\n",
    "        else:\n",
    "            df2.loc[i, 'x'] = np.mean(df2.loc[0:i, 'x'])\n",
    "            df2.loc[i, 'y'] = np.mean(df2.loc[0:i, 'y'])\n",
    "            df2.loc[i, 'z'] = np.mean(df2.loc[0:i, 'z'])\n",
    "            \n",
    "df2.to_csv('Img3200MovinAvg.csv', index=False) #output file name -- coordinates2.csv"
   ]
  },
  {
   "cell_type": "code",
   "execution_count": null,
   "metadata": {},
   "outputs": [],
   "source": [
    "#plot the moving average\n",
    "import matplotlib.pyplot as plt"
   ]
  },
  {
   "cell_type": "code",
   "execution_count": 2,
   "metadata": {},
   "outputs": [],
   "source": [
    "#lets 3D plot the coordinates2.csv\n",
    "from matplotlib.pyplot import axis\n",
    "from mpl_toolkits import mplot3d\n",
    "from mpl_toolkits.mplot3d import Axes3D\n",
    "%matplotlib qt\n",
    "df3 = pd.read_csv('Img3200MovinAvg.csv')\n",
    "x = df3['x']\n",
    "y = df3['y']\n",
    "z = df3['z']\n",
    "import matplotlib.pyplot as plt\n",
    "from mpl_toolkits.mplot3d import Axes3D\n",
    "fig = plt.figure()\n",
    "ax = fig.add_subplot(111, projection='3d')\n",
    "# ax.scatter(x,y,z, c='black', marker='x')\n",
    "ax.scatter(x,y,z, c='black', marker='x')\n",
    "ax.invert_yaxis()\n",
    "ax.set_xlabel('X Label')\n",
    "ax.set_ylabel('Y label')\n",
    "ax.set_zlabel('Z label')\n",
    "plt.show()\n"
   ]
  }
 ],
 "metadata": {
  "kernelspec": {
   "display_name": "Python 3",
   "language": "python",
   "name": "python3"
  },
  "language_info": {
   "codemirror_mode": {
    "name": "ipython",
    "version": 3
   },
   "file_extension": ".py",
   "mimetype": "text/x-python",
   "name": "python",
   "nbconvert_exporter": "python",
   "pygments_lexer": "ipython3",
   "version": "3.9.13"
  },
  "orig_nbformat": 4
 },
 "nbformat": 4,
 "nbformat_minor": 2
}
