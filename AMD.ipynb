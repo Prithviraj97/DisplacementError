{
 "cells": [
  {
   "cell_type": "code",
   "execution_count": 1,
   "metadata": {},
   "outputs": [],
   "source": [
    "#Average Mahalanobis Distance \n",
    "import numpy as np\n",
    "from scipy.spatial.distance import mahalanobis"
   ]
  },
  {
   "cell_type": "code",
   "execution_count": 2,
   "metadata": {},
   "outputs": [],
   "source": [
    "def avg_mahalanobis_distance(predicted, ground_truth):\n",
    "    #here\n",
    "    predicted = np.array(predicted)\n",
    "    ground_truth = np.array(ground_truth)\n",
    "    mean_predicted = np.mean(predicted, axis=0)\n",
    "    mean_ground_truth = np.mean(ground_truth, axis=0)\n",
    "    cov_predicted = np.cov(predicted.T)\n",
    "    cov_ground_truth = np.cov(ground_truth.T)\n",
    "    inv_cov_predicted = np.linalg.inv(cov_predicted)\n",
    "    inv_cov_ground_truth = np.linalg.inv(cov_ground_truth)\n",
    "    error = 0\n",
    "    for i in range(len(predicted)):\n",
    "        error += mahalanobis(predicted[i], ground_truth[i], inv_cov_predicted + inv_cov_ground_truth)\n",
    "    return error / len(predicted)\n"
   ]
  },
  {
   "cell_type": "code",
   "execution_count": 15,
   "metadata": {},
   "outputs": [
    {
     "data": {
      "text/plain": [
       "3"
      ]
     },
     "execution_count": 15,
     "metadata": {},
     "output_type": "execute_result"
    }
   ],
   "source": [
    "len(pred)"
   ]
  },
  {
   "cell_type": "code",
   "execution_count": 13,
   "metadata": {},
   "outputs": [],
   "source": [
    "pred = [[90,64],[65,32], [96,68]]\n",
    "gt = [[92,80], [60,30],[100,70]]"
   ]
  },
  {
   "cell_type": "code",
   "execution_count": 14,
   "metadata": {},
   "outputs": [
    {
     "name": "stdout",
     "output_type": "stream",
     "text": [
      "4.27858489728556\n"
     ]
    }
   ],
   "source": [
    "err = avg_mahalanobis_distance(pred, gt)\n",
    "print(err)"
   ]
  },
  {
   "cell_type": "code",
   "execution_count": 7,
   "metadata": {},
   "outputs": [
    {
     "name": "stdout",
     "output_type": "stream",
     "text": [
      "5.370587172684321\n"
     ]
    }
   ],
   "source": [
    "predicted_coordinates = [[1.3, 2.4, 4.2], [3.12, 4.23, 3.1], [5.12, 6.6, 4.6], [7.5, 8.5, 6.7]]\n",
    "ground_truth_coordinates = [[2.0, 3.2, 4.0], [4.0, 5.3, 4.3], [6.2, 7.33, 4.5], [8.7, 9.2, 7.0]]\n",
    "\n",
    "# print(inv_cov_predicted)\n",
    "error = avg_mahalanobis_distance(predicted_coordinates, ground_truth_coordinates)\n",
    "print(error)\n"
   ]
  },
  {
   "cell_type": "code",
   "execution_count": 10,
   "metadata": {},
   "outputs": [
    {
     "data": {
      "text/plain": [
       "array([[ 0.0162037 , -0.01203704],\n",
       "       [-0.01203704,  0.01037037]])"
      ]
     },
     "execution_count": 10,
     "metadata": {},
     "output_type": "execute_result"
    }
   ],
   "source": [
    "from numpy.linalg import inv\n",
    "mat = [[448, 520],[520, 700]]\n",
    "mat_in = inv(mat)\n",
    "mat_in"
   ]
  },
  {
   "cell_type": "code",
   "execution_count": 16,
   "metadata": {},
   "outputs": [],
   "source": [
    "import numpy as np\n",
    "from numpy.linalg import inv\n",
    "\n",
    "def average_mahalanobis_distance(data, mean, cov):\n",
    "    # Calculate the inverse of the covariance matrix\n",
    "    cov_inv = inv(cov)\n",
    "\n",
    "    # Calculate the Mahalanobis distance for each data point\n",
    "    distances = []\n",
    "    for i in range(data.shape[0]):\n",
    "        diff = data[i,:] - mean\n",
    "        distance = np.dot(np.dot(diff, cov_inv), diff)\n",
    "        distances.append(distance)\n",
    "\n",
    "    # Calculate the average Mahalanobis distance\n",
    "    avg_distance = np.mean(distances)\n",
    "\n",
    "    return avg_distance\n"
   ]
  },
  {
   "cell_type": "code",
   "execution_count": 21,
   "metadata": {},
   "outputs": [
    {
     "ename": "TypeError",
     "evalue": "'builtin_function_or_method' object is not subscriptable",
     "output_type": "error",
     "traceback": [
      "\u001b[1;31m---------------------------------------------------------------------------\u001b[0m",
      "\u001b[1;31mTypeError\u001b[0m                                 Traceback (most recent call last)",
      "Cell \u001b[1;32mIn [21], line 2\u001b[0m\n\u001b[0;32m      1\u001b[0m data1 \u001b[39m=\u001b[39m np\u001b[39m.\u001b[39marray([\u001b[39m90\u001b[39m, \u001b[39m64\u001b[39m]) \u001b[39m#2x1\u001b[39;00m\n\u001b[1;32m----> 2\u001b[0m data2 \u001b[39m=\u001b[39m np\u001b[39m.\u001b[39;49marray[[\u001b[39m84\u001b[39;49m], [\u001b[39m60\u001b[39;49m]] \u001b[39m#1x2\u001b[39;00m\n\u001b[0;32m      3\u001b[0m average_mahalanobis_distance(data1, data2, mat_in)\n",
      "\u001b[1;31mTypeError\u001b[0m: 'builtin_function_or_method' object is not subscriptable"
     ]
    }
   ],
   "source": [
    "data1 = np.array([90, 64]) #2x1\n",
    "data2 = np.array[[84], [60]] #1x2\n",
    "average_mahalanobis_distance(data1, data2, mat_in)"
   ]
  },
  {
   "attachments": {},
   "cell_type": "markdown",
   "metadata": {},
   "source": [
    "A non-singular matrix is required to find the AMD. A matrix is singular iff its determinant is Zero. The prediction and ground truth trajectory data represented in matrix form must be able to be represented as square matrix with inverse possible. "
   ]
  },
  {
   "cell_type": "code",
   "execution_count": 17,
   "metadata": {},
   "outputs": [
    {
     "data": {
      "text/plain": [
       "2"
      ]
     },
     "execution_count": 17,
     "metadata": {},
     "output_type": "execute_result"
    }
   ],
   "source": [
    "np.linalg.matrix_rank(predicted_coordinates)"
   ]
  },
  {
   "cell_type": "code",
   "execution_count": 18,
   "metadata": {},
   "outputs": [
    {
     "data": {
      "text/plain": [
       "(4, 2)"
      ]
     },
     "execution_count": 18,
     "metadata": {},
     "output_type": "execute_result"
    }
   ],
   "source": [
    "p = np.array(predicted_coordinates)\n",
    "p.shape"
   ]
  },
  {
   "cell_type": "code",
   "execution_count": 19,
   "metadata": {},
   "outputs": [
    {
     "data": {
      "text/plain": [
       "array([[1.3 , 3.12, 5.12, 7.5 ],\n",
       "       [2.4 , 4.23, 6.6 , 8.5 ]])"
      ]
     },
     "execution_count": 19,
     "metadata": {},
     "output_type": "execute_result"
    }
   ],
   "source": [
    "p.T"
   ]
  },
  {
   "cell_type": "code",
   "execution_count": 20,
   "metadata": {},
   "outputs": [
    {
     "data": {
      "text/plain": [
       "array([[7.09946667, 7.0966    ],\n",
       "       [7.0966    , 7.138225  ]])"
      ]
     },
     "execution_count": 20,
     "metadata": {},
     "output_type": "execute_result"
    }
   ],
   "source": [
    "v = np.cov(p.T)\n",
    "v"
   ]
  },
  {
   "cell_type": "code",
   "execution_count": 21,
   "metadata": {},
   "outputs": [
    {
     "data": {
      "text/plain": [
       "array([[ 22.59941164, -22.46762811],\n",
       "       [-22.46762811,  22.47670389]])"
      ]
     },
     "execution_count": 21,
     "metadata": {},
     "output_type": "execute_result"
    }
   ],
   "source": [
    "np.linalg.inv(v)"
   ]
  },
  {
   "cell_type": "code",
   "execution_count": 29,
   "metadata": {},
   "outputs": [
    {
     "data": {
      "text/plain": [
       "(4, 2)"
      ]
     },
     "execution_count": 29,
     "metadata": {},
     "output_type": "execute_result"
    }
   ],
   "source": [
    "u = np.array(ground_truth_coordinates)\n",
    "u.shape"
   ]
  },
  {
   "cell_type": "code",
   "execution_count": 30,
   "metadata": {},
   "outputs": [
    {
     "data": {
      "text/plain": [
       "array([[2.  , 4.  , 6.2 , 8.7 ],\n",
       "       [3.2 , 5.3 , 7.33, 9.2 ]])"
      ]
     },
     "execution_count": 30,
     "metadata": {},
     "output_type": "execute_result"
    }
   ],
   "source": [
    "u.T"
   ]
  },
  {
   "cell_type": "code",
   "execution_count": 31,
   "metadata": {},
   "outputs": [
    {
     "data": {
      "text/plain": [
       "array([[8.30916667, 7.43475   ],\n",
       "       [7.43475   , 6.691225  ]])"
      ]
     },
     "execution_count": 31,
     "metadata": {},
     "output_type": "execute_result"
    }
   ],
   "source": [
    "x = np.cov(u.T)\n",
    "x"
   ]
  },
  {
   "cell_type": "code",
   "execution_count": null,
   "metadata": {},
   "outputs": [],
   "source": []
  }
 ],
 "metadata": {
  "kernelspec": {
   "display_name": "Python 3",
   "language": "python",
   "name": "python3"
  },
  "language_info": {
   "codemirror_mode": {
    "name": "ipython",
    "version": 3
   },
   "file_extension": ".py",
   "mimetype": "text/x-python",
   "name": "python",
   "nbconvert_exporter": "python",
   "pygments_lexer": "ipython3",
   "version": "3.9.13"
  },
  "orig_nbformat": 4,
  "vscode": {
   "interpreter": {
    "hash": "9fabc9713aedfc16047da2bb50b014c91d1a014df217f900cf809c75e8b3fdbd"
   }
  }
 },
 "nbformat": 4,
 "nbformat_minor": 2
}
